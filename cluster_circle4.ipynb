{
 "cells": [
  {
   "cell_type": "raw",
   "metadata": {},
   "source": [
    "High Value Customer Identification (Insiders)"
   ]
  },
  {
   "cell_type": "markdown",
   "metadata": {},
   "source": [
    "# 0.0 Solution Planning (IOT)"
   ]
  },
  {
   "cell_type": "markdown",
   "metadata": {},
   "source": [
    "## Input \n",
    "1. Business Issue\n",
    "    - Select the most valuable customers for a loyalty program.\n",
    "2. Dataset\n",
    "    - E-commerce sels online, during one year period."
   ]
  },
  {
   "cell_type": "markdown",
   "metadata": {},
   "source": [
    "## Output\n",
    "1. Recommendation list of customers the should be in Loyalty program.\n",
    "- List: client_id | is_insider\n",
    "\n",
    "2. Report with business answers:\n",
    "- 1. Who are eligible to participate the Insiders Program?\n",
    "- 2. How many customers will be part of the group?\n",
    "- 3. What are the mainly characteristics of there customers?\n",
    "- 4. What is the % of revenue coming of these customers?\n",
    "- 5. What's the revenue expectation for this group next month?\n",
    "- 6. What are the conditions for someone to be eligible for insiders?\n",
    "- 7. What are the conditions for someone to be removed from insiders?\n",
    "- 8. What is the guarantee that the Insiders program is best than the remaining base?\n",
    "- 9. What actions the marketing team can do for increasing the revenue?"
   ]
  },
  {
   "cell_type": "markdown",
   "metadata": {},
   "source": [
    "## Tasks"
   ]
  },
  {
   "cell_type": "markdown",
   "metadata": {},
   "source": [
    "1. Report with business answers:\n",
    "- 1. Who are eligible to participate the Insiders Program?\n",
    "    - What is being eligible? What are the most valuable customers?\n",
    "        - Cost:\n",
    "        - Buy Experience\n",
    "        - Basket Size\n",
    "        - High buy likely\n",
    "        - Low devolution rate.\n",
    "- 2. How many customers will be part of the group?\n",
    "    - Total number of customers\n",
    "    - % of Insiders Group\n",
    "- 3. What are the mainly characteristics of there customers?\n",
    "    - Write customers characteristics:\n",
    "        - Age\n",
    "        - Localization\n",
    "    - Write consuming characteristics:\n",
    "        - Clustering Features\n",
    "\n",
    "- 4. What is the % of revenue coming of these customers?\n",
    "    - Total Revenue vs Insiders Group Revenue\n",
    "- 5. What's the revenue expectation for this group next month?\n",
    "    - Insiders Group LTV\n",
    "    - Cohort Analysis \n",
    "\n",
    "- 6. What are the conditions for someone to be eligible for insiders?\n",
    "    - Define the Insiders update periodicity  \n",
    "    - The customers needs to be lookalike someone of the Insiders group.\n",
    "\n",
    "\n",
    "- 7. What are the conditions for someone to be removed from insiders?\n",
    "    - Define the Insiders update periodicity  \n",
    "    - The customers needs to be unlookalike someone of the Insiders group.   \n",
    "\n",
    "\n",
    "- 8. What is the guarantee that the Insiders program is best than the remaining base?\n",
    "    - A/B test\n",
    "    - A/B Bayesian test\n",
    "    - Hypotesis Test\n",
    "\n",
    "\n",
    "- 9. What actions the marketing team can do for increasing the revenue?\n",
    "    - Discount\n",
    "    - New products\n",
    "    - New employees"
   ]
  },
  {
   "cell_type": "markdown",
   "metadata": {},
   "source": [
    "## Solutions Benchmark\n",
    "1. Desk Research"
   ]
  },
  {
   "cell_type": "markdown",
   "metadata": {},
   "source": [
    "## 0.1 Import libraries"
   ]
  },
  {
   "cell_type": "code",
   "execution_count": 74,
   "metadata": {},
   "outputs": [],
   "source": [
    "\n",
    "\n",
    "import pandas as pd\n",
    "import seaborn as sns\n",
    "import numpy as np\n",
    "import re\n",
    "from pandas_profiling import ProfileReport\n",
    "import umap.umap_ as umap\n",
    "import matplotlib.pyplot as plt\n",
    "from sklearn import cluster as c \n",
    "from sklearn import metrics as m\n",
    "from yellowbrick.cluster import KElbowVisualizer, SilhouetteVisualizer\n",
    "import matplotlib.gridspec as gridspec\n",
    "from plotly import express as px\n",
    "\n",
    "%matplotlib inline\n",
    "\n",
    "\n",
    "plt.rcParams[\"figure.figsize\"] = (15,8)\n"
   ]
  },
  {
   "cell_type": "markdown",
   "metadata": {},
   "source": [
    "## 0.2 Load dataset"
   ]
  },
  {
   "cell_type": "code",
   "execution_count": 2,
   "metadata": {},
   "outputs": [
    {
     "data": {
      "text/html": [
       "<div>\n",
       "<style scoped>\n",
       "    .dataframe tbody tr th:only-of-type {\n",
       "        vertical-align: middle;\n",
       "    }\n",
       "\n",
       "    .dataframe tbody tr th {\n",
       "        vertical-align: top;\n",
       "    }\n",
       "\n",
       "    .dataframe thead th {\n",
       "        text-align: right;\n",
       "    }\n",
       "</style>\n",
       "<table border=\"1\" class=\"dataframe\">\n",
       "  <thead>\n",
       "    <tr style=\"text-align: right;\">\n",
       "      <th></th>\n",
       "      <th>invoiceno</th>\n",
       "      <th>stockcode</th>\n",
       "      <th>description</th>\n",
       "      <th>quantity</th>\n",
       "      <th>invoicedate</th>\n",
       "      <th>unitprice</th>\n",
       "      <th>customerid</th>\n",
       "      <th>country</th>\n",
       "    </tr>\n",
       "  </thead>\n",
       "  <tbody>\n",
       "    <tr>\n",
       "      <th>0</th>\n",
       "      <td>536365</td>\n",
       "      <td>85123A</td>\n",
       "      <td>WHITE HANGING HEART T-LIGHT HOLDER</td>\n",
       "      <td>6</td>\n",
       "      <td>12/1/2010 8:26</td>\n",
       "      <td>2.55</td>\n",
       "      <td>17850.0</td>\n",
       "      <td>United Kingdom</td>\n",
       "    </tr>\n",
       "    <tr>\n",
       "      <th>1</th>\n",
       "      <td>536365</td>\n",
       "      <td>71053</td>\n",
       "      <td>WHITE METAL LANTERN</td>\n",
       "      <td>6</td>\n",
       "      <td>12/1/2010 8:26</td>\n",
       "      <td>3.39</td>\n",
       "      <td>17850.0</td>\n",
       "      <td>United Kingdom</td>\n",
       "    </tr>\n",
       "    <tr>\n",
       "      <th>2</th>\n",
       "      <td>536365</td>\n",
       "      <td>84406B</td>\n",
       "      <td>CREAM CUPID HEARTS COAT HANGER</td>\n",
       "      <td>8</td>\n",
       "      <td>12/1/2010 8:26</td>\n",
       "      <td>2.75</td>\n",
       "      <td>17850.0</td>\n",
       "      <td>United Kingdom</td>\n",
       "    </tr>\n",
       "  </tbody>\n",
       "</table>\n",
       "</div>"
      ],
      "text/plain": [
       "  invoiceno stockcode                         description  quantity  \\\n",
       "0    536365    85123A  WHITE HANGING HEART T-LIGHT HOLDER         6   \n",
       "1    536365     71053                 WHITE METAL LANTERN         6   \n",
       "2    536365    84406B      CREAM CUPID HEARTS COAT HANGER         8   \n",
       "\n",
       "      invoicedate  unitprice  customerid         country  \n",
       "0  12/1/2010 8:26       2.55     17850.0  United Kingdom  \n",
       "1  12/1/2010 8:26       3.39     17850.0  United Kingdom  \n",
       "2  12/1/2010 8:26       2.75     17850.0  United Kingdom  "
      ]
     },
     "execution_count": 2,
     "metadata": {},
     "output_type": "execute_result"
    }
   ],
   "source": [
    "df0 = pd.read_csv('data.csv', encoding='latin1')\n",
    "df0.columns=df0.columns.str.lower()\n",
    "df0.head(3)"
   ]
  },
  {
   "cell_type": "markdown",
   "metadata": {},
   "source": [
    "# 1.0 Data Description"
   ]
  },
  {
   "cell_type": "code",
   "execution_count": 3,
   "metadata": {},
   "outputs": [],
   "source": [
    "df1=df0.copy()"
   ]
  },
  {
   "cell_type": "markdown",
   "metadata": {},
   "source": [
    "## 1.1 data dimensions"
   ]
  },
  {
   "cell_type": "code",
   "execution_count": 4,
   "metadata": {},
   "outputs": [
    {
     "data": {
      "text/plain": [
       "(541909, 8)"
      ]
     },
     "execution_count": 4,
     "metadata": {},
     "output_type": "execute_result"
    }
   ],
   "source": [
    "df1.shape"
   ]
  },
  {
   "cell_type": "markdown",
   "metadata": {},
   "source": [
    "## 1.2 N/As treatment"
   ]
  },
  {
   "cell_type": "code",
   "execution_count": 5,
   "metadata": {},
   "outputs": [
    {
     "data": {
      "text/plain": [
       "invoiceno      0.000000\n",
       "stockcode      0.000000\n",
       "description    0.002683\n",
       "quantity       0.000000\n",
       "invoicedate    0.000000\n",
       "unitprice      0.000000\n",
       "customerid     0.249267\n",
       "country        0.000000\n",
       "dtype: float64"
      ]
     },
     "execution_count": 5,
     "metadata": {},
     "output_type": "execute_result"
    }
   ],
   "source": [
    "df1.isna().sum()/len(df1)"
   ]
  },
  {
   "cell_type": "code",
   "execution_count": 6,
   "metadata": {},
   "outputs": [
    {
     "data": {
      "text/plain": [
       "(0, 8)"
      ]
     },
     "execution_count": 6,
     "metadata": {},
     "output_type": "execute_result"
    }
   ],
   "source": [
    "df_missing=df1[df1['customerid'].isna()]\n",
    "df_not_missing=df1[~df1['customerid'].isna()]\n",
    "df_missing[df_missing['invoiceno'].isin(df_not_missing['invoiceno'])].shape"
   ]
  },
  {
   "cell_type": "code",
   "execution_count": 7,
   "metadata": {},
   "outputs": [
    {
     "data": {
      "text/plain": [
       "invoiceno         0\n",
       "stockcode         0\n",
       "description    1454\n",
       "quantity          0\n",
       "invoicedate       0\n",
       "unitprice         0\n",
       "country           0\n",
       "customerid        0\n",
       "dtype: int64"
      ]
     },
     "execution_count": 7,
     "metadata": {},
     "output_type": "execute_result"
    }
   ],
   "source": [
    "# create reference\n",
    "df_backup = pd.DataFrame( df_missing['invoiceno'].drop_duplicates())\n",
    "df_backup['customerid']=np.arange(80000, 80000+len( df_backup ), 1)\n",
    "\n",
    "# merge original with reference datafarme\n",
    "df1 = df1.merge(df_backup, on='invoiceno', how='left')\n",
    "\n",
    "#coalesce\n",
    "df1['customerid']=df1['customerid_x'].combine_first( df1['customerid_y'])\n",
    "\n",
    "#drop extra columns\n",
    "df1 = df1.drop( columns=['customerid_x','customerid_y'], axis=1)\n",
    "\n",
    "df1.isna().sum()"
   ]
  },
  {
   "cell_type": "raw",
   "metadata": {},
   "source": [
    "# remove na\n",
    "df1 = df1.dropna( subset=['description','customerid'])\n",
    "print( 1-(len(df1)/len(df0)))"
   ]
  },
  {
   "cell_type": "code",
   "execution_count": 8,
   "metadata": {},
   "outputs": [
    {
     "data": {
      "text/plain": [
       "invoiceno         0\n",
       "stockcode         0\n",
       "description    1454\n",
       "quantity          0\n",
       "invoicedate       0\n",
       "unitprice         0\n",
       "country           0\n",
       "customerid        0\n",
       "dtype: int64"
      ]
     },
     "execution_count": 8,
     "metadata": {},
     "output_type": "execute_result"
    }
   ],
   "source": [
    "df1.isna().sum()"
   ]
  },
  {
   "cell_type": "markdown",
   "metadata": {},
   "source": [
    "## 1.3 data types treatment"
   ]
  },
  {
   "cell_type": "code",
   "execution_count": 9,
   "metadata": {},
   "outputs": [
    {
     "data": {
      "text/plain": [
       "invoiceno       object\n",
       "stockcode       object\n",
       "description     object\n",
       "quantity         int64\n",
       "invoicedate     object\n",
       "unitprice      float64\n",
       "country         object\n",
       "customerid     float64\n",
       "dtype: object"
      ]
     },
     "execution_count": 9,
     "metadata": {},
     "output_type": "execute_result"
    }
   ],
   "source": [
    "df1.dtypes"
   ]
  },
  {
   "cell_type": "code",
   "execution_count": 10,
   "metadata": {},
   "outputs": [
    {
     "data": {
      "text/html": [
       "<div>\n",
       "<style scoped>\n",
       "    .dataframe tbody tr th:only-of-type {\n",
       "        vertical-align: middle;\n",
       "    }\n",
       "\n",
       "    .dataframe tbody tr th {\n",
       "        vertical-align: top;\n",
       "    }\n",
       "\n",
       "    .dataframe thead th {\n",
       "        text-align: right;\n",
       "    }\n",
       "</style>\n",
       "<table border=\"1\" class=\"dataframe\">\n",
       "  <thead>\n",
       "    <tr style=\"text-align: right;\">\n",
       "      <th></th>\n",
       "      <th>invoiceno</th>\n",
       "      <th>stockcode</th>\n",
       "      <th>description</th>\n",
       "      <th>quantity</th>\n",
       "      <th>invoicedate</th>\n",
       "      <th>unitprice</th>\n",
       "      <th>country</th>\n",
       "      <th>customerid</th>\n",
       "    </tr>\n",
       "  </thead>\n",
       "  <tbody>\n",
       "    <tr>\n",
       "      <th>0</th>\n",
       "      <td>536365</td>\n",
       "      <td>85123A</td>\n",
       "      <td>WHITE HANGING HEART T-LIGHT HOLDER</td>\n",
       "      <td>6</td>\n",
       "      <td>12/1/2010 8:26</td>\n",
       "      <td>2.55</td>\n",
       "      <td>United Kingdom</td>\n",
       "      <td>17850.0</td>\n",
       "    </tr>\n",
       "    <tr>\n",
       "      <th>1</th>\n",
       "      <td>536365</td>\n",
       "      <td>71053</td>\n",
       "      <td>WHITE METAL LANTERN</td>\n",
       "      <td>6</td>\n",
       "      <td>12/1/2010 8:26</td>\n",
       "      <td>3.39</td>\n",
       "      <td>United Kingdom</td>\n",
       "      <td>17850.0</td>\n",
       "    </tr>\n",
       "    <tr>\n",
       "      <th>2</th>\n",
       "      <td>536365</td>\n",
       "      <td>84406B</td>\n",
       "      <td>CREAM CUPID HEARTS COAT HANGER</td>\n",
       "      <td>8</td>\n",
       "      <td>12/1/2010 8:26</td>\n",
       "      <td>2.75</td>\n",
       "      <td>United Kingdom</td>\n",
       "      <td>17850.0</td>\n",
       "    </tr>\n",
       "  </tbody>\n",
       "</table>\n",
       "</div>"
      ],
      "text/plain": [
       "  invoiceno stockcode                         description  quantity  \\\n",
       "0    536365    85123A  WHITE HANGING HEART T-LIGHT HOLDER         6   \n",
       "1    536365     71053                 WHITE METAL LANTERN         6   \n",
       "2    536365    84406B      CREAM CUPID HEARTS COAT HANGER         8   \n",
       "\n",
       "      invoicedate  unitprice         country  customerid  \n",
       "0  12/1/2010 8:26       2.55  United Kingdom     17850.0  \n",
       "1  12/1/2010 8:26       3.39  United Kingdom     17850.0  \n",
       "2  12/1/2010 8:26       2.75  United Kingdom     17850.0  "
      ]
     },
     "execution_count": 10,
     "metadata": {},
     "output_type": "execute_result"
    }
   ],
   "source": [
    "df1.head(3)"
   ]
  },
  {
   "cell_type": "code",
   "execution_count": 11,
   "metadata": {},
   "outputs": [
    {
     "data": {
      "text/html": [
       "<div>\n",
       "<style scoped>\n",
       "    .dataframe tbody tr th:only-of-type {\n",
       "        vertical-align: middle;\n",
       "    }\n",
       "\n",
       "    .dataframe tbody tr th {\n",
       "        vertical-align: top;\n",
       "    }\n",
       "\n",
       "    .dataframe thead th {\n",
       "        text-align: right;\n",
       "    }\n",
       "</style>\n",
       "<table border=\"1\" class=\"dataframe\">\n",
       "  <thead>\n",
       "    <tr style=\"text-align: right;\">\n",
       "      <th></th>\n",
       "      <th>invoiceno</th>\n",
       "      <th>stockcode</th>\n",
       "      <th>description</th>\n",
       "      <th>quantity</th>\n",
       "      <th>invoicedate</th>\n",
       "      <th>unitprice</th>\n",
       "      <th>country</th>\n",
       "      <th>customerid</th>\n",
       "    </tr>\n",
       "  </thead>\n",
       "  <tbody>\n",
       "    <tr>\n",
       "      <th>0</th>\n",
       "      <td>536365</td>\n",
       "      <td>85123A</td>\n",
       "      <td>WHITE HANGING HEART T-LIGHT HOLDER</td>\n",
       "      <td>6</td>\n",
       "      <td>12/1/2010</td>\n",
       "      <td>2.55</td>\n",
       "      <td>United Kingdom</td>\n",
       "      <td>17850.0</td>\n",
       "    </tr>\n",
       "    <tr>\n",
       "      <th>1</th>\n",
       "      <td>536365</td>\n",
       "      <td>71053</td>\n",
       "      <td>WHITE METAL LANTERN</td>\n",
       "      <td>6</td>\n",
       "      <td>12/1/2010</td>\n",
       "      <td>3.39</td>\n",
       "      <td>United Kingdom</td>\n",
       "      <td>17850.0</td>\n",
       "    </tr>\n",
       "    <tr>\n",
       "      <th>2</th>\n",
       "      <td>536365</td>\n",
       "      <td>84406B</td>\n",
       "      <td>CREAM CUPID HEARTS COAT HANGER</td>\n",
       "      <td>8</td>\n",
       "      <td>12/1/2010</td>\n",
       "      <td>2.75</td>\n",
       "      <td>United Kingdom</td>\n",
       "      <td>17850.0</td>\n",
       "    </tr>\n",
       "    <tr>\n",
       "      <th>3</th>\n",
       "      <td>536365</td>\n",
       "      <td>84029G</td>\n",
       "      <td>KNITTED UNION FLAG HOT WATER BOTTLE</td>\n",
       "      <td>6</td>\n",
       "      <td>12/1/2010</td>\n",
       "      <td>3.39</td>\n",
       "      <td>United Kingdom</td>\n",
       "      <td>17850.0</td>\n",
       "    </tr>\n",
       "    <tr>\n",
       "      <th>4</th>\n",
       "      <td>536365</td>\n",
       "      <td>84029E</td>\n",
       "      <td>RED WOOLLY HOTTIE WHITE HEART.</td>\n",
       "      <td>6</td>\n",
       "      <td>12/1/2010</td>\n",
       "      <td>3.39</td>\n",
       "      <td>United Kingdom</td>\n",
       "      <td>17850.0</td>\n",
       "    </tr>\n",
       "  </tbody>\n",
       "</table>\n",
       "</div>"
      ],
      "text/plain": [
       "  invoiceno stockcode                          description  quantity  \\\n",
       "0    536365    85123A   WHITE HANGING HEART T-LIGHT HOLDER         6   \n",
       "1    536365     71053                  WHITE METAL LANTERN         6   \n",
       "2    536365    84406B       CREAM CUPID HEARTS COAT HANGER         8   \n",
       "3    536365    84029G  KNITTED UNION FLAG HOT WATER BOTTLE         6   \n",
       "4    536365    84029E       RED WOOLLY HOTTIE WHITE HEART.         6   \n",
       "\n",
       "  invoicedate  unitprice         country  customerid  \n",
       "0   12/1/2010       2.55  United Kingdom     17850.0  \n",
       "1   12/1/2010       3.39  United Kingdom     17850.0  \n",
       "2   12/1/2010       2.75  United Kingdom     17850.0  \n",
       "3   12/1/2010       3.39  United Kingdom     17850.0  \n",
       "4   12/1/2010       3.39  United Kingdom     17850.0  "
      ]
     },
     "execution_count": 11,
     "metadata": {},
     "output_type": "execute_result"
    }
   ],
   "source": [
    "df1['invoicedate']=df1['invoicedate'].str.split(expand=True)[0]\n",
    "df1.head()"
   ]
  },
  {
   "cell_type": "code",
   "execution_count": 12,
   "metadata": {},
   "outputs": [
    {
     "data": {
      "text/html": [
       "<div>\n",
       "<style scoped>\n",
       "    .dataframe tbody tr th:only-of-type {\n",
       "        vertical-align: middle;\n",
       "    }\n",
       "\n",
       "    .dataframe tbody tr th {\n",
       "        vertical-align: top;\n",
       "    }\n",
       "\n",
       "    .dataframe thead th {\n",
       "        text-align: right;\n",
       "    }\n",
       "</style>\n",
       "<table border=\"1\" class=\"dataframe\">\n",
       "  <thead>\n",
       "    <tr style=\"text-align: right;\">\n",
       "      <th></th>\n",
       "      <th>invoiceno</th>\n",
       "      <th>stockcode</th>\n",
       "      <th>description</th>\n",
       "      <th>quantity</th>\n",
       "      <th>invoicedate</th>\n",
       "      <th>unitprice</th>\n",
       "      <th>country</th>\n",
       "      <th>customerid</th>\n",
       "    </tr>\n",
       "  </thead>\n",
       "  <tbody>\n",
       "    <tr>\n",
       "      <th>0</th>\n",
       "      <td>536365</td>\n",
       "      <td>85123A</td>\n",
       "      <td>WHITE HANGING HEART T-LIGHT HOLDER</td>\n",
       "      <td>6</td>\n",
       "      <td>2010-12-01</td>\n",
       "      <td>2.55</td>\n",
       "      <td>United Kingdom</td>\n",
       "      <td>17850</td>\n",
       "    </tr>\n",
       "    <tr>\n",
       "      <th>1</th>\n",
       "      <td>536365</td>\n",
       "      <td>71053</td>\n",
       "      <td>WHITE METAL LANTERN</td>\n",
       "      <td>6</td>\n",
       "      <td>2010-12-01</td>\n",
       "      <td>3.39</td>\n",
       "      <td>United Kingdom</td>\n",
       "      <td>17850</td>\n",
       "    </tr>\n",
       "    <tr>\n",
       "      <th>2</th>\n",
       "      <td>536365</td>\n",
       "      <td>84406B</td>\n",
       "      <td>CREAM CUPID HEARTS COAT HANGER</td>\n",
       "      <td>8</td>\n",
       "      <td>2010-12-01</td>\n",
       "      <td>2.75</td>\n",
       "      <td>United Kingdom</td>\n",
       "      <td>17850</td>\n",
       "    </tr>\n",
       "    <tr>\n",
       "      <th>3</th>\n",
       "      <td>536365</td>\n",
       "      <td>84029G</td>\n",
       "      <td>KNITTED UNION FLAG HOT WATER BOTTLE</td>\n",
       "      <td>6</td>\n",
       "      <td>2010-12-01</td>\n",
       "      <td>3.39</td>\n",
       "      <td>United Kingdom</td>\n",
       "      <td>17850</td>\n",
       "    </tr>\n",
       "    <tr>\n",
       "      <th>4</th>\n",
       "      <td>536365</td>\n",
       "      <td>84029E</td>\n",
       "      <td>RED WOOLLY HOTTIE WHITE HEART.</td>\n",
       "      <td>6</td>\n",
       "      <td>2010-12-01</td>\n",
       "      <td>3.39</td>\n",
       "      <td>United Kingdom</td>\n",
       "      <td>17850</td>\n",
       "    </tr>\n",
       "  </tbody>\n",
       "</table>\n",
       "</div>"
      ],
      "text/plain": [
       "  invoiceno stockcode                          description  quantity  \\\n",
       "0    536365    85123A   WHITE HANGING HEART T-LIGHT HOLDER         6   \n",
       "1    536365     71053                  WHITE METAL LANTERN         6   \n",
       "2    536365    84406B       CREAM CUPID HEARTS COAT HANGER         8   \n",
       "3    536365    84029G  KNITTED UNION FLAG HOT WATER BOTTLE         6   \n",
       "4    536365    84029E       RED WOOLLY HOTTIE WHITE HEART.         6   \n",
       "\n",
       "  invoicedate  unitprice         country  customerid  \n",
       "0  2010-12-01       2.55  United Kingdom       17850  \n",
       "1  2010-12-01       3.39  United Kingdom       17850  \n",
       "2  2010-12-01       2.75  United Kingdom       17850  \n",
       "3  2010-12-01       3.39  United Kingdom       17850  \n",
       "4  2010-12-01       3.39  United Kingdom       17850  "
      ]
     },
     "execution_count": 12,
     "metadata": {},
     "output_type": "execute_result"
    }
   ],
   "source": [
    "#invoice date\n",
    "df1['invoicedate'] = pd.to_datetime( df1['invoicedate'], format=\"%m/%d/%Y\",errors='coerce')\n",
    "\n",
    "df1['customerid']=df1['customerid'].astype(int)\n",
    "df1.head()"
   ]
  },
  {
   "cell_type": "markdown",
   "metadata": {},
   "source": [
    "## 1.4 descriptive statistics - numeric"
   ]
  },
  {
   "cell_type": "code",
   "execution_count": 13,
   "metadata": {},
   "outputs": [],
   "source": [
    "num_attributes = df1.select_dtypes(include=['int64','float64','int32'])\n",
    "cat_attributes = df1.select_dtypes(exclude=['int64','float64','datetime64[ns]'])"
   ]
  },
  {
   "cell_type": "code",
   "execution_count": 14,
   "metadata": {},
   "outputs": [
    {
     "data": {
      "text/html": [
       "<div>\n",
       "<style scoped>\n",
       "    .dataframe tbody tr th:only-of-type {\n",
       "        vertical-align: middle;\n",
       "    }\n",
       "\n",
       "    .dataframe tbody tr th {\n",
       "        vertical-align: top;\n",
       "    }\n",
       "\n",
       "    .dataframe thead th {\n",
       "        text-align: right;\n",
       "    }\n",
       "</style>\n",
       "<table border=\"1\" class=\"dataframe\">\n",
       "  <thead>\n",
       "    <tr style=\"text-align: right;\">\n",
       "      <th></th>\n",
       "      <th>count</th>\n",
       "      <th>mean</th>\n",
       "      <th>std</th>\n",
       "      <th>min</th>\n",
       "      <th>50%</th>\n",
       "      <th>max</th>\n",
       "      <th>skew</th>\n",
       "      <th>kurtosis</th>\n",
       "    </tr>\n",
       "  </thead>\n",
       "  <tbody>\n",
       "    <tr>\n",
       "      <th>quantity</th>\n",
       "      <td>541909.0</td>\n",
       "      <td>9.552250</td>\n",
       "      <td>218.081158</td>\n",
       "      <td>-80995.00</td>\n",
       "      <td>3.00</td>\n",
       "      <td>80995.0</td>\n",
       "      <td>-0.264076</td>\n",
       "      <td>119769.160031</td>\n",
       "    </tr>\n",
       "    <tr>\n",
       "      <th>unitprice</th>\n",
       "      <td>541909.0</td>\n",
       "      <td>4.611114</td>\n",
       "      <td>96.759853</td>\n",
       "      <td>-11062.06</td>\n",
       "      <td>2.08</td>\n",
       "      <td>38970.0</td>\n",
       "      <td>186.506972</td>\n",
       "      <td>59005.719097</td>\n",
       "    </tr>\n",
       "    <tr>\n",
       "      <th>customerid</th>\n",
       "      <td>541909.0</td>\n",
       "      <td>31894.123997</td>\n",
       "      <td>28863.991573</td>\n",
       "      <td>12346.00</td>\n",
       "      <td>16249.00</td>\n",
       "      <td>83709.0</td>\n",
       "      <td>1.151555</td>\n",
       "      <td>-0.657583</td>\n",
       "    </tr>\n",
       "  </tbody>\n",
       "</table>\n",
       "</div>"
      ],
      "text/plain": [
       "               count          mean           std       min       50%      max  \\\n",
       "quantity    541909.0      9.552250    218.081158 -80995.00      3.00  80995.0   \n",
       "unitprice   541909.0      4.611114     96.759853 -11062.06      2.08  38970.0   \n",
       "customerid  541909.0  31894.123997  28863.991573  12346.00  16249.00  83709.0   \n",
       "\n",
       "                  skew       kurtosis  \n",
       "quantity     -0.264076  119769.160031  \n",
       "unitprice   186.506972   59005.719097  \n",
       "customerid    1.151555      -0.657583  "
      ]
     },
     "execution_count": 14,
     "metadata": {},
     "output_type": "execute_result"
    }
   ],
   "source": [
    "pd.concat([num_attributes.describe(percentiles=[.5]).T,num_attributes.agg(['skew','kurtosis']).T],axis=1)"
   ]
  },
  {
   "cell_type": "markdown",
   "metadata": {},
   "source": [
    "### 1.4.1 quantity"
   ]
  },
  {
   "cell_type": "code",
   "execution_count": 15,
   "metadata": {},
   "outputs": [
    {
     "name": "stdout",
     "output_type": "stream",
     "text": [
      "141    -1\n",
      "154    -1\n",
      "235   -12\n",
      "Name: quantity, dtype: int64\n",
      "There is 0.019604767590130447 negative quantity\n"
     ]
    }
   ],
   "source": [
    "#how many negative quantities there is?\n",
    "\n",
    "aux0=num_attributes[num_attributes['quantity']<0]\n",
    "print(aux0['quantity'].head(3))\n",
    "print(f\"There is {len(aux0)/len(num_attributes)} negative quantity\")\n",
    "# Because it has less than  2% of negative quantity, in this Crisp-DM circle all negatives prices will be dropped\n"
   ]
  },
  {
   "cell_type": "markdown",
   "metadata": {},
   "source": [
    "### 1.4.2 unit price"
   ]
  },
  {
   "cell_type": "code",
   "execution_count": 16,
   "metadata": {},
   "outputs": [
    {
     "name": "stdout",
     "output_type": "stream",
     "text": [
      "622     0.0\n",
      "1970    0.0\n",
      "1971    0.0\n",
      "Name: unitprice, dtype: float64\n",
      "There is 0.004641000610803659 0 quantity\n"
     ]
    }
   ],
   "source": [
    "# inspect unitprice equal zero\n",
    "aux0=num_attributes[num_attributes['unitprice']==0]\n",
    "print(aux0['unitprice'].head(3))\n",
    "print(f\"There is {len(aux0)/len(num_attributes)} 0 quantity\")\n",
    "\n",
    "# Because it has less than  1% of negative unit price, in this Crisp-DM circle all negatives prices will be dropped"
   ]
  },
  {
   "cell_type": "markdown",
   "metadata": {},
   "source": [
    "## 1.5 descriptive statistics - categoric"
   ]
  },
  {
   "cell_type": "code",
   "execution_count": 17,
   "metadata": {},
   "outputs": [
    {
     "data": {
      "text/html": [
       "<div>\n",
       "<style scoped>\n",
       "    .dataframe tbody tr th:only-of-type {\n",
       "        vertical-align: middle;\n",
       "    }\n",
       "\n",
       "    .dataframe tbody tr th {\n",
       "        vertical-align: top;\n",
       "    }\n",
       "\n",
       "    .dataframe thead th {\n",
       "        text-align: right;\n",
       "    }\n",
       "</style>\n",
       "<table border=\"1\" class=\"dataframe\">\n",
       "  <thead>\n",
       "    <tr style=\"text-align: right;\">\n",
       "      <th></th>\n",
       "      <th>invoiceno</th>\n",
       "      <th>stockcode</th>\n",
       "      <th>description</th>\n",
       "      <th>country</th>\n",
       "      <th>customerid</th>\n",
       "    </tr>\n",
       "  </thead>\n",
       "  <tbody>\n",
       "    <tr>\n",
       "      <th>0</th>\n",
       "      <td>536365</td>\n",
       "      <td>85123A</td>\n",
       "      <td>WHITE HANGING HEART T-LIGHT HOLDER</td>\n",
       "      <td>United Kingdom</td>\n",
       "      <td>17850</td>\n",
       "    </tr>\n",
       "  </tbody>\n",
       "</table>\n",
       "</div>"
      ],
      "text/plain": [
       "  invoiceno stockcode                         description         country  \\\n",
       "0    536365    85123A  WHITE HANGING HEART T-LIGHT HOLDER  United Kingdom   \n",
       "\n",
       "   customerid  \n",
       "0       17850  "
      ]
     },
     "execution_count": 17,
     "metadata": {},
     "output_type": "execute_result"
    }
   ],
   "source": [
    "cat_attributes.head(1)"
   ]
  },
  {
   "cell_type": "markdown",
   "metadata": {},
   "source": [
    "### 1.5.1 Invoice"
   ]
  },
  {
   "cell_type": "code",
   "execution_count": 18,
   "metadata": {},
   "outputs": [
    {
     "name": "stdout",
     "output_type": "stream",
     "text": [
      "141    C536379\n",
      "154    C536383\n",
      "235    C536391\n",
      "Name: invoiceno, dtype: object\n",
      "There is 0.017144944999990773 invoices with letters\n"
     ]
    }
   ],
   "source": [
    "#How many invoices with letters there is?\n",
    "\n",
    "aux0=cat_attributes[cat_attributes['invoiceno'].str.contains('[^0-9]+', na=False)]\n",
    "print(aux0['invoiceno'].head(3))\n",
    "print(f\"There is {len(aux0)/len(cat_attributes)} invoices with letters\")\n",
    "\n",
    "# Because it has only 2% of stock codes with letters-only, in this Crisp-DM circle it will be dropped\n"
   ]
  },
  {
   "cell_type": "markdown",
   "metadata": {},
   "source": [
    "### 1.5.2 stockcodes"
   ]
  },
  {
   "cell_type": "code",
   "execution_count": 19,
   "metadata": {},
   "outputs": [
    {
     "name": "stdout",
     "output_type": "stream",
     "text": [
      "0    85123A\n",
      "2    84406B\n",
      "3    84029G\n",
      "Name: stockcode, dtype: object 0.10125869841615474\n",
      "45     POST\n",
      "141       D\n",
      "386    POST\n",
      "Name: stockcode, dtype: object 0.00515953785598689\n",
      "['POST' 'D' 'DOT' 'M' 'BANK CHARGES' 'S' 'AMAZONFEE' 'm' 'DCGSSBOY'\n",
      " 'DCGSSGIRL' 'PADS' 'B' 'CRUK']\n"
     ]
    }
   ],
   "source": [
    "#How many stockcodes with letters there is?\n",
    "\n",
    "aux0=cat_attributes[cat_attributes['stockcode'].str.contains('[^0-9]+', na=False)]\n",
    "print(aux0['stockcode'].head(3), len(aux0)/len(cat_attributes))\n",
    "\n",
    "aux0=cat_attributes[~cat_attributes['stockcode'].str.contains('[0-9]+', na=False)]\n",
    "print(aux0['stockcode'].head(3), len(aux0)/len(cat_attributes))\n",
    "print(aux0['stockcode'].unique())\n",
    "\n",
    "# Because it has only 0,4% of stock codes with letters-only, in this Crisp-DM circle it will be dropped"
   ]
  },
  {
   "cell_type": "code",
   "execution_count": 20,
   "metadata": {},
   "outputs": [
    {
     "data": {
      "text/plain": [
       "0     WHITE HANGING HEART T-LIGHT HOLDER\n",
       "1                    WHITE METAL LANTERN\n",
       "2         CREAM CUPID HEARTS COAT HANGER\n",
       "3    KNITTED UNION FLAG HOT WATER BOTTLE\n",
       "4         RED WOOLLY HOTTIE WHITE HEART.\n",
       "Name: description, dtype: object"
      ]
     },
     "execution_count": 20,
     "metadata": {},
     "output_type": "execute_result"
    }
   ],
   "source": [
    "# Description\n",
    "df1['description'].head()\n",
    "\n",
    "# For this circle, description variable will be dropped"
   ]
  },
  {
   "cell_type": "code",
   "execution_count": 21,
   "metadata": {},
   "outputs": [
    {
     "name": "stdout",
     "output_type": "stream",
     "text": [
      "38 \n",
      " ['United Kingdom' 'France' 'Australia' 'Netherlands' 'Germany' 'Norway'\n",
      " 'EIRE' 'Switzerland' 'Spain' 'Poland' 'Portugal' 'Italy' 'Belgium'\n",
      " 'Lithuania' 'Japan' 'Iceland' 'Channel Islands' 'Denmark' 'Cyprus'\n",
      " 'Sweden' 'Austria' 'Israel' 'Finland' 'Bahrain' 'Greece' 'Hong Kong'\n",
      " 'Singapore' 'Lebanon' 'United Arab Emirates' 'Saudi Arabia'\n",
      " 'Czech Republic' 'Canada' 'Unspecified' 'Brazil' 'USA'\n",
      " 'European Community' 'Malta' 'RSA'] United Kingdom    0.914320\n",
      "Germany           0.017521\n",
      "France            0.015790\n",
      "EIRE              0.015124\n",
      "Spain             0.004674\n",
      "Name: country, dtype: float64\n"
     ]
    }
   ],
   "source": [
    "# Country\n",
    "print(len(df1['country'].unique()), \"\\n\", df1['country'].unique(),  \n",
    "df1['country'].value_counts(normalize=True).head())\n",
    "\n",
    "# for this circle, \"Unspecified\" and \"European Community\" will be dropped, for two reasons:\n",
    "# It has very small data representativiness and through \"European Community\" its not possible to know the specific country"
   ]
  },
  {
   "cell_type": "markdown",
   "metadata": {},
   "source": [
    "# 2.0 Feature Filtering/Cleaning"
   ]
  },
  {
   "cell_type": "code",
   "execution_count": 22,
   "metadata": {},
   "outputs": [],
   "source": [
    "df2=df1.copy()"
   ]
  },
  {
   "cell_type": "code",
   "execution_count": 23,
   "metadata": {},
   "outputs": [
    {
     "name": "stdout",
     "output_type": "stream",
     "text": [
      "(541909, 8)\n",
      "(532618, 8)\n",
      "(532618, 8)\n",
      "(541909, 8) (532112, 7)\n"
     ]
    }
   ],
   "source": [
    " # ----------------------  Numerical attributes ----------------\n",
    " # purhcases df and returns df\n",
    "returns = df2.loc[df2['quantity'] < 0, :]\n",
    "purchases = df2.loc[df2['quantity'] >= 0, :]\n",
    "\n",
    "\n",
    "print(df2.shape)\n",
    "\n",
    "\n",
    "#drop invoices with only letters\n",
    "df2=df2[~df2['invoiceno'].str.contains('[^0-9]+', na=False)]\n",
    "print(df2.shape)\n",
    "\n",
    "#filter only stockcodes with numbers\n",
    "#df2=df2[df2['stockcode'].str.contains('[0-9]+', na=False)]\n",
    "print(df2.shape)\n",
    "\n",
    "\n",
    "# ------------------ Categorical attributes -------------------\n",
    "# drop description\n",
    "df2 = df2.drop( columns='description', axis=1 )\n",
    "\n",
    "# drop \"unspecifiec\" and \"european communoty\" countries -  \n",
    "df2 = df2[~df2['country'].isin( [\"European Community\",'Unspecified' ] ) ]\n",
    "\n",
    "\n",
    "\n",
    "df2.head()\n",
    "print(df0.shape, df2.shape)"
   ]
  },
  {
   "cell_type": "markdown",
   "metadata": {},
   "source": [
    "# 3.0 Feature Engineering"
   ]
  },
  {
   "cell_type": "code",
   "execution_count": 24,
   "metadata": {},
   "outputs": [],
   "source": [
    "# data reference\n",
    "df3=df2.copy()"
   ]
  },
  {
   "cell_type": "markdown",
   "metadata": {},
   "source": [
    "## 3.1 Feature Creation"
   ]
  },
  {
   "cell_type": "code",
   "execution_count": 25,
   "metadata": {},
   "outputs": [
    {
     "data": {
      "text/html": [
       "<div>\n",
       "<style scoped>\n",
       "    .dataframe tbody tr th:only-of-type {\n",
       "        vertical-align: middle;\n",
       "    }\n",
       "\n",
       "    .dataframe tbody tr th {\n",
       "        vertical-align: top;\n",
       "    }\n",
       "\n",
       "    .dataframe thead th {\n",
       "        text-align: right;\n",
       "    }\n",
       "</style>\n",
       "<table border=\"1\" class=\"dataframe\">\n",
       "  <thead>\n",
       "    <tr style=\"text-align: right;\">\n",
       "      <th></th>\n",
       "      <th>customerid</th>\n",
       "    </tr>\n",
       "  </thead>\n",
       "  <tbody>\n",
       "    <tr>\n",
       "      <th>0</th>\n",
       "      <td>17850</td>\n",
       "    </tr>\n",
       "    <tr>\n",
       "      <th>1</th>\n",
       "      <td>13047</td>\n",
       "    </tr>\n",
       "    <tr>\n",
       "      <th>2</th>\n",
       "      <td>12583</td>\n",
       "    </tr>\n",
       "  </tbody>\n",
       "</table>\n",
       "</div>"
      ],
      "text/plain": [
       "   customerid\n",
       "0       17850\n",
       "1       13047\n",
       "2       12583"
      ]
     },
     "execution_count": 25,
     "metadata": {},
     "output_type": "execute_result"
    }
   ],
   "source": [
    "df_ref=df3[['customerid']].drop_duplicates(ignore_index=True)\n",
    "df_ref.head(3)"
   ]
  },
  {
   "cell_type": "markdown",
   "metadata": {},
   "source": [
    "### 3.1.1 profit (gross revenue - gross outgoins)"
   ]
  },
  {
   "cell_type": "code",
   "execution_count": 26,
   "metadata": {},
   "outputs": [
    {
     "name": "stdout",
     "output_type": "stream",
     "text": [
      "customerid       0\n",
      "gross_revenue    0\n",
      "dtype: int64\n",
      "customerid       0\n",
      "gross_revenue    0\n",
      "gross_returns    0\n",
      "dtype: int64\n"
     ]
    },
    {
     "data": {
      "text/html": [
       "<div>\n",
       "<style scoped>\n",
       "    .dataframe tbody tr th:only-of-type {\n",
       "        vertical-align: middle;\n",
       "    }\n",
       "\n",
       "    .dataframe tbody tr th {\n",
       "        vertical-align: top;\n",
       "    }\n",
       "\n",
       "    .dataframe thead th {\n",
       "        text-align: right;\n",
       "    }\n",
       "</style>\n",
       "<table border=\"1\" class=\"dataframe\">\n",
       "  <thead>\n",
       "    <tr style=\"text-align: right;\">\n",
       "      <th></th>\n",
       "      <th>customerid</th>\n",
       "      <th>profit</th>\n",
       "    </tr>\n",
       "  </thead>\n",
       "  <tbody>\n",
       "    <tr>\n",
       "      <th>0</th>\n",
       "      <td>17850</td>\n",
       "      <td>5288.63</td>\n",
       "    </tr>\n",
       "    <tr>\n",
       "      <th>1</th>\n",
       "      <td>13047</td>\n",
       "      <td>3079.10</td>\n",
       "    </tr>\n",
       "    <tr>\n",
       "      <th>2</th>\n",
       "      <td>12583</td>\n",
       "      <td>7187.34</td>\n",
       "    </tr>\n",
       "    <tr>\n",
       "      <th>3</th>\n",
       "      <td>13748</td>\n",
       "      <td>948.25</td>\n",
       "    </tr>\n",
       "    <tr>\n",
       "      <th>4</th>\n",
       "      <td>15100</td>\n",
       "      <td>635.10</td>\n",
       "    </tr>\n",
       "  </tbody>\n",
       "</table>\n",
       "</div>"
      ],
      "text/plain": [
       "   customerid   profit\n",
       "0       17850  5288.63\n",
       "1       13047  3079.10\n",
       "2       12583  7187.34\n",
       "3       13748   948.25\n",
       "4       15100   635.10"
      ]
     },
     "execution_count": 26,
     "metadata": {},
     "output_type": "execute_result"
    }
   ],
   "source": [
    "# gross revenue\n",
    "purchases['gross_revenue'] = purchases['quantity'] * purchases['unitprice']\n",
    "df_monetary = purchases[['customerid', 'gross_revenue']].groupby( 'customerid').sum().reset_index()\n",
    "df_ref=df_ref.merge(df_monetary,on='customerid',how='left').fillna(0)\n",
    "print(df_ref.isna().sum())\n",
    "\n",
    "\n",
    "# gross outgoings\n",
    "returns['gross_returns'] = returns['quantity'] * returns['unitprice']*-1\n",
    "df_returns = returns[['customerid', 'gross_returns']].groupby( 'customerid').sum().reset_index()\n",
    "df_ref=df_ref.merge(df_returns,on='customerid',how='left').fillna(0)\n",
    "print(df_ref.isna().sum())\n",
    "\n",
    "\n",
    "df_ref.head()\n",
    "df_ref['profit'] = df_ref['gross_revenue']-df_ref['gross_returns']\n",
    "df_ref=df_ref.drop(['gross_revenue','gross_returns'], axis=1)\n",
    "df_ref.head()"
   ]
  },
  {
   "cell_type": "markdown",
   "metadata": {},
   "source": [
    "### 3.1.2 recency"
   ]
  },
  {
   "cell_type": "code",
   "execution_count": 27,
   "metadata": {},
   "outputs": [
    {
     "name": "stdout",
     "output_type": "stream",
     "text": [
      "customerid        0\n",
      "profit            0\n",
      "recencydays    1336\n",
      "dtype: int64\n"
     ]
    },
    {
     "data": {
      "text/html": [
       "<div>\n",
       "<style scoped>\n",
       "    .dataframe tbody tr th:only-of-type {\n",
       "        vertical-align: middle;\n",
       "    }\n",
       "\n",
       "    .dataframe tbody tr th {\n",
       "        vertical-align: top;\n",
       "    }\n",
       "\n",
       "    .dataframe thead th {\n",
       "        text-align: right;\n",
       "    }\n",
       "</style>\n",
       "<table border=\"1\" class=\"dataframe\">\n",
       "  <thead>\n",
       "    <tr style=\"text-align: right;\">\n",
       "      <th></th>\n",
       "      <th>customerid</th>\n",
       "      <th>profit</th>\n",
       "      <th>recencydays</th>\n",
       "    </tr>\n",
       "  </thead>\n",
       "  <tbody>\n",
       "    <tr>\n",
       "      <th>0</th>\n",
       "      <td>17850</td>\n",
       "      <td>5288.63</td>\n",
       "      <td>372.0</td>\n",
       "    </tr>\n",
       "    <tr>\n",
       "      <th>1</th>\n",
       "      <td>13047</td>\n",
       "      <td>3079.10</td>\n",
       "      <td>31.0</td>\n",
       "    </tr>\n",
       "    <tr>\n",
       "      <th>2</th>\n",
       "      <td>12583</td>\n",
       "      <td>7187.34</td>\n",
       "      <td>2.0</td>\n",
       "    </tr>\n",
       "    <tr>\n",
       "      <th>3</th>\n",
       "      <td>13748</td>\n",
       "      <td>948.25</td>\n",
       "      <td>95.0</td>\n",
       "    </tr>\n",
       "    <tr>\n",
       "      <th>4</th>\n",
       "      <td>15100</td>\n",
       "      <td>635.10</td>\n",
       "      <td>333.0</td>\n",
       "    </tr>\n",
       "  </tbody>\n",
       "</table>\n",
       "</div>"
      ],
      "text/plain": [
       "   customerid   profit  recencydays\n",
       "0       17850  5288.63        372.0\n",
       "1       13047  3079.10         31.0\n",
       "2       12583  7187.34          2.0\n",
       "3       13748   948.25         95.0\n",
       "4       15100   635.10        333.0"
      ]
     },
     "execution_count": 27,
     "metadata": {},
     "output_type": "execute_result"
    }
   ],
   "source": [
    "#recency\n",
    "df_recency = purchases.groupby( 'customerid').max().reset_index()\n",
    "df_recency['recencydays'] = ( purchases['invoicedate'].max() - df_recency['invoicedate'] ).dt.days\n",
    "df_recency= df_recency[['customerid','recencydays']].copy()\n",
    "df_ref=df_ref.merge(df_recency, how='left', on='customerid')\n",
    "\n",
    "print(df_ref.isna().sum())\n",
    "df_ref.head()"
   ]
  },
  {
   "cell_type": "markdown",
   "metadata": {},
   "source": [
    "### 3.1.3 quantity of items kept"
   ]
  },
  {
   "cell_type": "code",
   "execution_count": 28,
   "metadata": {},
   "outputs": [
    {
     "name": "stdout",
     "output_type": "stream",
     "text": [
      "customerid     0\n",
      "profit         0\n",
      "recencydays    0\n",
      "qtd_items      0\n",
      "dtype: int64\n",
      "customerid          0\n",
      "profit              0\n",
      "recencydays         0\n",
      "qtd_items           0\n",
      "qtd_items_return    0\n",
      "dtype: int64\n"
     ]
    },
    {
     "data": {
      "text/html": [
       "<div>\n",
       "<style scoped>\n",
       "    .dataframe tbody tr th:only-of-type {\n",
       "        vertical-align: middle;\n",
       "    }\n",
       "\n",
       "    .dataframe tbody tr th {\n",
       "        vertical-align: top;\n",
       "    }\n",
       "\n",
       "    .dataframe thead th {\n",
       "        text-align: right;\n",
       "    }\n",
       "</style>\n",
       "<table border=\"1\" class=\"dataframe\">\n",
       "  <thead>\n",
       "    <tr style=\"text-align: right;\">\n",
       "      <th></th>\n",
       "      <th>customerid</th>\n",
       "      <th>profit</th>\n",
       "      <th>recencydays</th>\n",
       "      <th>items_kept</th>\n",
       "    </tr>\n",
       "  </thead>\n",
       "  <tbody>\n",
       "    <tr>\n",
       "      <th>0</th>\n",
       "      <td>17850</td>\n",
       "      <td>5288.63</td>\n",
       "      <td>372.0</td>\n",
       "      <td>14.0</td>\n",
       "    </tr>\n",
       "    <tr>\n",
       "      <th>1</th>\n",
       "      <td>13047</td>\n",
       "      <td>3079.10</td>\n",
       "      <td>31.0</td>\n",
       "      <td>126.0</td>\n",
       "    </tr>\n",
       "    <tr>\n",
       "      <th>2</th>\n",
       "      <td>12583</td>\n",
       "      <td>7187.34</td>\n",
       "      <td>2.0</td>\n",
       "      <td>1519.0</td>\n",
       "    </tr>\n",
       "    <tr>\n",
       "      <th>3</th>\n",
       "      <td>13748</td>\n",
       "      <td>948.25</td>\n",
       "      <td>95.0</td>\n",
       "      <td>169.0</td>\n",
       "    </tr>\n",
       "    <tr>\n",
       "      <th>4</th>\n",
       "      <td>15100</td>\n",
       "      <td>635.10</td>\n",
       "      <td>333.0</td>\n",
       "      <td>26.0</td>\n",
       "    </tr>\n",
       "  </tbody>\n",
       "</table>\n",
       "</div>"
      ],
      "text/plain": [
       "   customerid   profit  recencydays  items_kept\n",
       "0       17850  5288.63        372.0        14.0\n",
       "1       13047  3079.10         31.0       126.0\n",
       "2       12583  7187.34          2.0      1519.0\n",
       "3       13748   948.25         95.0       169.0\n",
       "4       15100   635.10        333.0        26.0"
      ]
     },
     "execution_count": 28,
     "metadata": {},
     "output_type": "execute_result"
    }
   ],
   "source": [
    "# quantity of products purchased\n",
    "df_freq = purchases[['customerid', 'quantity']].drop_duplicates().groupby( 'customerid' ).sum().reset_index().rename( columns={'quantity':'qtd_items'})\n",
    "df_ref = pd.merge( df_ref, df_freq, on='customerid', how='left' ).fillna(0)\n",
    "print(df_ref.isna().sum())\n",
    "\n",
    "### quantity of items returned\n",
    "# quantity of products purchased\n",
    "df_freq = returns[['customerid', 'quantity']].drop_duplicates().groupby( 'customerid' ).sum().reset_index().rename( columns={'quantity':'qtd_items_return'})\n",
    "df_freq['qtd_items_return'] = df_freq['qtd_items_return']*-1\n",
    "df_ref = pd.merge( df_ref, df_freq, on='customerid', how='left' ).fillna(0)\n",
    "df_ref.isna().sum()\n",
    "print(df_ref.isna().sum())\n",
    "\n",
    "\n",
    "### qtd items kept\n",
    "# quantity of products purchased\n",
    "df_ref['items_kept'] = df_ref['qtd_items']-df_ref['qtd_items_return']\n",
    "df_ref=df_ref.drop(['qtd_items','qtd_items_return'], axis=1)\n",
    "df_ref.head()\n"
   ]
  },
  {
   "cell_type": "markdown",
   "metadata": {},
   "source": [
    "### 3.1.4 avg ticket"
   ]
  },
  {
   "cell_type": "code",
   "execution_count": 29,
   "metadata": {},
   "outputs": [
    {
     "data": {
      "text/plain": [
       "customerid     0\n",
       "profit         0\n",
       "recencydays    0\n",
       "items_kept     0\n",
       "avg_ticket     9\n",
       "dtype: int64"
      ]
     },
     "execution_count": 29,
     "metadata": {},
     "output_type": "execute_result"
    }
   ],
   "source": [
    " # Avg Ticket\n",
    "df_ref['avg_ticket']=df_ref['profit']/df_ref['items_kept']\n",
    "df_ref['avg_ticket']=df_ref['avg_ticket'].replace([np.inf, -np.inf], 0) \n",
    "df_ref.isna().sum()"
   ]
  },
  {
   "cell_type": "markdown",
   "metadata": {},
   "source": [
    "### 3.1.5 avg recency days"
   ]
  },
  {
   "cell_type": "code",
   "execution_count": 30,
   "metadata": {},
   "outputs": [
    {
     "name": "stdout",
     "output_type": "stream",
     "text": [
      "customerid     0\n",
      "profit         0\n",
      "recencydays    0\n",
      "items_kept     0\n",
      "avg_ticket     9\n",
      "dtype: int64\n"
     ]
    },
    {
     "data": {
      "text/html": [
       "<div>\n",
       "<style scoped>\n",
       "    .dataframe tbody tr th:only-of-type {\n",
       "        vertical-align: middle;\n",
       "    }\n",
       "\n",
       "    .dataframe tbody tr th {\n",
       "        vertical-align: top;\n",
       "    }\n",
       "\n",
       "    .dataframe thead th {\n",
       "        text-align: right;\n",
       "    }\n",
       "</style>\n",
       "<table border=\"1\" class=\"dataframe\">\n",
       "  <thead>\n",
       "    <tr style=\"text-align: right;\">\n",
       "      <th></th>\n",
       "      <th>customerid</th>\n",
       "      <th>avg_recencydays</th>\n",
       "    </tr>\n",
       "  </thead>\n",
       "  <tbody>\n",
       "    <tr>\n",
       "      <th>0</th>\n",
       "      <td>17850</td>\n",
       "      <td>-1.0</td>\n",
       "    </tr>\n",
       "  </tbody>\n",
       "</table>\n",
       "</div>"
      ],
      "text/plain": [
       "   customerid  avg_recencydays\n",
       "0       17850             -1.0"
      ]
     },
     "execution_count": 30,
     "metadata": {},
     "output_type": "execute_result"
    }
   ],
   "source": [
    "# average recency days\n",
    "df_aux = df2[df2['customerid']==17850][['customerid','invoicedate']].drop_duplicates().sort_values(['customerid','invoicedate'],ascending=[False,False]).head()\n",
    "df_aux['next_customer_id'] = df_aux['customerid'].shift()\n",
    "df_aux['previous_date'] = df_aux['invoicedate'].shift()\n",
    "\n",
    "df_aux['avg_recencydays'] = df_aux.apply( lambda x: ( x['invoicedate'] - x['previous_date']).days if x['customerid']==x['next_customer_id'] else np.nan, axis=1)\n",
    "\n",
    "df_aux= df_aux.drop( ['invoicedate','next_customer_id', 'previous_date'], axis=1).dropna()\n",
    "\n",
    "# averagy recency\n",
    "df_avg_recency_days = df_aux.groupby( 'customerid' ).mean().reset_index()\n",
    "\n",
    "df_ref.merge(df_avg_recency_days, on='customerid', how='left')\n",
    "print(df_ref.isna().sum())\n",
    "df_avg_recency_days.head()"
   ]
  },
  {
   "cell_type": "markdown",
   "metadata": {},
   "source": [
    "### 3.1.6 frequency"
   ]
  },
  {
   "cell_type": "code",
   "execution_count": 31,
   "metadata": {},
   "outputs": [
    {
     "data": {
      "text/plain": [
       "customerid     0\n",
       "profit         0\n",
       "recencydays    0\n",
       "items_kept     0\n",
       "avg_ticket     9\n",
       "frequency      0\n",
       "dtype: int64"
      ]
     },
     "execution_count": 31,
     "metadata": {},
     "output_type": "execute_result"
    }
   ],
   "source": [
    "# frequency\n",
    "\n",
    "df_aux = ( df2[['customerid', 'invoiceno', 'invoicedate']].drop_duplicates()\n",
    "                                                        .groupby('customerid')\n",
    "                                                        .agg( max_ = ('invoicedate', 'max'),\n",
    "                                                            min_= ('invoicedate', 'min'),\n",
    "                                                            days_= ('invoicedate', lambda x: (( x.max() - x.min()).days ) +1 ),\n",
    "                                                            buy_ = ('invoiceno', 'count')).reset_index()\n",
    ")\n",
    "\n",
    "df_aux['frequency'] = df_aux[['buy_', 'days_']].apply(lambda x: x['buy_']/x['days_'] if x['days_'] != 0 else 0, axis=1)\n",
    "\n",
    "df_ref= df_ref.merge(df_aux[['customerid','frequency']], on='customerid', how='left')\n",
    "\n",
    "df_ref.isna().sum()"
   ]
  },
  {
   "cell_type": "markdown",
   "metadata": {},
   "source": [
    "### 3.1.7 basket size"
   ]
  },
  {
   "cell_type": "code",
   "execution_count": 32,
   "metadata": {},
   "outputs": [
    {
     "name": "stdout",
     "output_type": "stream",
     "text": [
      "customerid            0\n",
      "profit                0\n",
      "recencydays           0\n",
      "items_kept            0\n",
      "avg_ticket            9\n",
      "frequency             0\n",
      "avg_basket_size    1336\n",
      "dtype: int64\n"
     ]
    },
    {
     "data": {
      "text/html": [
       "<div>\n",
       "<style scoped>\n",
       "    .dataframe tbody tr th:only-of-type {\n",
       "        vertical-align: middle;\n",
       "    }\n",
       "\n",
       "    .dataframe tbody tr th {\n",
       "        vertical-align: top;\n",
       "    }\n",
       "\n",
       "    .dataframe thead th {\n",
       "        text-align: right;\n",
       "    }\n",
       "</style>\n",
       "<table border=\"1\" class=\"dataframe\">\n",
       "  <thead>\n",
       "    <tr style=\"text-align: right;\">\n",
       "      <th></th>\n",
       "      <th>customerid</th>\n",
       "      <th>profit</th>\n",
       "      <th>recencydays</th>\n",
       "      <th>items_kept</th>\n",
       "      <th>avg_ticket</th>\n",
       "      <th>frequency</th>\n",
       "      <th>avg_basket_size</th>\n",
       "    </tr>\n",
       "  </thead>\n",
       "  <tbody>\n",
       "    <tr>\n",
       "      <th>0</th>\n",
       "      <td>17850</td>\n",
       "      <td>5288.63</td>\n",
       "      <td>372.0</td>\n",
       "      <td>14.0</td>\n",
       "      <td>377.759286</td>\n",
       "      <td>17.000000</td>\n",
       "      <td>0.019619</td>\n",
       "    </tr>\n",
       "    <tr>\n",
       "      <th>1</th>\n",
       "      <td>13047</td>\n",
       "      <td>3079.10</td>\n",
       "      <td>31.0</td>\n",
       "      <td>126.0</td>\n",
       "      <td>24.437302</td>\n",
       "      <td>0.029155</td>\n",
       "      <td>0.007189</td>\n",
       "    </tr>\n",
       "    <tr>\n",
       "      <th>2</th>\n",
       "      <td>12583</td>\n",
       "      <td>7187.34</td>\n",
       "      <td>2.0</td>\n",
       "      <td>1519.0</td>\n",
       "      <td>4.731626</td>\n",
       "      <td>0.040323</td>\n",
       "      <td>0.002964</td>\n",
       "    </tr>\n",
       "    <tr>\n",
       "      <th>3</th>\n",
       "      <td>13748</td>\n",
       "      <td>948.25</td>\n",
       "      <td>95.0</td>\n",
       "      <td>169.0</td>\n",
       "      <td>5.610947</td>\n",
       "      <td>0.017921</td>\n",
       "      <td>0.011390</td>\n",
       "    </tr>\n",
       "    <tr>\n",
       "      <th>4</th>\n",
       "      <td>15100</td>\n",
       "      <td>635.10</td>\n",
       "      <td>333.0</td>\n",
       "      <td>26.0</td>\n",
       "      <td>24.426923</td>\n",
       "      <td>0.073171</td>\n",
       "      <td>0.037500</td>\n",
       "    </tr>\n",
       "  </tbody>\n",
       "</table>\n",
       "</div>"
      ],
      "text/plain": [
       "   customerid   profit  recencydays  items_kept  avg_ticket  frequency  \\\n",
       "0       17850  5288.63        372.0        14.0  377.759286  17.000000   \n",
       "1       13047  3079.10         31.0       126.0   24.437302   0.029155   \n",
       "2       12583  7187.34          2.0      1519.0    4.731626   0.040323   \n",
       "3       13748   948.25         95.0       169.0    5.610947   0.017921   \n",
       "4       15100   635.10        333.0        26.0   24.426923   0.073171   \n",
       "\n",
       "   avg_basket_size  \n",
       "0         0.019619  \n",
       "1         0.007189  \n",
       "2         0.002964  \n",
       "3         0.011390  \n",
       "4         0.037500  "
      ]
     },
     "execution_count": 32,
     "metadata": {},
     "output_type": "execute_result"
    }
   ],
   "source": [
    "# basket size\n",
    "df_aux = ( purchases.groupby('customerid').agg( n_purchases = ('invoiceno','nunique'), n_products = ('quantity','sum'))\n",
    "                                            .reset_index()\n",
    ")\n",
    "\n",
    "#calculation\n",
    "df_aux['avg_basket_size'] = df_aux['n_purchases'] / df_aux['n_products']\n",
    "df_ref = df_ref.merge( df_aux[['customerid', 'avg_basket_size']], how='left', on='customerid')\n",
    "\n",
    "print(df_ref.isna().sum())\n",
    "\n",
    "df_ref.head()"
   ]
  },
  {
   "cell_type": "markdown",
   "metadata": {},
   "source": [
    "# 4.0 EDA (Exploratory Data Analysis)"
   ]
  },
  {
   "cell_type": "code",
   "execution_count": 33,
   "metadata": {},
   "outputs": [
    {
     "data": {
      "text/html": [
       "<div>\n",
       "<style scoped>\n",
       "    .dataframe tbody tr th:only-of-type {\n",
       "        vertical-align: middle;\n",
       "    }\n",
       "\n",
       "    .dataframe tbody tr th {\n",
       "        vertical-align: top;\n",
       "    }\n",
       "\n",
       "    .dataframe thead th {\n",
       "        text-align: right;\n",
       "    }\n",
       "</style>\n",
       "<table border=\"1\" class=\"dataframe\">\n",
       "  <thead>\n",
       "    <tr style=\"text-align: right;\">\n",
       "      <th></th>\n",
       "      <th>customerid</th>\n",
       "      <th>profit</th>\n",
       "      <th>recencydays</th>\n",
       "      <th>items_kept</th>\n",
       "      <th>avg_ticket</th>\n",
       "      <th>frequency</th>\n",
       "      <th>avg_basket_size</th>\n",
       "    </tr>\n",
       "  </thead>\n",
       "  <tbody>\n",
       "    <tr>\n",
       "      <th>0</th>\n",
       "      <td>17850</td>\n",
       "      <td>5288.63</td>\n",
       "      <td>372.0</td>\n",
       "      <td>14.0</td>\n",
       "      <td>377.759286</td>\n",
       "      <td>17.000000</td>\n",
       "      <td>0.019619</td>\n",
       "    </tr>\n",
       "    <tr>\n",
       "      <th>1</th>\n",
       "      <td>13047</td>\n",
       "      <td>3079.10</td>\n",
       "      <td>31.0</td>\n",
       "      <td>126.0</td>\n",
       "      <td>24.437302</td>\n",
       "      <td>0.029155</td>\n",
       "      <td>0.007189</td>\n",
       "    </tr>\n",
       "    <tr>\n",
       "      <th>2</th>\n",
       "      <td>12583</td>\n",
       "      <td>7187.34</td>\n",
       "      <td>2.0</td>\n",
       "      <td>1519.0</td>\n",
       "      <td>4.731626</td>\n",
       "      <td>0.040323</td>\n",
       "      <td>0.002964</td>\n",
       "    </tr>\n",
       "    <tr>\n",
       "      <th>3</th>\n",
       "      <td>13748</td>\n",
       "      <td>948.25</td>\n",
       "      <td>95.0</td>\n",
       "      <td>169.0</td>\n",
       "      <td>5.610947</td>\n",
       "      <td>0.017921</td>\n",
       "      <td>0.011390</td>\n",
       "    </tr>\n",
       "    <tr>\n",
       "      <th>4</th>\n",
       "      <td>15100</td>\n",
       "      <td>635.10</td>\n",
       "      <td>333.0</td>\n",
       "      <td>26.0</td>\n",
       "      <td>24.426923</td>\n",
       "      <td>0.073171</td>\n",
       "      <td>0.037500</td>\n",
       "    </tr>\n",
       "  </tbody>\n",
       "</table>\n",
       "</div>"
      ],
      "text/plain": [
       "   customerid   profit  recencydays  items_kept  avg_ticket  frequency  \\\n",
       "0       17850  5288.63        372.0        14.0  377.759286  17.000000   \n",
       "1       13047  3079.10         31.0       126.0   24.437302   0.029155   \n",
       "2       12583  7187.34          2.0      1519.0    4.731626   0.040323   \n",
       "3       13748   948.25         95.0       169.0    5.610947   0.017921   \n",
       "4       15100   635.10        333.0        26.0   24.426923   0.073171   \n",
       "\n",
       "   avg_basket_size  \n",
       "0         0.019619  \n",
       "1         0.007189  \n",
       "2         0.002964  \n",
       "3         0.011390  \n",
       "4         0.037500  "
      ]
     },
     "execution_count": 33,
     "metadata": {},
     "output_type": "execute_result"
    }
   ],
   "source": [
    "df4=df_ref.dropna().copy()\n",
    "df4.head()"
   ]
  },
  {
   "cell_type": "markdown",
   "metadata": {},
   "source": [
    "## 4.1 Univariate Analysis"
   ]
  },
  {
   "cell_type": "raw",
   "metadata": {},
   "source": [
    "1. Cluster coesos e separados\n",
    "2. Variability -\n",
    "- Min, Max, Range\n",
    "- Mean and Median\n",
    "- Std and variance\n",
    "- Coeficient of variation\n"
   ]
  },
  {
   "cell_type": "code",
   "execution_count": 34,
   "metadata": {},
   "outputs": [],
   "source": [
    "num_attributes1 = df4.select_dtypes(include=['int64','float64','int32'])\n"
   ]
  },
  {
   "cell_type": "code",
   "execution_count": 35,
   "metadata": {},
   "outputs": [
    {
     "data": {
      "text/html": [
       "<div>\n",
       "<style scoped>\n",
       "    .dataframe tbody tr th:only-of-type {\n",
       "        vertical-align: middle;\n",
       "    }\n",
       "\n",
       "    .dataframe tbody tr th {\n",
       "        vertical-align: top;\n",
       "    }\n",
       "\n",
       "    .dataframe thead th {\n",
       "        text-align: right;\n",
       "    }\n",
       "</style>\n",
       "<table border=\"1\" class=\"dataframe\">\n",
       "  <thead>\n",
       "    <tr style=\"text-align: right;\">\n",
       "      <th></th>\n",
       "      <th>count</th>\n",
       "      <th>mean</th>\n",
       "      <th>std</th>\n",
       "      <th>min</th>\n",
       "      <th>50%</th>\n",
       "      <th>max</th>\n",
       "      <th>skew</th>\n",
       "      <th>kurtosis</th>\n",
       "    </tr>\n",
       "  </thead>\n",
       "  <tbody>\n",
       "    <tr>\n",
       "      <th>customerid</th>\n",
       "      <td>6509.0</td>\n",
       "      <td>37625.057152</td>\n",
       "      <td>31453.537890</td>\n",
       "      <td>12347.000000</td>\n",
       "      <td>16794.000000</td>\n",
       "      <td>83709.00</td>\n",
       "      <td>0.691749</td>\n",
       "      <td>-1.511262</td>\n",
       "    </tr>\n",
       "    <tr>\n",
       "      <th>profit</th>\n",
       "      <td>6509.0</td>\n",
       "      <td>1543.808587</td>\n",
       "      <td>6878.138331</td>\n",
       "      <td>-1165.300000</td>\n",
       "      <td>490.600000</td>\n",
       "      <td>279489.02</td>\n",
       "      <td>25.156003</td>\n",
       "      <td>838.356568</td>\n",
       "    </tr>\n",
       "    <tr>\n",
       "      <th>recencydays</th>\n",
       "      <td>6509.0</td>\n",
       "      <td>122.783223</td>\n",
       "      <td>112.794073</td>\n",
       "      <td>0.000000</td>\n",
       "      <td>78.000000</td>\n",
       "      <td>373.00</td>\n",
       "      <td>0.733018</td>\n",
       "      <td>-0.770568</td>\n",
       "    </tr>\n",
       "    <tr>\n",
       "      <th>items_kept</th>\n",
       "      <td>6509.0</td>\n",
       "      <td>207.322477</td>\n",
       "      <td>861.369915</td>\n",
       "      <td>-2887.000000</td>\n",
       "      <td>82.000000</td>\n",
       "      <td>37684.00</td>\n",
       "      <td>21.623155</td>\n",
       "      <td>696.611644</td>\n",
       "    </tr>\n",
       "    <tr>\n",
       "      <th>avg_ticket</th>\n",
       "      <td>6509.0</td>\n",
       "      <td>14.361570</td>\n",
       "      <td>190.239544</td>\n",
       "      <td>-258.544286</td>\n",
       "      <td>6.087156</td>\n",
       "      <td>13541.33</td>\n",
       "      <td>58.783179</td>\n",
       "      <td>3992.356958</td>\n",
       "    </tr>\n",
       "    <tr>\n",
       "      <th>frequency</th>\n",
       "      <td>6509.0</td>\n",
       "      <td>0.602991</td>\n",
       "      <td>0.537741</td>\n",
       "      <td>0.005450</td>\n",
       "      <td>1.000000</td>\n",
       "      <td>17.00</td>\n",
       "      <td>4.350205</td>\n",
       "      <td>131.743947</td>\n",
       "    </tr>\n",
       "    <tr>\n",
       "      <th>avg_basket_size</th>\n",
       "      <td>6509.0</td>\n",
       "      <td>0.081656</td>\n",
       "      <td>0.222580</td>\n",
       "      <td>0.000025</td>\n",
       "      <td>0.007651</td>\n",
       "      <td>1.00</td>\n",
       "      <td>3.450565</td>\n",
       "      <td>10.957528</td>\n",
       "    </tr>\n",
       "  </tbody>\n",
       "</table>\n",
       "</div>"
      ],
      "text/plain": [
       "                  count          mean           std           min  \\\n",
       "customerid       6509.0  37625.057152  31453.537890  12347.000000   \n",
       "profit           6509.0   1543.808587   6878.138331  -1165.300000   \n",
       "recencydays      6509.0    122.783223    112.794073      0.000000   \n",
       "items_kept       6509.0    207.322477    861.369915  -2887.000000   \n",
       "avg_ticket       6509.0     14.361570    190.239544   -258.544286   \n",
       "frequency        6509.0      0.602991      0.537741      0.005450   \n",
       "avg_basket_size  6509.0      0.081656      0.222580      0.000025   \n",
       "\n",
       "                          50%        max       skew     kurtosis  \n",
       "customerid       16794.000000   83709.00   0.691749    -1.511262  \n",
       "profit             490.600000  279489.02  25.156003   838.356568  \n",
       "recencydays         78.000000     373.00   0.733018    -0.770568  \n",
       "items_kept          82.000000   37684.00  21.623155   696.611644  \n",
       "avg_ticket           6.087156   13541.33  58.783179  3992.356958  \n",
       "frequency            1.000000      17.00   4.350205   131.743947  \n",
       "avg_basket_size      0.007651       1.00   3.450565    10.957528  "
      ]
     },
     "execution_count": 35,
     "metadata": {},
     "output_type": "execute_result"
    }
   ],
   "source": [
    "pd.concat([num_attributes1.describe(percentiles=[.5]).T,num_attributes1.agg(['skew','kurtosis']).T],axis=1)"
   ]
  },
  {
   "cell_type": "markdown",
   "metadata": {},
   "source": [
    "### 4.1.1 profit - inspect extreme values"
   ]
  },
  {
   "cell_type": "code",
   "execution_count": 36,
   "metadata": {},
   "outputs": [
    {
     "data": {
      "text/html": [
       "<div>\n",
       "<style scoped>\n",
       "    .dataframe tbody tr th:only-of-type {\n",
       "        vertical-align: middle;\n",
       "    }\n",
       "\n",
       "    .dataframe tbody tr th {\n",
       "        vertical-align: top;\n",
       "    }\n",
       "\n",
       "    .dataframe thead th {\n",
       "        text-align: right;\n",
       "    }\n",
       "</style>\n",
       "<table border=\"1\" class=\"dataframe\">\n",
       "  <thead>\n",
       "    <tr style=\"text-align: right;\">\n",
       "      <th></th>\n",
       "      <th>customerid</th>\n",
       "      <th>profit</th>\n",
       "      <th>recencydays</th>\n",
       "      <th>items_kept</th>\n",
       "      <th>avg_ticket</th>\n",
       "      <th>frequency</th>\n",
       "      <th>avg_basket_size</th>\n",
       "    </tr>\n",
       "  </thead>\n",
       "  <tbody>\n",
       "    <tr>\n",
       "      <th>1083</th>\n",
       "      <td>14646</td>\n",
       "      <td>279489.02</td>\n",
       "      <td>1.0</td>\n",
       "      <td>15225.0</td>\n",
       "      <td>18.357243</td>\n",
       "      <td>0.209040</td>\n",
       "      <td>0.000375</td>\n",
       "    </tr>\n",
       "    <tr>\n",
       "      <th>531</th>\n",
       "      <td>18102</td>\n",
       "      <td>256438.49</td>\n",
       "      <td>0.0</td>\n",
       "      <td>12871.0</td>\n",
       "      <td>19.923743</td>\n",
       "      <td>0.163043</td>\n",
       "      <td>0.000936</td>\n",
       "    </tr>\n",
       "    <tr>\n",
       "      <th>463</th>\n",
       "      <td>17450</td>\n",
       "      <td>187482.17</td>\n",
       "      <td>8.0</td>\n",
       "      <td>37684.0</td>\n",
       "      <td>4.975113</td>\n",
       "      <td>0.127778</td>\n",
       "      <td>0.000657</td>\n",
       "    </tr>\n",
       "    <tr>\n",
       "      <th>66</th>\n",
       "      <td>14911</td>\n",
       "      <td>132572.62</td>\n",
       "      <td>1.0</td>\n",
       "      <td>2639.0</td>\n",
       "      <td>50.235930</td>\n",
       "      <td>0.538874</td>\n",
       "      <td>0.002496</td>\n",
       "    </tr>\n",
       "    <tr>\n",
       "      <th>1239</th>\n",
       "      <td>12415</td>\n",
       "      <td>123725.45</td>\n",
       "      <td>24.0</td>\n",
       "      <td>9563.0</td>\n",
       "      <td>12.937933</td>\n",
       "      <td>0.066879</td>\n",
       "      <td>0.000270</td>\n",
       "    </tr>\n",
       "  </tbody>\n",
       "</table>\n",
       "</div>"
      ],
      "text/plain": [
       "      customerid     profit  recencydays  items_kept  avg_ticket  frequency  \\\n",
       "1083       14646  279489.02          1.0     15225.0   18.357243   0.209040   \n",
       "531        18102  256438.49          0.0     12871.0   19.923743   0.163043   \n",
       "463        17450  187482.17          8.0     37684.0    4.975113   0.127778   \n",
       "66         14911  132572.62          1.0      2639.0   50.235930   0.538874   \n",
       "1239       12415  123725.45         24.0      9563.0   12.937933   0.066879   \n",
       "\n",
       "      avg_basket_size  \n",
       "1083         0.000375  \n",
       "531          0.000936  \n",
       "463          0.000657  \n",
       "66           0.002496  \n",
       "1239         0.000270  "
      ]
     },
     "execution_count": 36,
     "metadata": {},
     "output_type": "execute_result"
    }
   ],
   "source": [
    "df4.sort_values('profit', ascending=False).head()"
   ]
  },
  {
   "cell_type": "code",
   "execution_count": 37,
   "metadata": {},
   "outputs": [
    {
     "data": {
      "text/html": [
       "<div>\n",
       "<style scoped>\n",
       "    .dataframe tbody tr th:only-of-type {\n",
       "        vertical-align: middle;\n",
       "    }\n",
       "\n",
       "    .dataframe tbody tr th {\n",
       "        vertical-align: top;\n",
       "    }\n",
       "\n",
       "    .dataframe thead th {\n",
       "        text-align: right;\n",
       "    }\n",
       "</style>\n",
       "<table border=\"1\" class=\"dataframe\">\n",
       "  <thead>\n",
       "    <tr style=\"text-align: right;\">\n",
       "      <th></th>\n",
       "      <th>invoiceno</th>\n",
       "      <th>stockcode</th>\n",
       "      <th>quantity</th>\n",
       "      <th>invoicedate</th>\n",
       "      <th>unitprice</th>\n",
       "      <th>country</th>\n",
       "      <th>customerid</th>\n",
       "    </tr>\n",
       "  </thead>\n",
       "  <tbody>\n",
       "    <tr>\n",
       "      <th>37952</th>\n",
       "      <td>539491</td>\n",
       "      <td>21981</td>\n",
       "      <td>12</td>\n",
       "      <td>2010-12-20</td>\n",
       "      <td>0.29</td>\n",
       "      <td>Netherlands</td>\n",
       "      <td>14646</td>\n",
       "    </tr>\n",
       "    <tr>\n",
       "      <th>37953</th>\n",
       "      <td>539491</td>\n",
       "      <td>21986</td>\n",
       "      <td>12</td>\n",
       "      <td>2010-12-20</td>\n",
       "      <td>0.29</td>\n",
       "      <td>Netherlands</td>\n",
       "      <td>14646</td>\n",
       "    </tr>\n",
       "    <tr>\n",
       "      <th>37954</th>\n",
       "      <td>539491</td>\n",
       "      <td>22720</td>\n",
       "      <td>2</td>\n",
       "      <td>2010-12-20</td>\n",
       "      <td>4.95</td>\n",
       "      <td>Netherlands</td>\n",
       "      <td>14646</td>\n",
       "    </tr>\n",
       "    <tr>\n",
       "      <th>37955</th>\n",
       "      <td>539491</td>\n",
       "      <td>21931</td>\n",
       "      <td>1</td>\n",
       "      <td>2010-12-20</td>\n",
       "      <td>1.95</td>\n",
       "      <td>Netherlands</td>\n",
       "      <td>14646</td>\n",
       "    </tr>\n",
       "    <tr>\n",
       "      <th>37956</th>\n",
       "      <td>539491</td>\n",
       "      <td>22613</td>\n",
       "      <td>2</td>\n",
       "      <td>2010-12-20</td>\n",
       "      <td>0.85</td>\n",
       "      <td>Netherlands</td>\n",
       "      <td>14646</td>\n",
       "    </tr>\n",
       "    <tr>\n",
       "      <th>37957</th>\n",
       "      <td>539491</td>\n",
       "      <td>20751</td>\n",
       "      <td>1</td>\n",
       "      <td>2010-12-20</td>\n",
       "      <td>2.10</td>\n",
       "      <td>Netherlands</td>\n",
       "      <td>14646</td>\n",
       "    </tr>\n",
       "    <tr>\n",
       "      <th>37958</th>\n",
       "      <td>539491</td>\n",
       "      <td>21246</td>\n",
       "      <td>2</td>\n",
       "      <td>2010-12-20</td>\n",
       "      <td>4.95</td>\n",
       "      <td>Netherlands</td>\n",
       "      <td>14646</td>\n",
       "    </tr>\n",
       "    <tr>\n",
       "      <th>37959</th>\n",
       "      <td>539491</td>\n",
       "      <td>22960</td>\n",
       "      <td>1</td>\n",
       "      <td>2010-12-20</td>\n",
       "      <td>4.25</td>\n",
       "      <td>Netherlands</td>\n",
       "      <td>14646</td>\n",
       "    </tr>\n",
       "    <tr>\n",
       "      <th>37960</th>\n",
       "      <td>539491</td>\n",
       "      <td>22355</td>\n",
       "      <td>2</td>\n",
       "      <td>2010-12-20</td>\n",
       "      <td>0.85</td>\n",
       "      <td>Netherlands</td>\n",
       "      <td>14646</td>\n",
       "    </tr>\n",
       "    <tr>\n",
       "      <th>37961</th>\n",
       "      <td>539491</td>\n",
       "      <td>21123</td>\n",
       "      <td>2</td>\n",
       "      <td>2010-12-20</td>\n",
       "      <td>1.25</td>\n",
       "      <td>Netherlands</td>\n",
       "      <td>14646</td>\n",
       "    </tr>\n",
       "  </tbody>\n",
       "</table>\n",
       "</div>"
      ],
      "text/plain": [
       "      invoiceno stockcode  quantity invoicedate  unitprice      country  \\\n",
       "37952    539491     21981        12  2010-12-20       0.29  Netherlands   \n",
       "37953    539491     21986        12  2010-12-20       0.29  Netherlands   \n",
       "37954    539491     22720         2  2010-12-20       4.95  Netherlands   \n",
       "37955    539491     21931         1  2010-12-20       1.95  Netherlands   \n",
       "37956    539491     22613         2  2010-12-20       0.85  Netherlands   \n",
       "37957    539491     20751         1  2010-12-20       2.10  Netherlands   \n",
       "37958    539491     21246         2  2010-12-20       4.95  Netherlands   \n",
       "37959    539491     22960         1  2010-12-20       4.25  Netherlands   \n",
       "37960    539491     22355         2  2010-12-20       0.85  Netherlands   \n",
       "37961    539491     21123         2  2010-12-20       1.25  Netherlands   \n",
       "\n",
       "       customerid  \n",
       "37952       14646  \n",
       "37953       14646  \n",
       "37954       14646  \n",
       "37955       14646  \n",
       "37956       14646  \n",
       "37957       14646  \n",
       "37958       14646  \n",
       "37959       14646  \n",
       "37960       14646  \n",
       "37961       14646  "
      ]
     },
     "execution_count": 37,
     "metadata": {},
     "output_type": "execute_result"
    }
   ],
   "source": [
    "#inspect higher profit customer\n",
    "df3[df3['customerid']==14646].head(10)"
   ]
  },
  {
   "cell_type": "code",
   "execution_count": 38,
   "metadata": {},
   "outputs": [],
   "source": [
    "# This customer just buys a lot :)"
   ]
  },
  {
   "cell_type": "markdown",
   "metadata": {},
   "source": [
    "### 4.1.2 items kept - inspect extreme values"
   ]
  },
  {
   "cell_type": "code",
   "execution_count": 39,
   "metadata": {},
   "outputs": [
    {
     "data": {
      "text/html": [
       "<div>\n",
       "<style scoped>\n",
       "    .dataframe tbody tr th:only-of-type {\n",
       "        vertical-align: middle;\n",
       "    }\n",
       "\n",
       "    .dataframe tbody tr th {\n",
       "        vertical-align: top;\n",
       "    }\n",
       "\n",
       "    .dataframe thead th {\n",
       "        text-align: right;\n",
       "    }\n",
       "</style>\n",
       "<table border=\"1\" class=\"dataframe\">\n",
       "  <thead>\n",
       "    <tr style=\"text-align: right;\">\n",
       "      <th></th>\n",
       "      <th>customerid</th>\n",
       "      <th>profit</th>\n",
       "      <th>recencydays</th>\n",
       "      <th>items_kept</th>\n",
       "      <th>avg_ticket</th>\n",
       "      <th>frequency</th>\n",
       "      <th>avg_basket_size</th>\n",
       "    </tr>\n",
       "  </thead>\n",
       "  <tbody>\n",
       "    <tr>\n",
       "      <th>463</th>\n",
       "      <td>17450</td>\n",
       "      <td>187482.17</td>\n",
       "      <td>8.0</td>\n",
       "      <td>37684.0</td>\n",
       "      <td>4.975113</td>\n",
       "      <td>0.127778</td>\n",
       "      <td>0.000657</td>\n",
       "    </tr>\n",
       "    <tr>\n",
       "      <th>1917</th>\n",
       "      <td>16333</td>\n",
       "      <td>26626.80</td>\n",
       "      <td>7.0</td>\n",
       "      <td>21352.0</td>\n",
       "      <td>1.247040</td>\n",
       "      <td>0.072607</td>\n",
       "      <td>0.000684</td>\n",
       "    </tr>\n",
       "    <tr>\n",
       "      <th>1083</th>\n",
       "      <td>14646</td>\n",
       "      <td>279489.02</td>\n",
       "      <td>1.0</td>\n",
       "      <td>15225.0</td>\n",
       "      <td>18.357243</td>\n",
       "      <td>0.209040</td>\n",
       "      <td>0.000375</td>\n",
       "    </tr>\n",
       "    <tr>\n",
       "      <th>2682</th>\n",
       "      <td>12901</td>\n",
       "      <td>16293.10</td>\n",
       "      <td>8.0</td>\n",
       "      <td>14990.0</td>\n",
       "      <td>1.086931</td>\n",
       "      <td>0.106464</td>\n",
       "      <td>0.001213</td>\n",
       "    </tr>\n",
       "    <tr>\n",
       "      <th>244</th>\n",
       "      <td>17949</td>\n",
       "      <td>52750.84</td>\n",
       "      <td>1.0</td>\n",
       "      <td>14977.0</td>\n",
       "      <td>3.522123</td>\n",
       "      <td>0.121294</td>\n",
       "      <td>0.001473</td>\n",
       "    </tr>\n",
       "  </tbody>\n",
       "</table>\n",
       "</div>"
      ],
      "text/plain": [
       "      customerid     profit  recencydays  items_kept  avg_ticket  frequency  \\\n",
       "463        17450  187482.17          8.0     37684.0    4.975113   0.127778   \n",
       "1917       16333   26626.80          7.0     21352.0    1.247040   0.072607   \n",
       "1083       14646  279489.02          1.0     15225.0   18.357243   0.209040   \n",
       "2682       12901   16293.10          8.0     14990.0    1.086931   0.106464   \n",
       "244        17949   52750.84          1.0     14977.0    3.522123   0.121294   \n",
       "\n",
       "      avg_basket_size  \n",
       "463          0.000657  \n",
       "1917         0.000684  \n",
       "1083         0.000375  \n",
       "2682         0.001213  \n",
       "244          0.001473  "
      ]
     },
     "execution_count": 39,
     "metadata": {},
     "output_type": "execute_result"
    }
   ],
   "source": [
    "df4.sort_values('items_kept', ascending=False).head()"
   ]
  },
  {
   "cell_type": "code",
   "execution_count": 40,
   "metadata": {},
   "outputs": [
    {
     "data": {
      "text/html": [
       "<div>\n",
       "<style scoped>\n",
       "    .dataframe tbody tr th:only-of-type {\n",
       "        vertical-align: middle;\n",
       "    }\n",
       "\n",
       "    .dataframe tbody tr th {\n",
       "        vertical-align: top;\n",
       "    }\n",
       "\n",
       "    .dataframe thead th {\n",
       "        text-align: right;\n",
       "    }\n",
       "</style>\n",
       "<table border=\"1\" class=\"dataframe\">\n",
       "  <thead>\n",
       "    <tr style=\"text-align: right;\">\n",
       "      <th></th>\n",
       "      <th>invoiceno</th>\n",
       "      <th>stockcode</th>\n",
       "      <th>description</th>\n",
       "      <th>quantity</th>\n",
       "      <th>invoicedate</th>\n",
       "      <th>unitprice</th>\n",
       "      <th>customerid</th>\n",
       "      <th>country</th>\n",
       "    </tr>\n",
       "  </thead>\n",
       "  <tbody>\n",
       "    <tr>\n",
       "      <th>14059</th>\n",
       "      <td>537448</td>\n",
       "      <td>21756</td>\n",
       "      <td>BATH BUILDING BLOCK WORD</td>\n",
       "      <td>6</td>\n",
       "      <td>12/7/2010 9:23</td>\n",
       "      <td>6.60</td>\n",
       "      <td>17450.0</td>\n",
       "      <td>United Kingdom</td>\n",
       "    </tr>\n",
       "    <tr>\n",
       "      <th>14067</th>\n",
       "      <td>537456</td>\n",
       "      <td>22469</td>\n",
       "      <td>HEART OF WICKER SMALL</td>\n",
       "      <td>402</td>\n",
       "      <td>12/7/2010 9:43</td>\n",
       "      <td>1.93</td>\n",
       "      <td>17450.0</td>\n",
       "      <td>United Kingdom</td>\n",
       "    </tr>\n",
       "    <tr>\n",
       "      <th>14068</th>\n",
       "      <td>537456</td>\n",
       "      <td>22470</td>\n",
       "      <td>HEART OF WICKER LARGE</td>\n",
       "      <td>378</td>\n",
       "      <td>12/7/2010 9:43</td>\n",
       "      <td>3.21</td>\n",
       "      <td>17450.0</td>\n",
       "      <td>United Kingdom</td>\n",
       "    </tr>\n",
       "    <tr>\n",
       "      <th>52131</th>\n",
       "      <td>540689</td>\n",
       "      <td>21733</td>\n",
       "      <td>RED HANGING HEART T-LIGHT HOLDER</td>\n",
       "      <td>860</td>\n",
       "      <td>1/11/2011 8:43</td>\n",
       "      <td>3.24</td>\n",
       "      <td>17450.0</td>\n",
       "      <td>United Kingdom</td>\n",
       "    </tr>\n",
       "    <tr>\n",
       "      <th>52132</th>\n",
       "      <td>540689</td>\n",
       "      <td>85123A</td>\n",
       "      <td>WHITE HANGING HEART T-LIGHT HOLDER</td>\n",
       "      <td>1010</td>\n",
       "      <td>1/11/2011 8:43</td>\n",
       "      <td>3.24</td>\n",
       "      <td>17450.0</td>\n",
       "      <td>United Kingdom</td>\n",
       "    </tr>\n",
       "    <tr>\n",
       "      <th>52133</th>\n",
       "      <td>540689</td>\n",
       "      <td>22469</td>\n",
       "      <td>HEART OF WICKER SMALL</td>\n",
       "      <td>1356</td>\n",
       "      <td>1/11/2011 8:43</td>\n",
       "      <td>1.93</td>\n",
       "      <td>17450.0</td>\n",
       "      <td>United Kingdom</td>\n",
       "    </tr>\n",
       "    <tr>\n",
       "      <th>52134</th>\n",
       "      <td>540689</td>\n",
       "      <td>22470</td>\n",
       "      <td>HEART OF WICKER LARGE</td>\n",
       "      <td>1284</td>\n",
       "      <td>1/11/2011 8:43</td>\n",
       "      <td>3.21</td>\n",
       "      <td>17450.0</td>\n",
       "      <td>United Kingdom</td>\n",
       "    </tr>\n",
       "    <tr>\n",
       "      <th>52147</th>\n",
       "      <td>540691</td>\n",
       "      <td>22889</td>\n",
       "      <td>NUMBER TILE VINTAGE FONT No</td>\n",
       "      <td>24</td>\n",
       "      <td>1/11/2011 8:50</td>\n",
       "      <td>2.17</td>\n",
       "      <td>17450.0</td>\n",
       "      <td>United Kingdom</td>\n",
       "    </tr>\n",
       "    <tr>\n",
       "      <th>52148</th>\n",
       "      <td>540691</td>\n",
       "      <td>22887</td>\n",
       "      <td>NUMBER TILE VINTAGE FONT 8</td>\n",
       "      <td>16</td>\n",
       "      <td>1/11/2011 8:50</td>\n",
       "      <td>2.17</td>\n",
       "      <td>17450.0</td>\n",
       "      <td>United Kingdom</td>\n",
       "    </tr>\n",
       "    <tr>\n",
       "      <th>52149</th>\n",
       "      <td>540691</td>\n",
       "      <td>22886</td>\n",
       "      <td>NUMBER TILE VINTAGE FONT 7</td>\n",
       "      <td>16</td>\n",
       "      <td>1/11/2011 8:50</td>\n",
       "      <td>2.17</td>\n",
       "      <td>17450.0</td>\n",
       "      <td>United Kingdom</td>\n",
       "    </tr>\n",
       "  </tbody>\n",
       "</table>\n",
       "</div>"
      ],
      "text/plain": [
       "      invoiceno stockcode                         description  quantity  \\\n",
       "14059    537448     21756            BATH BUILDING BLOCK WORD         6   \n",
       "14067    537456     22469               HEART OF WICKER SMALL       402   \n",
       "14068    537456     22470               HEART OF WICKER LARGE       378   \n",
       "52131    540689     21733    RED HANGING HEART T-LIGHT HOLDER       860   \n",
       "52132    540689    85123A  WHITE HANGING HEART T-LIGHT HOLDER      1010   \n",
       "52133    540689     22469               HEART OF WICKER SMALL      1356   \n",
       "52134    540689     22470               HEART OF WICKER LARGE      1284   \n",
       "52147    540691     22889        NUMBER TILE VINTAGE FONT No         24   \n",
       "52148    540691     22887          NUMBER TILE VINTAGE FONT 8        16   \n",
       "52149    540691     22886          NUMBER TILE VINTAGE FONT 7        16   \n",
       "\n",
       "          invoicedate  unitprice  customerid         country  \n",
       "14059  12/7/2010 9:23       6.60     17450.0  United Kingdom  \n",
       "14067  12/7/2010 9:43       1.93     17450.0  United Kingdom  \n",
       "14068  12/7/2010 9:43       3.21     17450.0  United Kingdom  \n",
       "52131  1/11/2011 8:43       3.24     17450.0  United Kingdom  \n",
       "52132  1/11/2011 8:43       3.24     17450.0  United Kingdom  \n",
       "52133  1/11/2011 8:43       1.93     17450.0  United Kingdom  \n",
       "52134  1/11/2011 8:43       3.21     17450.0  United Kingdom  \n",
       "52147  1/11/2011 8:50       2.17     17450.0  United Kingdom  \n",
       "52148  1/11/2011 8:50       2.17     17450.0  United Kingdom  \n",
       "52149  1/11/2011 8:50       2.17     17450.0  United Kingdom  "
      ]
     },
     "execution_count": 40,
     "metadata": {},
     "output_type": "execute_result"
    }
   ],
   "source": [
    "df0[df0['customerid']==17450].head(10)"
   ]
  },
  {
   "cell_type": "code",
   "execution_count": 41,
   "metadata": {},
   "outputs": [],
   "source": [
    "# Another customer who just buys a lot :)"
   ]
  },
  {
   "cell_type": "code",
   "execution_count": 42,
   "metadata": {},
   "outputs": [
    {
     "data": {
      "text/html": [
       "<div>\n",
       "<style scoped>\n",
       "    .dataframe tbody tr th:only-of-type {\n",
       "        vertical-align: middle;\n",
       "    }\n",
       "\n",
       "    .dataframe tbody tr th {\n",
       "        vertical-align: top;\n",
       "    }\n",
       "\n",
       "    .dataframe thead th {\n",
       "        text-align: right;\n",
       "    }\n",
       "</style>\n",
       "<table border=\"1\" class=\"dataframe\">\n",
       "  <thead>\n",
       "    <tr style=\"text-align: right;\">\n",
       "      <th></th>\n",
       "      <th>customerid</th>\n",
       "      <th>profit</th>\n",
       "      <th>recencydays</th>\n",
       "      <th>items_kept</th>\n",
       "      <th>avg_ticket</th>\n",
       "      <th>frequency</th>\n",
       "      <th>avg_basket_size</th>\n",
       "    </tr>\n",
       "  </thead>\n",
       "  <tbody>\n",
       "    <tr>\n",
       "      <th>482</th>\n",
       "      <td>15838</td>\n",
       "      <td>33350.76</td>\n",
       "      <td>11.0</td>\n",
       "      <td>-2887.0</td>\n",
       "      <td>-11.552047</td>\n",
       "      <td>0.053221</td>\n",
       "      <td>0.001034</td>\n",
       "    </tr>\n",
       "    <tr>\n",
       "      <th>6818</th>\n",
       "      <td>16742</td>\n",
       "      <td>0.00</td>\n",
       "      <td>46.0</td>\n",
       "      <td>-189.0</td>\n",
       "      <td>-0.000000</td>\n",
       "      <td>1.000000</td>\n",
       "      <td>1.000000</td>\n",
       "    </tr>\n",
       "    <tr>\n",
       "      <th>173</th>\n",
       "      <td>15823</td>\n",
       "      <td>-840.76</td>\n",
       "      <td>372.0</td>\n",
       "      <td>-157.0</td>\n",
       "      <td>5.355159</td>\n",
       "      <td>1.000000</td>\n",
       "      <td>1.000000</td>\n",
       "    </tr>\n",
       "    <tr>\n",
       "      <th>137</th>\n",
       "      <td>16546</td>\n",
       "      <td>-95.93</td>\n",
       "      <td>290.0</td>\n",
       "      <td>-151.0</td>\n",
       "      <td>0.635298</td>\n",
       "      <td>0.024096</td>\n",
       "      <td>0.003643</td>\n",
       "    </tr>\n",
       "    <tr>\n",
       "      <th>6141</th>\n",
       "      <td>17603</td>\n",
       "      <td>-1165.30</td>\n",
       "      <td>78.0</td>\n",
       "      <td>-69.0</td>\n",
       "      <td>16.888406</td>\n",
       "      <td>1.000000</td>\n",
       "      <td>0.013514</td>\n",
       "    </tr>\n",
       "  </tbody>\n",
       "</table>\n",
       "</div>"
      ],
      "text/plain": [
       "      customerid    profit  recencydays  items_kept  avg_ticket  frequency  \\\n",
       "482        15838  33350.76         11.0     -2887.0  -11.552047   0.053221   \n",
       "6818       16742      0.00         46.0      -189.0   -0.000000   1.000000   \n",
       "173        15823   -840.76        372.0      -157.0    5.355159   1.000000   \n",
       "137        16546    -95.93        290.0      -151.0    0.635298   0.024096   \n",
       "6141       17603  -1165.30         78.0       -69.0   16.888406   1.000000   \n",
       "\n",
       "      avg_basket_size  \n",
       "482          0.001034  \n",
       "6818         1.000000  \n",
       "173          1.000000  \n",
       "137          0.003643  \n",
       "6141         0.013514  "
      ]
     },
     "execution_count": 42,
     "metadata": {},
     "output_type": "execute_result"
    }
   ],
   "source": [
    "df4.sort_values('items_kept', ascending=True).head()"
   ]
  },
  {
   "cell_type": "code",
   "execution_count": 43,
   "metadata": {},
   "outputs": [
    {
     "data": {
      "text/html": [
       "<div>\n",
       "<style scoped>\n",
       "    .dataframe tbody tr th:only-of-type {\n",
       "        vertical-align: middle;\n",
       "    }\n",
       "\n",
       "    .dataframe tbody tr th {\n",
       "        vertical-align: top;\n",
       "    }\n",
       "\n",
       "    .dataframe thead th {\n",
       "        text-align: right;\n",
       "    }\n",
       "</style>\n",
       "<table border=\"1\" class=\"dataframe\">\n",
       "  <thead>\n",
       "    <tr style=\"text-align: right;\">\n",
       "      <th></th>\n",
       "      <th>invoiceno</th>\n",
       "      <th>stockcode</th>\n",
       "      <th>description</th>\n",
       "      <th>quantity</th>\n",
       "      <th>invoicedate</th>\n",
       "      <th>unitprice</th>\n",
       "      <th>customerid</th>\n",
       "      <th>country</th>\n",
       "    </tr>\n",
       "  </thead>\n",
       "  <tbody>\n",
       "    <tr>\n",
       "      <th>4287</th>\n",
       "      <td>C536757</td>\n",
       "      <td>84347</td>\n",
       "      <td>ROTATING SILVER ANGELS T-LIGHT HLDR</td>\n",
       "      <td>-9360</td>\n",
       "      <td>12/2/2010 14:23</td>\n",
       "      <td>0.03</td>\n",
       "      <td>15838.0</td>\n",
       "      <td>United Kingdom</td>\n",
       "    </tr>\n",
       "    <tr>\n",
       "      <th>14269</th>\n",
       "      <td>537476</td>\n",
       "      <td>22379</td>\n",
       "      <td>RECYCLING BAG RETROSPOT</td>\n",
       "      <td>150</td>\n",
       "      <td>12/7/2010 11:26</td>\n",
       "      <td>1.85</td>\n",
       "      <td>15838.0</td>\n",
       "      <td>United Kingdom</td>\n",
       "    </tr>\n",
       "    <tr>\n",
       "      <th>14270</th>\n",
       "      <td>537476</td>\n",
       "      <td>22381</td>\n",
       "      <td>TOY TIDY PINK POLKADOT</td>\n",
       "      <td>100</td>\n",
       "      <td>12/7/2010 11:26</td>\n",
       "      <td>1.85</td>\n",
       "      <td>15838.0</td>\n",
       "      <td>United Kingdom</td>\n",
       "    </tr>\n",
       "    <tr>\n",
       "      <th>14271</th>\n",
       "      <td>537476</td>\n",
       "      <td>85099B</td>\n",
       "      <td>JUMBO BAG RED RETROSPOT</td>\n",
       "      <td>300</td>\n",
       "      <td>12/7/2010 11:26</td>\n",
       "      <td>1.65</td>\n",
       "      <td>15838.0</td>\n",
       "      <td>United Kingdom</td>\n",
       "    </tr>\n",
       "    <tr>\n",
       "      <th>79207</th>\n",
       "      <td>542921</td>\n",
       "      <td>22379</td>\n",
       "      <td>RECYCLING BAG RETROSPOT</td>\n",
       "      <td>100</td>\n",
       "      <td>2/2/2011 7:58</td>\n",
       "      <td>1.85</td>\n",
       "      <td>15838.0</td>\n",
       "      <td>United Kingdom</td>\n",
       "    </tr>\n",
       "    <tr>\n",
       "      <th>79208</th>\n",
       "      <td>542921</td>\n",
       "      <td>22381</td>\n",
       "      <td>TOY TIDY PINK POLKADOT</td>\n",
       "      <td>50</td>\n",
       "      <td>2/2/2011 7:58</td>\n",
       "      <td>1.85</td>\n",
       "      <td>15838.0</td>\n",
       "      <td>United Kingdom</td>\n",
       "    </tr>\n",
       "    <tr>\n",
       "      <th>115895</th>\n",
       "      <td>546160</td>\n",
       "      <td>22742</td>\n",
       "      <td>MAKE YOUR OWN PLAYTIME CARD KIT</td>\n",
       "      <td>48</td>\n",
       "      <td>3/10/2011 9:49</td>\n",
       "      <td>2.55</td>\n",
       "      <td>15838.0</td>\n",
       "      <td>United Kingdom</td>\n",
       "    </tr>\n",
       "    <tr>\n",
       "      <th>115896</th>\n",
       "      <td>546160</td>\n",
       "      <td>22743</td>\n",
       "      <td>MAKE YOUR OWN FLOWERPOWER CARD KIT</td>\n",
       "      <td>48</td>\n",
       "      <td>3/10/2011 9:49</td>\n",
       "      <td>2.55</td>\n",
       "      <td>15838.0</td>\n",
       "      <td>United Kingdom</td>\n",
       "    </tr>\n",
       "    <tr>\n",
       "      <th>115897</th>\n",
       "      <td>546160</td>\n",
       "      <td>22746</td>\n",
       "      <td>POPPY'S PLAYHOUSE LIVINGROOM</td>\n",
       "      <td>60</td>\n",
       "      <td>3/10/2011 9:49</td>\n",
       "      <td>1.85</td>\n",
       "      <td>15838.0</td>\n",
       "      <td>United Kingdom</td>\n",
       "    </tr>\n",
       "    <tr>\n",
       "      <th>115898</th>\n",
       "      <td>546160</td>\n",
       "      <td>22748</td>\n",
       "      <td>POPPY'S PLAYHOUSE KITCHEN</td>\n",
       "      <td>60</td>\n",
       "      <td>3/10/2011 9:49</td>\n",
       "      <td>1.85</td>\n",
       "      <td>15838.0</td>\n",
       "      <td>United Kingdom</td>\n",
       "    </tr>\n",
       "  </tbody>\n",
       "</table>\n",
       "</div>"
      ],
      "text/plain": [
       "       invoiceno stockcode                          description  quantity  \\\n",
       "4287     C536757     84347  ROTATING SILVER ANGELS T-LIGHT HLDR     -9360   \n",
       "14269     537476     22379             RECYCLING BAG RETROSPOT        150   \n",
       "14270     537476     22381               TOY TIDY PINK POLKADOT       100   \n",
       "14271     537476    85099B              JUMBO BAG RED RETROSPOT       300   \n",
       "79207     542921     22379             RECYCLING BAG RETROSPOT        100   \n",
       "79208     542921     22381               TOY TIDY PINK POLKADOT        50   \n",
       "115895    546160     22742      MAKE YOUR OWN PLAYTIME CARD KIT        48   \n",
       "115896    546160     22743   MAKE YOUR OWN FLOWERPOWER CARD KIT        48   \n",
       "115897    546160     22746        POPPY'S PLAYHOUSE LIVINGROOM         60   \n",
       "115898    546160     22748            POPPY'S PLAYHOUSE KITCHEN        60   \n",
       "\n",
       "            invoicedate  unitprice  customerid         country  \n",
       "4287    12/2/2010 14:23       0.03     15838.0  United Kingdom  \n",
       "14269   12/7/2010 11:26       1.85     15838.0  United Kingdom  \n",
       "14270   12/7/2010 11:26       1.85     15838.0  United Kingdom  \n",
       "14271   12/7/2010 11:26       1.65     15838.0  United Kingdom  \n",
       "79207     2/2/2011 7:58       1.85     15838.0  United Kingdom  \n",
       "79208     2/2/2011 7:58       1.85     15838.0  United Kingdom  \n",
       "115895   3/10/2011 9:49       2.55     15838.0  United Kingdom  \n",
       "115896   3/10/2011 9:49       2.55     15838.0  United Kingdom  \n",
       "115897   3/10/2011 9:49       1.85     15838.0  United Kingdom  \n",
       "115898   3/10/2011 9:49       1.85     15838.0  United Kingdom  "
      ]
     },
     "execution_count": 43,
     "metadata": {},
     "output_type": "execute_result"
    }
   ],
   "source": [
    "df0[df0['customerid']==15838].head(10)"
   ]
  },
  {
   "cell_type": "code",
   "execution_count": 44,
   "metadata": {},
   "outputs": [],
   "source": [
    "# he delivered a lot of items :O"
   ]
  },
  {
   "cell_type": "markdown",
   "metadata": {},
   "source": [
    "**Notes**\n"
   ]
  },
  {
   "cell_type": "raw",
   "metadata": {},
   "source": [
    "profile = ProfileReport( df4 )\n",
    "profile.to_file(\"output.html\")"
   ]
  },
  {
   "cell_type": "markdown",
   "metadata": {},
   "source": [
    "## 4.2 Space study  PCA"
   ]
  },
  {
   "cell_type": "code",
   "execution_count": 45,
   "metadata": {},
   "outputs": [],
   "source": [
    "df42=df4.drop('customerid',axis=1).copy()"
   ]
  },
  {
   "cell_type": "code",
   "execution_count": 46,
   "metadata": {},
   "outputs": [],
   "source": [
    "from sklearn.preprocessing import MinMaxScaler\n",
    "from sklearn.decomposition import PCA\n",
    "from sklearn.manifold import TSNE\n",
    "from sklearn.ensemble import RandomForestRegressor"
   ]
  },
  {
   "cell_type": "code",
   "execution_count": 47,
   "metadata": {},
   "outputs": [
    {
     "data": {
      "text/plain": [
       "PCA()"
      ]
     },
     "execution_count": 47,
     "metadata": {},
     "output_type": "execute_result"
    }
   ],
   "source": [
    "PCA()"
   ]
  },
  {
   "cell_type": "code",
   "execution_count": 48,
   "metadata": {},
   "outputs": [
    {
     "data": {
      "text/html": [
       "<div>\n",
       "<style scoped>\n",
       "    .dataframe tbody tr th:only-of-type {\n",
       "        vertical-align: middle;\n",
       "    }\n",
       "\n",
       "    .dataframe tbody tr th {\n",
       "        vertical-align: top;\n",
       "    }\n",
       "\n",
       "    .dataframe thead th {\n",
       "        text-align: right;\n",
       "    }\n",
       "</style>\n",
       "<table border=\"1\" class=\"dataframe\">\n",
       "  <thead>\n",
       "    <tr style=\"text-align: right;\">\n",
       "      <th></th>\n",
       "      <th>profit</th>\n",
       "      <th>recencydays</th>\n",
       "      <th>items_kept</th>\n",
       "      <th>avg_ticket</th>\n",
       "      <th>frequency</th>\n",
       "      <th>avg_basket_size</th>\n",
       "    </tr>\n",
       "  </thead>\n",
       "  <tbody>\n",
       "    <tr>\n",
       "      <th>0</th>\n",
       "      <td>0.022996</td>\n",
       "      <td>0.997319</td>\n",
       "      <td>0.071504</td>\n",
       "      <td>0.046109</td>\n",
       "      <td>1.000000</td>\n",
       "      <td>0.019595</td>\n",
       "    </tr>\n",
       "    <tr>\n",
       "      <th>1</th>\n",
       "      <td>0.015123</td>\n",
       "      <td>0.083110</td>\n",
       "      <td>0.074265</td>\n",
       "      <td>0.020506</td>\n",
       "      <td>0.001395</td>\n",
       "      <td>0.007165</td>\n",
       "    </tr>\n",
       "    <tr>\n",
       "      <th>2</th>\n",
       "      <td>0.029761</td>\n",
       "      <td>0.005362</td>\n",
       "      <td>0.108600</td>\n",
       "      <td>0.019078</td>\n",
       "      <td>0.002052</td>\n",
       "      <td>0.002940</td>\n",
       "    </tr>\n",
       "    <tr>\n",
       "      <th>3</th>\n",
       "      <td>0.007531</td>\n",
       "      <td>0.254692</td>\n",
       "      <td>0.075325</td>\n",
       "      <td>0.019142</td>\n",
       "      <td>0.000734</td>\n",
       "      <td>0.011365</td>\n",
       "    </tr>\n",
       "    <tr>\n",
       "      <th>4</th>\n",
       "      <td>0.006415</td>\n",
       "      <td>0.892761</td>\n",
       "      <td>0.071800</td>\n",
       "      <td>0.020505</td>\n",
       "      <td>0.003985</td>\n",
       "      <td>0.037476</td>\n",
       "    </tr>\n",
       "  </tbody>\n",
       "</table>\n",
       "</div>"
      ],
      "text/plain": [
       "     profit  recencydays  items_kept  avg_ticket  frequency  avg_basket_size\n",
       "0  0.022996     0.997319    0.071504    0.046109   1.000000         0.019595\n",
       "1  0.015123     0.083110    0.074265    0.020506   0.001395         0.007165\n",
       "2  0.029761     0.005362    0.108600    0.019078   0.002052         0.002940\n",
       "3  0.007531     0.254692    0.075325    0.019142   0.000734         0.011365\n",
       "4  0.006415     0.892761    0.071800    0.020505   0.003985         0.037476"
      ]
     },
     "execution_count": 48,
     "metadata": {},
     "output_type": "execute_result"
    }
   ],
   "source": [
    "mms = MinMaxScaler()\n",
    "\n",
    "for i in df42.columns:\n",
    "    df42[i]=mms.fit_transform(df42[[i]])\n",
    "\n",
    "X=df42.copy()\n",
    "X.head()"
   ]
  },
  {
   "cell_type": "code",
   "execution_count": 49,
   "metadata": {},
   "outputs": [],
   "source": [
    "\n",
    "pca = PCA(n_components=X.shape[1])\n",
    "\n",
    "principal_components = pca.fit_transform(X)\n",
    "\n",
    "features = range( pca.n_components_)\n",
    "\n",
    "plt.bar( features, pca.explained_variance_ratio_, color='black')\n",
    "\n",
    "df_pca=pd.DataFrame(principal_components)"
   ]
  },
  {
   "cell_type": "code",
   "execution_count": 50,
   "metadata": {},
   "outputs": [
    {
     "data": {
      "text/html": [
       "<div>\n",
       "<style scoped>\n",
       "    .dataframe tbody tr th:only-of-type {\n",
       "        vertical-align: middle;\n",
       "    }\n",
       "\n",
       "    .dataframe tbody tr th {\n",
       "        vertical-align: top;\n",
       "    }\n",
       "\n",
       "    .dataframe thead th {\n",
       "        text-align: right;\n",
       "    }\n",
       "</style>\n",
       "<table border=\"1\" class=\"dataframe\">\n",
       "  <thead>\n",
       "    <tr style=\"text-align: right;\">\n",
       "      <th></th>\n",
       "      <th>0</th>\n",
       "      <th>1</th>\n",
       "      <th>2</th>\n",
       "      <th>3</th>\n",
       "      <th>4</th>\n",
       "      <th>5</th>\n",
       "    </tr>\n",
       "  </thead>\n",
       "  <tbody>\n",
       "    <tr>\n",
       "      <th>0</th>\n",
       "      <td>0.677264</td>\n",
       "      <td>-0.220741</td>\n",
       "      <td>-0.339669</td>\n",
       "      <td>0.870838</td>\n",
       "      <td>0.030309</td>\n",
       "      <td>-0.002198</td>\n",
       "    </tr>\n",
       "    <tr>\n",
       "      <th>1</th>\n",
       "      <td>-0.258320</td>\n",
       "      <td>-0.009068</td>\n",
       "      <td>0.007258</td>\n",
       "      <td>-0.019448</td>\n",
       "      <td>0.002485</td>\n",
       "      <td>-0.004574</td>\n",
       "    </tr>\n",
       "    <tr>\n",
       "      <th>2</th>\n",
       "      <td>-0.334877</td>\n",
       "      <td>0.006647</td>\n",
       "      <td>0.035245</td>\n",
       "      <td>-0.003383</td>\n",
       "      <td>-0.003627</td>\n",
       "      <td>0.011901</td>\n",
       "    </tr>\n",
       "    <tr>\n",
       "      <th>3</th>\n",
       "      <td>-0.091591</td>\n",
       "      <td>-0.049126</td>\n",
       "      <td>0.007621</td>\n",
       "      <td>-0.028569</td>\n",
       "      <td>-0.000296</td>\n",
       "      <td>0.000407</td>\n",
       "    </tr>\n",
       "    <tr>\n",
       "      <th>4</th>\n",
       "      <td>0.531187</td>\n",
       "      <td>-0.187909</td>\n",
       "      <td>0.022189</td>\n",
       "      <td>-0.051124</td>\n",
       "      <td>0.001020</td>\n",
       "      <td>-0.001666</td>\n",
       "    </tr>\n",
       "  </tbody>\n",
       "</table>\n",
       "</div>"
      ],
      "text/plain": [
       "          0         1         2         3         4         5\n",
       "0  0.677264 -0.220741 -0.339669  0.870838  0.030309 -0.002198\n",
       "1 -0.258320 -0.009068  0.007258 -0.019448  0.002485 -0.004574\n",
       "2 -0.334877  0.006647  0.035245 -0.003383 -0.003627  0.011901\n",
       "3 -0.091591 -0.049126  0.007621 -0.028569 -0.000296  0.000407\n",
       "4  0.531187 -0.187909  0.022189 -0.051124  0.001020 -0.001666"
      ]
     },
     "execution_count": 50,
     "metadata": {},
     "output_type": "execute_result"
    }
   ],
   "source": [
    "df_pca.head()"
   ]
  },
  {
   "cell_type": "code",
   "execution_count": 51,
   "metadata": {},
   "outputs": [
    {
     "data": {
      "text/plain": [
       "<AxesSubplot:xlabel='0', ylabel='1'>"
      ]
     },
     "execution_count": 51,
     "metadata": {},
     "output_type": "execute_result"
    }
   ],
   "source": [
    "sns.scatterplot(x=0 , y=1, data=df_pca)"
   ]
  },
  {
   "cell_type": "markdown",
   "metadata": {},
   "source": [
    "## 4.2 Space study - UMAP"
   ]
  },
  {
   "cell_type": "code",
   "execution_count": 52,
   "metadata": {},
   "outputs": [
    {
     "data": {
      "text/plain": [
       "<AxesSubplot:xlabel='0', ylabel='1'>"
      ]
     },
     "execution_count": 52,
     "metadata": {},
     "output_type": "execute_result"
    }
   ],
   "source": [
    "reducer = umap.UMAP( random_state=42)\n",
    "embedding = reducer.fit_transform( X )\n",
    "\n",
    "# embedding\n",
    "df_pca['embedding_x']=embedding[:,0]\n",
    "df_pca['embedding_y']=embedding[:,1]\n",
    "\n",
    "# plot UMAP\n",
    "sns.scatterplot(x='embedding_x',y='embedding_y',\n",
    "                data=df_pca)"
   ]
  },
  {
   "cell_type": "markdown",
   "metadata": {},
   "source": [
    "## 4.3 Space Study - t-SNE"
   ]
  },
  {
   "cell_type": "code",
   "execution_count": 53,
   "metadata": {},
   "outputs": [
    {
     "name": "stderr",
     "output_type": "stream",
     "text": [
      "p:\\Anaconda3\\envs\\automl\\lib\\site-packages\\sklearn\\manifold\\_t_sne.py:780: FutureWarning: The default initialization in TSNE will change from 'random' to 'pca' in 1.2.\n",
      "  warnings.warn(\n",
      "p:\\Anaconda3\\envs\\automl\\lib\\site-packages\\sklearn\\manifold\\_t_sne.py:790: FutureWarning: The default learning rate in TSNE will change from 200.0 to 'auto' in 1.2.\n",
      "  warnings.warn(\n"
     ]
    },
    {
     "data": {
      "text/plain": [
       "<AxesSubplot:xlabel='0', ylabel='1'>"
      ]
     },
     "execution_count": 53,
     "metadata": {},
     "output_type": "execute_result"
    }
   ],
   "source": [
    "reducer = TSNE( random_state=42)\n",
    "embedding = reducer.fit_transform( X )\n",
    "\n",
    "# embedding\n",
    "df_pca['embedding_x']=embedding[:,0]\n",
    "df_pca['embedding_y']=embedding[:,1]\n",
    "\n",
    "# plot UMAP\n",
    "sns.scatterplot(x='embedding_x',y='embedding_y',\n",
    "                data=df_pca)"
   ]
  },
  {
   "cell_type": "markdown",
   "metadata": {},
   "source": [
    "## Space based Tree-Based Embedding"
   ]
  },
  {
   "cell_type": "code",
   "execution_count": 54,
   "metadata": {},
   "outputs": [],
   "source": [
    "# training dataset\n",
    "\n",
    "X = df4.drop(['profit','profit'],axis=1)\n",
    "y = df4['profit']\n",
    "\n",
    "\n",
    "# model definition\n",
    "rf_model = RandomForestRegressor( n_estimators=100, random_state=42)\n",
    "\n",
    "# model training\n",
    "\n",
    "rf_model.fit( X, y )\n",
    "\n",
    "#leaf \n",
    "\n",
    "df_leaf = pd.DataFrame(rf_model.apply(X))"
   ]
  },
  {
   "cell_type": "code",
   "execution_count": 55,
   "metadata": {},
   "outputs": [
    {
     "name": "stderr",
     "output_type": "stream",
     "text": [
      "p:\\Anaconda3\\envs\\automl\\lib\\site-packages\\sklearn\\manifold\\_t_sne.py:780: FutureWarning: The default initialization in TSNE will change from 'random' to 'pca' in 1.2.\n",
      "  warnings.warn(\n",
      "p:\\Anaconda3\\envs\\automl\\lib\\site-packages\\sklearn\\manifold\\_t_sne.py:790: FutureWarning: The default learning rate in TSNE will change from 200.0 to 'auto' in 1.2.\n",
      "  warnings.warn(\n"
     ]
    },
    {
     "data": {
      "text/plain": [
       "<AxesSubplot:xlabel='0', ylabel='1'>"
      ]
     },
     "execution_count": 55,
     "metadata": {},
     "output_type": "execute_result"
    }
   ],
   "source": [
    "reducer = TSNE( random_state=42)\n",
    "embedding = reducer.fit_transform( df_leaf )\n",
    "\n",
    "# embedding\n",
    "df_leaf['embedding_x']=embedding[:,0]\n",
    "df_leaf['embedding_y']=embedding[:,1]\n",
    "\n",
    "# plot UMAP\n",
    "sns.scatterplot(x='embedding_x',y='embedding_y',\n",
    "                data=df_leaf)"
   ]
  },
  {
   "cell_type": "markdown",
   "metadata": {},
   "source": [
    "## 4.4 Bivariate analysis"
   ]
  },
  {
   "cell_type": "code",
   "execution_count": 56,
   "metadata": {},
   "outputs": [
    {
     "name": "stderr",
     "output_type": "stream",
     "text": [
      "C:\\Users\\kosmo\\AppData\\Local\\Temp\\ipykernel_10532\\1766080129.py:2: UserWarning: Matplotlib is currently using agg, which is a non-GUI backend, so cannot show the figure.\n",
      "  plt.show()\n"
     ]
    }
   ],
   "source": [
    "sns.pairplot(df4)\n",
    "plt.show()"
   ]
  },
  {
   "cell_type": "markdown",
   "metadata": {},
   "source": [
    "# 5.0 Data Preparation"
   ]
  },
  {
   "cell_type": "code",
   "execution_count": 57,
   "metadata": {},
   "outputs": [],
   "source": [
    "df5=df4.copy()"
   ]
  },
  {
   "cell_type": "code",
   "execution_count": 58,
   "metadata": {},
   "outputs": [
    {
     "data": {
      "text/plain": [
       "Index(['customerid', 'profit', 'recencydays', 'items_kept', 'avg_ticket',\n",
       "       'frequency', 'avg_basket_size'],\n",
       "      dtype='object')"
      ]
     },
     "execution_count": 58,
     "metadata": {},
     "output_type": "execute_result"
    }
   ],
   "source": [
    "df5.columns"
   ]
  },
  {
   "cell_type": "code",
   "execution_count": 59,
   "metadata": {},
   "outputs": [
    {
     "data": {
      "text/html": [
       "<div>\n",
       "<style scoped>\n",
       "    .dataframe tbody tr th:only-of-type {\n",
       "        vertical-align: middle;\n",
       "    }\n",
       "\n",
       "    .dataframe tbody tr th {\n",
       "        vertical-align: top;\n",
       "    }\n",
       "\n",
       "    .dataframe thead th {\n",
       "        text-align: right;\n",
       "    }\n",
       "</style>\n",
       "<table border=\"1\" class=\"dataframe\">\n",
       "  <thead>\n",
       "    <tr style=\"text-align: right;\">\n",
       "      <th></th>\n",
       "      <th>customerid</th>\n",
       "      <th>profit</th>\n",
       "      <th>recencydays</th>\n",
       "      <th>items_kept</th>\n",
       "      <th>avg_ticket</th>\n",
       "      <th>frequency</th>\n",
       "      <th>avg_basket_size</th>\n",
       "    </tr>\n",
       "  </thead>\n",
       "  <tbody>\n",
       "    <tr>\n",
       "      <th>0</th>\n",
       "      <td>17850</td>\n",
       "      <td>0.022996</td>\n",
       "      <td>0.997319</td>\n",
       "      <td>0.071504</td>\n",
       "      <td>0.046109</td>\n",
       "      <td>1.000000</td>\n",
       "      <td>0.019595</td>\n",
       "    </tr>\n",
       "    <tr>\n",
       "      <th>1</th>\n",
       "      <td>13047</td>\n",
       "      <td>0.015123</td>\n",
       "      <td>0.083110</td>\n",
       "      <td>0.074265</td>\n",
       "      <td>0.020506</td>\n",
       "      <td>0.001395</td>\n",
       "      <td>0.007165</td>\n",
       "    </tr>\n",
       "    <tr>\n",
       "      <th>2</th>\n",
       "      <td>12583</td>\n",
       "      <td>0.029761</td>\n",
       "      <td>0.005362</td>\n",
       "      <td>0.108600</td>\n",
       "      <td>0.019078</td>\n",
       "      <td>0.002052</td>\n",
       "      <td>0.002940</td>\n",
       "    </tr>\n",
       "    <tr>\n",
       "      <th>3</th>\n",
       "      <td>13748</td>\n",
       "      <td>0.007531</td>\n",
       "      <td>0.254692</td>\n",
       "      <td>0.075325</td>\n",
       "      <td>0.019142</td>\n",
       "      <td>0.000734</td>\n",
       "      <td>0.011365</td>\n",
       "    </tr>\n",
       "    <tr>\n",
       "      <th>4</th>\n",
       "      <td>15100</td>\n",
       "      <td>0.006415</td>\n",
       "      <td>0.892761</td>\n",
       "      <td>0.071800</td>\n",
       "      <td>0.020505</td>\n",
       "      <td>0.003985</td>\n",
       "      <td>0.037476</td>\n",
       "    </tr>\n",
       "  </tbody>\n",
       "</table>\n",
       "</div>"
      ],
      "text/plain": [
       "   customerid    profit  recencydays  items_kept  avg_ticket  frequency  \\\n",
       "0       17850  0.022996     0.997319    0.071504    0.046109   1.000000   \n",
       "1       13047  0.015123     0.083110    0.074265    0.020506   0.001395   \n",
       "2       12583  0.029761     0.005362    0.108600    0.019078   0.002052   \n",
       "3       13748  0.007531     0.254692    0.075325    0.019142   0.000734   \n",
       "4       15100  0.006415     0.892761    0.071800    0.020505   0.003985   \n",
       "\n",
       "   avg_basket_size  \n",
       "0         0.019595  \n",
       "1         0.007165  \n",
       "2         0.002940  \n",
       "3         0.011365  \n",
       "4         0.037476  "
      ]
     },
     "execution_count": 59,
     "metadata": {},
     "output_type": "execute_result"
    }
   ],
   "source": [
    "from sklearn.preprocessing import StandardScaler, RobustScaler\n",
    "\n",
    "mms=MinMaxScaler()\n",
    "ss=StandardScaler()\n",
    "rs=RobustScaler()\n",
    "\n",
    "\n",
    "for i in df5.drop('customerid',axis=1).columns:\n",
    "    df5[[i]] = mms.fit_transform(df5[[i]])\n",
    "\n",
    "\n",
    "df5.head()"
   ]
  },
  {
   "cell_type": "markdown",
   "metadata": {},
   "source": [
    "# 6.0 Feature Selection"
   ]
  },
  {
   "cell_type": "code",
   "execution_count": 60,
   "metadata": {},
   "outputs": [],
   "source": [
    "df6=df5.copy()"
   ]
  },
  {
   "cell_type": "markdown",
   "metadata": {},
   "source": [
    "# 7.0 Hyperparameter Tuning"
   ]
  },
  {
   "cell_type": "code",
   "execution_count": 61,
   "metadata": {},
   "outputs": [],
   "source": [
    "df7=df6.copy()"
   ]
  },
  {
   "cell_type": "code",
   "execution_count": 62,
   "metadata": {},
   "outputs": [],
   "source": [
    "X=df6.drop(columns=['customerid'])"
   ]
  },
  {
   "cell_type": "code",
   "execution_count": 63,
   "metadata": {},
   "outputs": [],
   "source": [
    "clusters= [2, 3, 4, 5, 6, 7, 8, 9]"
   ]
  },
  {
   "cell_type": "markdown",
   "metadata": {},
   "source": [
    "## 7.1 Within-Cluster Sum of Squares (WSS)"
   ]
  },
  {
   "cell_type": "code",
   "execution_count": 75,
   "metadata": {},
   "outputs": [
    {
     "data": {
      "image/png": "[encoded data removed]",
      "text/plain": [
       "<Figure size 1440x720 with 2 Axes>"
      ]
     },
     "metadata": {
      "needs_background": "light"
     },
     "output_type": "display_data"
    }
   ],
   "source": [
    "plt.subplot(1,2,1)\n",
    "kmeans = KElbowVisualizer( c.KMeans(), k=clusters, timings=False, metric='distortion')\n",
    "kmeans.fit(X)\n",
    "\n",
    "\n",
    "plt.subplot(1,2,2)\n",
    "kmeans = KElbowVisualizer( c.KMeans(), k=clusters, timings=False, metric='silhouette')\n",
    "kmeans.fit(X)\n",
    "plt.gcf().set_size_inches(20,10)\n",
    "kmeans.finalize()"
   ]
  },
  {
   "cell_type": "code",
   "execution_count": 106,
   "metadata": {},
   "outputs": [],
   "source": [
    "kmeans_list = []\n",
    "for k in clusters:\n",
    "    # model definition\n",
    "    kmeans_model = c.KMeans( n_clusters=k )\n",
    "\n",
    "    # model training\n",
    "    kmeans_model.fit( X )\n",
    "\n",
    "    # model predict\n",
    "    labels = kmeans_model.predict( X )\n",
    "\n",
    "    # model performance\n",
    "    sil = m.silhouette_score( X, labels, metric='euclidean' )\n",
    "    kmeans_list.append( sil )"
   ]
  },
  {
   "cell_type": "code",
   "execution_count": 107,
   "metadata": {},
   "outputs": [
    {
     "data": {
      "image/png": "[encoded data removed]",
      "text/plain": [
       "<Figure size 1080x576 with 1 Axes>"
      ]
     },
     "metadata": {
      "needs_background": "light"
     },
     "output_type": "display_data"
    }
   ],
   "source": [
    "plt.plot( clusters, kmeans_list, linestyle='--', marker='o', color='b' )\n",
    "plt.xlabel( 'K' );\n",
    "plt.ylabel( 'Silhouette Score' );\n",
    "plt.title( 'Silhouette Score x K' );"
   ]
  },
  {
   "cell_type": "markdown",
   "metadata": {},
   "source": [
    "## 7.2. GMM"
   ]
  },
  {
   "cell_type": "code",
   "execution_count": 85,
   "metadata": {},
   "outputs": [],
   "source": [
    "from sklearn.mixture import GaussianMixture"
   ]
  },
  {
   "cell_type": "code",
   "execution_count": 87,
   "metadata": {},
   "outputs": [],
   "source": [
    "gmm_list = []\n",
    "for k in clusters:\n",
    "    # model definition\n",
    "    gmm_model = GaussianMixture( n_components=k )\n",
    "\n",
    "    # model training\n",
    "    gmm_model.fit( X )\n",
    "\n",
    "    # model predict\n",
    "    labels = gmm_model.predict( X )\n",
    "\n",
    "    # model performance\n",
    "    sil = m.silhouette_score( X, labels, metric='euclidean' )\n",
    "    gmm_list.append( sil )"
   ]
  },
  {
   "cell_type": "code",
   "execution_count": 89,
   "metadata": {},
   "outputs": [
    {
     "data": {
      "text/plain": [
       "Text(0.5, 1.0, 'Sil x K')"
      ]
     },
     "execution_count": 89,
     "metadata": {},
     "output_type": "execute_result"
    },
    {
     "data": {
      "image/png": "[encoded data removed]",
      "text/plain": [
       "<Figure size 1080x576 with 1 Axes>"
      ]
     },
     "metadata": {
      "needs_background": "light"
     },
     "output_type": "display_data"
    }
   ],
   "source": [
    "plt.plot( clusters, gmm_list, linestyle='--', marker='o', color='b' )\n",
    "plt.xlabel( 'k')\n",
    "plt.ylabel( 'Silhouette Score')\n",
    "plt.title( 'Sil x K')"
   ]
  },
  {
   "cell_type": "markdown",
   "metadata": {},
   "source": [
    "## 7.3. HIERARCHICAL CLUSTERING"
   ]
  },
  {
   "cell_type": "code",
   "execution_count": 92,
   "metadata": {},
   "outputs": [],
   "source": [
    "from scipy.cluster import hierarchy as hc "
   ]
  },
  {
   "cell_type": "code",
   "execution_count": 93,
   "metadata": {},
   "outputs": [
    {
     "data": {
      "text/plain": [
       "[]"
      ]
     },
     "execution_count": 93,
     "metadata": {},
     "output_type": "execute_result"
    },
    {
     "data": {
      "image/png": "[encoded data removed]",
      "text/plain": [
       "<Figure size 1080x576 with 1 Axes>"
      ]
     },
     "metadata": {
      "needs_background": "light"
     },
     "output_type": "display_data"
    }
   ],
   "source": [
    "hc_model = hc.linkage( X, 'ward' )\n",
    "hc.dendrogram( \n",
    "    hc_model, \n",
    "    leaf_rotation=90,\n",
    "    leaf_font_size=8\n",
    ")\n",
    "plt.plot()"
   ]
  },
  {
   "cell_type": "code",
   "execution_count": 94,
   "metadata": {},
   "outputs": [
    {
     "data": {
      "image/png": "[encoded data removed]",
      "text/plain": [
       "<Figure size 1080x576 with 1 Axes>"
      ]
     },
     "metadata": {
      "needs_background": "light"
     },
     "output_type": "display_data"
    }
   ],
   "source": [
    "hc.dendrogram( \n",
    "    hc_model,\n",
    "    truncate_mode='lastp',\n",
    "    p=12,\n",
    "    leaf_rotation=90,\n",
    "    leaf_font_size=8,\n",
    "    show_contracted=True\n",
    ")\n",
    "\n",
    "plt.show()"
   ]
  },
  {
   "cell_type": "code",
   "execution_count": 95,
   "metadata": {},
   "outputs": [],
   "source": [
    "hc_list = []\n",
    "for k in clusters:\n",
    "    # model definition & training\n",
    "    hc_model = hc.linkage( X, 'ward' )\n",
    "\n",
    "    # model predict\n",
    "    labels = hc.fcluster( hc_model, k, criterion='maxclust' )\n",
    "\n",
    "    # metrics\n",
    "    sil = m.silhouette_score( X, labels, metric='euclidean' )\n",
    "    hc_list.append( sil )"
   ]
  },
  {
   "cell_type": "code",
   "execution_count": 96,
   "metadata": {},
   "outputs": [
    {
     "data": {
      "text/plain": [
       "[<matplotlib.lines.Line2D at 0x227057fc7f0>]"
      ]
     },
     "execution_count": 96,
     "metadata": {},
     "output_type": "execute_result"
    },
    {
     "data": {
      "image/png": "[encoded data removed]",
      "text/plain": [
       "<Figure size 1080x576 with 1 Axes>"
      ]
     },
     "metadata": {
      "needs_background": "light"
     },
     "output_type": "display_data"
    }
   ],
   "source": [
    "plt.plot( clusters,  hc_list, linestyle='--', marker='o', color='b' ) "
   ]
  },
  {
   "cell_type": "markdown",
   "metadata": {},
   "source": [
    "## 7.4 DBSCAN"
   ]
  },
  {
   "cell_type": "code",
   "execution_count": 100,
   "metadata": {},
   "outputs": [
    {
     "name": "stdout",
     "output_type": "stream",
     "text": [
      "Silhouette Score: 0.6197941417444582\n",
      "Number of Clusters: 3\n",
      "[-1  0  1]\n"
     ]
    }
   ],
   "source": [
    "eps=0.2\n",
    "min_samples=20 \n",
    "\n",
    "# model definition\n",
    "dbscan_model = c.DBSCAN( eps=eps, min_samples=min_samples )\n",
    "\n",
    "# mode training & predict \n",
    "labels = dbscan_model.fit_predict( X )\n",
    "\n",
    "sil = m.silhouette_score( X, labels, metric='euclidean' )\n",
    "print( 'Silhouette Score: {}'.format( sil ) )\n",
    "print( 'Number of Clusters: {}'.format( len( np.unique( labels ) ) ) )\n",
    "print( np.unique( labels ) )"
   ]
  },
  {
   "cell_type": "code",
   "execution_count": 101,
   "metadata": {},
   "outputs": [],
   "source": [
    "from sklearn.neighbors import NearestNeighbors "
   ]
  },
  {
   "cell_type": "code",
   "execution_count": 102,
   "metadata": {},
   "outputs": [],
   "source": [
    "neighbors = NearestNeighbors( n_neighbors=min_samples ).fit( X )\n",
    "distances, indices = neighbors.kneighbors( X )"
   ]
  },
  {
   "cell_type": "code",
   "execution_count": 103,
   "metadata": {},
   "outputs": [
    {
     "data": {
      "text/plain": [
       "[<matplotlib.lines.Line2D at 0x22705d2ea10>]"
      ]
     },
     "execution_count": 103,
     "metadata": {},
     "output_type": "execute_result"
    },
    {
     "data": {
      "image/png": "[encoded data removed]",
      "text/plain": [
       "<Figure size 1080x576 with 1 Axes>"
      ]
     },
     "metadata": {
      "needs_background": "light"
     },
     "output_type": "display_data"
    }
   ],
   "source": [
    "distances = np.sort( distances, axis=0 )\n",
    "distances = distances[:,1]\n",
    "plt.plot( distances )"
   ]
  },
  {
   "cell_type": "markdown",
   "metadata": {},
   "source": [
    "## 7.5 Results"
   ]
  },
  {
   "cell_type": "code",
   "execution_count": 109,
   "metadata": {},
   "outputs": [],
   "source": [
    "# Model Name | k=2 | k=3 | k=4 | k=5 | ...\n",
    "#  Kmeans      SS    SS    SS    SS\n",
    "#  GMM         SS    SS    SS    SS\n",
    "#  HC         SS     SS    SS    SS\n",
    "#  DBSCAN     SS    SS    SS    SS\n",
    "\n",
    "df_results = pd.DataFrame( \n",
    "    {'KMeans': kmeans_list, \n",
    "     'GMM': gmm_list, \n",
    "     'HC': hc_list, \n",
    "   #  'DBSCAN': dbscan_list\n",
    "   }\n",
    ").T\n",
    "\n",
    "df_results.columns = clusters"
   ]
  },
  {
   "cell_type": "code",
   "execution_count": 113,
   "metadata": {},
   "outputs": [
    {
     "data": {
      "text/html": [
       "<style type=\"text/css\">\n",
       "#T_e28b0_row0_col1, #T_e28b0_row1_col2, #T_e28b0_row2_col1 {\n",
       "  background-color: green;\n",
       "}\n",
       "</style>\n",
       "<table id=\"T_e28b0\">\n",
       "  <thead>\n",
       "    <tr>\n",
       "      <th class=\"blank level0\" >&nbsp;</th>\n",
       "      <th id=\"T_e28b0_level0_col0\" class=\"col_heading level0 col0\" >2</th>\n",
       "      <th id=\"T_e28b0_level0_col1\" class=\"col_heading level0 col1\" >3</th>\n",
       "      <th id=\"T_e28b0_level0_col2\" class=\"col_heading level0 col2\" >4</th>\n",
       "      <th id=\"T_e28b0_level0_col3\" class=\"col_heading level0 col3\" >5</th>\n",
       "      <th id=\"T_e28b0_level0_col4\" class=\"col_heading level0 col4\" >6</th>\n",
       "      <th id=\"T_e28b0_level0_col5\" class=\"col_heading level0 col5\" >7</th>\n",
       "      <th id=\"T_e28b0_level0_col6\" class=\"col_heading level0 col6\" >8</th>\n",
       "      <th id=\"T_e28b0_level0_col7\" class=\"col_heading level0 col7\" >9</th>\n",
       "    </tr>\n",
       "  </thead>\n",
       "  <tbody>\n",
       "    <tr>\n",
       "      <th id=\"T_e28b0_level0_row0\" class=\"row_heading level0 row0\" >KMeans</th>\n",
       "      <td id=\"T_e28b0_row0_col0\" class=\"data row0 col0\" >0.585936</td>\n",
       "      <td id=\"T_e28b0_row0_col1\" class=\"data row0 col1\" >0.643344</td>\n",
       "      <td id=\"T_e28b0_row0_col2\" class=\"data row0 col2\" >0.570840</td>\n",
       "      <td id=\"T_e28b0_row0_col3\" class=\"data row0 col3\" >0.572803</td>\n",
       "      <td id=\"T_e28b0_row0_col4\" class=\"data row0 col4\" >0.491735</td>\n",
       "      <td id=\"T_e28b0_row0_col5\" class=\"data row0 col5\" >0.506310</td>\n",
       "      <td id=\"T_e28b0_row0_col6\" class=\"data row0 col6\" >0.476611</td>\n",
       "      <td id=\"T_e28b0_row0_col7\" class=\"data row0 col7\" >0.496690</td>\n",
       "    </tr>\n",
       "    <tr>\n",
       "      <th id=\"T_e28b0_level0_row1\" class=\"row_heading level0 row1\" >GMM</th>\n",
       "      <td id=\"T_e28b0_row1_col0\" class=\"data row1 col0\" >0.260681</td>\n",
       "      <td id=\"T_e28b0_row1_col1\" class=\"data row1 col1\" >-0.057054</td>\n",
       "      <td id=\"T_e28b0_row1_col2\" class=\"data row1 col2\" >0.273653</td>\n",
       "      <td id=\"T_e28b0_row1_col3\" class=\"data row1 col3\" >0.035633</td>\n",
       "      <td id=\"T_e28b0_row1_col4\" class=\"data row1 col4\" >0.051895</td>\n",
       "      <td id=\"T_e28b0_row1_col5\" class=\"data row1 col5\" >0.005058</td>\n",
       "      <td id=\"T_e28b0_row1_col6\" class=\"data row1 col6\" >-0.057985</td>\n",
       "      <td id=\"T_e28b0_row1_col7\" class=\"data row1 col7\" >0.048405</td>\n",
       "    </tr>\n",
       "    <tr>\n",
       "      <th id=\"T_e28b0_level0_row2\" class=\"row_heading level0 row2\" >HC</th>\n",
       "      <td id=\"T_e28b0_row2_col0\" class=\"data row2 col0\" >0.569059</td>\n",
       "      <td id=\"T_e28b0_row2_col1\" class=\"data row2 col1\" >0.634597</td>\n",
       "      <td id=\"T_e28b0_row2_col2\" class=\"data row2 col2\" >0.524270</td>\n",
       "      <td id=\"T_e28b0_row2_col3\" class=\"data row2 col3\" >0.546680</td>\n",
       "      <td id=\"T_e28b0_row2_col4\" class=\"data row2 col4\" >0.551058</td>\n",
       "      <td id=\"T_e28b0_row2_col5\" class=\"data row2 col5\" >0.452205</td>\n",
       "      <td id=\"T_e28b0_row2_col6\" class=\"data row2 col6\" >0.478601</td>\n",
       "      <td id=\"T_e28b0_row2_col7\" class=\"data row2 col7\" >0.472372</td>\n",
       "    </tr>\n",
       "  </tbody>\n",
       "</table>\n"
      ],
      "text/plain": [
       "<pandas.io.formats.style.Styler at 0x22705d6a260>"
      ]
     },
     "execution_count": 113,
     "metadata": {},
     "output_type": "execute_result"
    }
   ],
   "source": [
    "df_results.style.highlight_max( color='green', axis=1 ) "
   ]
  },
  {
   "cell_type": "code",
   "execution_count": 77,
   "metadata": {},
   "outputs": [
    {
     "data": {
      "image/png": "[encoded data removed]",
      "text/plain": [
       "<Figure size 1800x1296 with 8 Axes>"
      ]
     },
     "metadata": {
      "needs_background": "light"
     },
     "output_type": "display_data"
    }
   ],
   "source": [
    "fig, ax = plt.subplots( 4, 2, figsize=(25, 18))\n",
    "\n",
    "for k in clusters:\n",
    "    km = c.KMeans(n_clusters=k, init=\"k-means++\", n_init=10, max_iter=100, random_state=42)\n",
    "    q, mod = divmod(k, 2)\n",
    "    vis_silhouette = SilhouetteVisualizer(km, colors='yellowbrick', ax=ax[q-1][mod])\n",
    "    vis_silhouette.fit(X)\n",
    "    vis_silhouette.finalize()"
   ]
  },
  {
   "cell_type": "markdown",
   "metadata": {},
   "source": [
    "# 8.0 Model training"
   ]
  },
  {
   "cell_type": "markdown",
   "metadata": {},
   "source": [
    "## 8.1 K-Means"
   ]
  },
  {
   "cell_type": "code",
   "execution_count": 114,
   "metadata": {},
   "outputs": [],
   "source": [
    "# model definition\n",
    "k=3\n",
    "kmeans = c.KMeans(init='k-means++', n_clusters=k, n_init=10, max_iter=300, random_state=42)\n",
    "\n",
    "#model training\n",
    "kmeans.fit(X)\n",
    "labels = kmeans.labels_\n"
   ]
  },
  {
   "cell_type": "markdown",
   "metadata": {},
   "source": [
    "## 8.2 Cluster Validation"
   ]
  },
  {
   "cell_type": "code",
   "execution_count": 115,
   "metadata": {},
   "outputs": [
    {
     "name": "stdout",
     "output_type": "stream",
     "text": [
      "WSS 205.83575441952934\n"
     ]
    },
    {
     "data": {
      "text/plain": [
       "0.6433436033629317"
      ]
     },
     "execution_count": 115,
     "metadata": {},
     "output_type": "execute_result"
    }
   ],
   "source": [
    "## WSS\n",
    "print(f\"WSS {kmeans.inertia_}\")\n",
    "m.silhouette_score(X,labels,metric='euclidean')"
   ]
  },
  {
   "cell_type": "markdown",
   "metadata": {},
   "source": [
    "# 9.0 Cluster Analysis"
   ]
  },
  {
   "cell_type": "code",
   "execution_count": 116,
   "metadata": {},
   "outputs": [
    {
     "data": {
      "text/html": [
       "<div>\n",
       "<style scoped>\n",
       "    .dataframe tbody tr th:only-of-type {\n",
       "        vertical-align: middle;\n",
       "    }\n",
       "\n",
       "    .dataframe tbody tr th {\n",
       "        vertical-align: top;\n",
       "    }\n",
       "\n",
       "    .dataframe thead th {\n",
       "        text-align: right;\n",
       "    }\n",
       "</style>\n",
       "<table border=\"1\" class=\"dataframe\">\n",
       "  <thead>\n",
       "    <tr style=\"text-align: right;\">\n",
       "      <th></th>\n",
       "      <th>customerid</th>\n",
       "      <th>profit</th>\n",
       "      <th>recencydays</th>\n",
       "      <th>items_kept</th>\n",
       "      <th>avg_ticket</th>\n",
       "      <th>frequency</th>\n",
       "      <th>avg_basket_size</th>\n",
       "      <th>cluster</th>\n",
       "    </tr>\n",
       "  </thead>\n",
       "  <tbody>\n",
       "    <tr>\n",
       "      <th>0</th>\n",
       "      <td>17850</td>\n",
       "      <td>0.022996</td>\n",
       "      <td>0.997319</td>\n",
       "      <td>0.071504</td>\n",
       "      <td>0.046109</td>\n",
       "      <td>1.0</td>\n",
       "      <td>0.019595</td>\n",
       "      <td>0</td>\n",
       "    </tr>\n",
       "  </tbody>\n",
       "</table>\n",
       "</div>"
      ],
      "text/plain": [
       "   customerid    profit  recencydays  items_kept  avg_ticket  frequency  \\\n",
       "0       17850  0.022996     0.997319    0.071504    0.046109        1.0   \n",
       "\n",
       "   avg_basket_size  cluster  \n",
       "0         0.019595        0  "
      ]
     },
     "execution_count": 116,
     "metadata": {},
     "output_type": "execute_result"
    }
   ],
   "source": [
    "df9=df6.copy()\n",
    "df9['cluster']=labels\n",
    "df9.head(1)"
   ]
  },
  {
   "cell_type": "markdown",
   "metadata": {},
   "source": [
    "## 9.1 Visual Inspection"
   ]
  },
  {
   "cell_type": "code",
   "execution_count": 81,
   "metadata": {},
   "outputs": [
    {
     "name": "stderr",
     "output_type": "stream",
     "text": [
      "p:\\Anaconda3\\envs\\automl\\lib\\site-packages\\sklearn\\base.py:450: UserWarning: X does not have valid feature names, but KMeans was fitted with feature names\n",
      "  warnings.warn(\n"
     ]
    },
    {
     "data": {
      "image/png": "[encoded data removed]",
      "text/plain": [
       "<Figure size 1080x576 with 1 Axes>"
      ]
     },
     "metadata": {
      "needs_background": "light"
     },
     "output_type": "display_data"
    }
   ],
   "source": [
    "# visualizer = SilhouetteVisualizer( kmeans, init='k-means++', colors='yellowbrick')\n",
    "# visualizer.fit(X)\n",
    "# visualizer.finalize()"
   ]
  },
  {
   "cell_type": "markdown",
   "metadata": {},
   "source": [
    "## 9.2 2d plot"
   ]
  },
  {
   "cell_type": "code",
   "execution_count": 117,
   "metadata": {},
   "outputs": [],
   "source": [
    "df_viz = df9.drop(columns='customerid',axis=1)\n",
    "# sns.pairplot(df_viz, hue='cluster')"
   ]
  },
  {
   "cell_type": "markdown",
   "metadata": {},
   "source": [
    "## 9.3 UMAP "
   ]
  },
  {
   "cell_type": "code",
   "execution_count": 118,
   "metadata": {},
   "outputs": [
    {
     "data": {
      "text/plain": [
       "<AxesSubplot:xlabel='embedding_x', ylabel='embedding_y'>"
      ]
     },
     "execution_count": 118,
     "metadata": {},
     "output_type": "execute_result"
    },
    {
     "data": {
      "image/png": "[encoded data removed]",
      "text/plain": [
       "<Figure size 1080x576 with 1 Axes>"
      ]
     },
     "metadata": {
      "needs_background": "light"
     },
     "output_type": "display_data"
    }
   ],
   "source": [
    "reducer = umap.UMAP(n_neighbors=40, random_state=42)\n",
    "embedding = reducer.fit_transform( X )\n",
    "\n",
    "# embedding\n",
    "df_viz['embedding_x']=embedding[:,0]\n",
    "df_viz['embedding_y']=embedding[:,1]\n",
    "\n",
    "# plot UMAP\n",
    "sns.scatterplot(x='embedding_x',y='embedding_y',\n",
    "                hue='cluster',\n",
    "                palette=sns.color_palette('hls', n_colors= len(df_viz['cluster'].unique())),\n",
    "                data=df_viz)"
   ]
  },
  {
   "cell_type": "code",
   "execution_count": 119,
   "metadata": {},
   "outputs": [
    {
     "data": {
      "text/html": [
       "<div>\n",
       "<style scoped>\n",
       "    .dataframe tbody tr th:only-of-type {\n",
       "        vertical-align: middle;\n",
       "    }\n",
       "\n",
       "    .dataframe tbody tr th {\n",
       "        vertical-align: top;\n",
       "    }\n",
       "\n",
       "    .dataframe thead th {\n",
       "        text-align: right;\n",
       "    }\n",
       "</style>\n",
       "<table border=\"1\" class=\"dataframe\">\n",
       "  <thead>\n",
       "    <tr style=\"text-align: right;\">\n",
       "      <th></th>\n",
       "      <th>profit</th>\n",
       "      <th>recencydays</th>\n",
       "      <th>items_kept</th>\n",
       "      <th>avg_ticket</th>\n",
       "      <th>frequency</th>\n",
       "      <th>avg_basket_size</th>\n",
       "      <th>cluster</th>\n",
       "      <th>embedding_x</th>\n",
       "      <th>embedding_y</th>\n",
       "    </tr>\n",
       "  </thead>\n",
       "  <tbody>\n",
       "    <tr>\n",
       "      <th>0</th>\n",
       "      <td>0.022996</td>\n",
       "      <td>0.997319</td>\n",
       "      <td>0.071504</td>\n",
       "      <td>0.046109</td>\n",
       "      <td>1.000000</td>\n",
       "      <td>0.019595</td>\n",
       "      <td>0</td>\n",
       "      <td>6.144438</td>\n",
       "      <td>-11.964764</td>\n",
       "    </tr>\n",
       "    <tr>\n",
       "      <th>1</th>\n",
       "      <td>0.015123</td>\n",
       "      <td>0.083110</td>\n",
       "      <td>0.074265</td>\n",
       "      <td>0.020506</td>\n",
       "      <td>0.001395</td>\n",
       "      <td>0.007165</td>\n",
       "      <td>2</td>\n",
       "      <td>10.661571</td>\n",
       "      <td>17.538872</td>\n",
       "    </tr>\n",
       "    <tr>\n",
       "      <th>2</th>\n",
       "      <td>0.029761</td>\n",
       "      <td>0.005362</td>\n",
       "      <td>0.108600</td>\n",
       "      <td>0.019078</td>\n",
       "      <td>0.002052</td>\n",
       "      <td>0.002940</td>\n",
       "      <td>2</td>\n",
       "      <td>1.525550</td>\n",
       "      <td>19.550827</td>\n",
       "    </tr>\n",
       "    <tr>\n",
       "      <th>3</th>\n",
       "      <td>0.007531</td>\n",
       "      <td>0.254692</td>\n",
       "      <td>0.075325</td>\n",
       "      <td>0.019142</td>\n",
       "      <td>0.000734</td>\n",
       "      <td>0.011365</td>\n",
       "      <td>2</td>\n",
       "      <td>21.268927</td>\n",
       "      <td>14.697527</td>\n",
       "    </tr>\n",
       "    <tr>\n",
       "      <th>4</th>\n",
       "      <td>0.006415</td>\n",
       "      <td>0.892761</td>\n",
       "      <td>0.071800</td>\n",
       "      <td>0.020505</td>\n",
       "      <td>0.003985</td>\n",
       "      <td>0.037476</td>\n",
       "      <td>0</td>\n",
       "      <td>10.652449</td>\n",
       "      <td>-11.053103</td>\n",
       "    </tr>\n",
       "  </tbody>\n",
       "</table>\n",
       "</div>"
      ],
      "text/plain": [
       "     profit  recencydays  items_kept  avg_ticket  frequency  avg_basket_size  \\\n",
       "0  0.022996     0.997319    0.071504    0.046109   1.000000         0.019595   \n",
       "1  0.015123     0.083110    0.074265    0.020506   0.001395         0.007165   \n",
       "2  0.029761     0.005362    0.108600    0.019078   0.002052         0.002940   \n",
       "3  0.007531     0.254692    0.075325    0.019142   0.000734         0.011365   \n",
       "4  0.006415     0.892761    0.071800    0.020505   0.003985         0.037476   \n",
       "\n",
       "   cluster  embedding_x  embedding_y  \n",
       "0        0     6.144438   -11.964764  \n",
       "1        2    10.661571    17.538872  \n",
       "2        2     1.525550    19.550827  \n",
       "3        2    21.268927    14.697527  \n",
       "4        0    10.652449   -11.053103  "
      ]
     },
     "execution_count": 119,
     "metadata": {},
     "output_type": "execute_result"
    }
   ],
   "source": [
    "df_viz.head()"
   ]
  },
  {
   "cell_type": "markdown",
   "metadata": {},
   "source": [
    "## 9.4 Cluster Profile"
   ]
  },
  {
   "cell_type": "code",
   "execution_count": 123,
   "metadata": {},
   "outputs": [
    {
     "data": {
      "text/html": [
       "<div>\n",
       "<style scoped>\n",
       "    .dataframe tbody tr th:only-of-type {\n",
       "        vertical-align: middle;\n",
       "    }\n",
       "\n",
       "    .dataframe tbody tr th {\n",
       "        vertical-align: top;\n",
       "    }\n",
       "\n",
       "    .dataframe thead th {\n",
       "        text-align: right;\n",
       "    }\n",
       "</style>\n",
       "<table border=\"1\" class=\"dataframe\">\n",
       "  <thead>\n",
       "    <tr style=\"text-align: right;\">\n",
       "      <th></th>\n",
       "      <th>cluster</th>\n",
       "      <th>customerid</th>\n",
       "      <th>pc_customer</th>\n",
       "      <th>profit</th>\n",
       "      <th>recencydays</th>\n",
       "      <th>items_kept</th>\n",
       "      <th>avg_ticket</th>\n",
       "    </tr>\n",
       "  </thead>\n",
       "  <tbody>\n",
       "    <tr>\n",
       "      <th>0</th>\n",
       "      <td>0</td>\n",
       "      <td>2126</td>\n",
       "      <td>32.662467</td>\n",
       "      <td>0.006431</td>\n",
       "      <td>0.689374</td>\n",
       "      <td>0.073665</td>\n",
       "      <td>0.019434</td>\n",
       "    </tr>\n",
       "    <tr>\n",
       "      <th>1</th>\n",
       "      <td>1</td>\n",
       "      <td>359</td>\n",
       "      <td>5.515440</td>\n",
       "      <td>0.004501</td>\n",
       "      <td>0.485889</td>\n",
       "      <td>0.071162</td>\n",
       "      <td>0.026076</td>\n",
       "    </tr>\n",
       "    <tr>\n",
       "      <th>2</th>\n",
       "      <td>2</td>\n",
       "      <td>4024</td>\n",
       "      <td>61.822092</td>\n",
       "      <td>0.011814</td>\n",
       "      <td>0.124894</td>\n",
       "      <td>0.078101</td>\n",
       "      <td>0.019395</td>\n",
       "    </tr>\n",
       "  </tbody>\n",
       "</table>\n",
       "</div>"
      ],
      "text/plain": [
       "   cluster  customerid  pc_customer    profit  recencydays  items_kept  \\\n",
       "0        0        2126    32.662467  0.006431     0.689374    0.073665   \n",
       "1        1         359     5.515440  0.004501     0.485889    0.071162   \n",
       "2        2        4024    61.822092  0.011814     0.124894    0.078101   \n",
       "\n",
       "   avg_ticket  \n",
       "0    0.019434  \n",
       "1    0.026076  \n",
       "2    0.019395  "
      ]
     },
     "execution_count": 123,
     "metadata": {},
     "output_type": "execute_result"
    }
   ],
   "source": [
    "# Number of customer\n",
    "df_cluster=df9[['customerid','cluster']].groupby('cluster').count().reset_index()\n",
    "df_cluster['pc_customer']=100*df_cluster['customerid']/df_cluster['customerid'].sum()\n",
    "\n",
    "# Avg Gross Revenue\n",
    "df_avg_gross_revenue= df9[['profit','cluster']].groupby( 'cluster' ).mean().reset_index()\n",
    "df_cluster= df_cluster.merge( df_avg_gross_revenue, how='inner', on='cluster')\n",
    "\n",
    "# Avg recency days\n",
    "df_avg_recencydays= df9[['recencydays','cluster']].groupby( 'cluster' ).mean().reset_index()\n",
    "df_cluster= df_cluster.merge( df_avg_recencydays, how='inner', on='cluster')\n",
    "\n",
    "\n",
    "# Avg invoice_no\n",
    "df_avg_items_kept= df9[['items_kept','cluster']].groupby( 'cluster' ).mean().reset_index()\n",
    "df_cluster= df_cluster.merge( df_avg_items_kept, how='inner', on='cluster')\n",
    "\n",
    "# Avg Ticket\n",
    "df_ticket = df9[['avg_ticket','cluster']].groupby('cluster').mean().reset_index()\n",
    "df_cluster = df_cluster.merge(df_ticket, how='inner', on='cluster')\n",
    "\n",
    "df_cluster"
   ]
  },
  {
   "cell_type": "markdown",
   "metadata": {},
   "source": [
    "### Cluster 0: - Low Value, Low Frequency, High Recency\n",
    "\n",
    "### Cluster 1: - Extremely high values, bought every 3 days\n",
    "\n",
    "### Cluster 2: - High value, but buys at a low frequency and weekly rate\n",
    "\n",
    "### Cluster 3: - Medium value, Medium frequency, Medium recency\n"
   ]
  },
  {
   "cell_type": "code",
   "execution_count": null,
   "metadata": {},
   "outputs": [],
   "source": []
  }
 ],
 "metadata": {
  "kernelspec": {
   "display_name": "Python 3.10.4 ('automl')",
   "language": "python",
   "name": "python3"
  },
  "language_info": {
   "codemirror_mode": {
    "name": "ipython",
    "version": 3
   },
   "file_extension": ".py",
   "mimetype": "text/x-python",
   "name": "python",
   "nbconvert_exporter": "python",
   "pygments_lexer": "ipython3",
   "version": "3.10.4"
  },
  "orig_nbformat": 4,
  "vscode": {
   "interpreter": {
    "hash": "25221b6b9a4d399886f2cc4863e60b0fd11067ce172b33ecf50faf510e9d19c2"
   }
  }
 },
 "nbformat": 4,
 "nbformat_minor": 2
}
