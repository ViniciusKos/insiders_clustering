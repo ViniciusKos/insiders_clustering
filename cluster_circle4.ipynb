{
 "cells": [
  {
   "cell_type": "raw",
   "metadata": {},
   "source": [
    "High Value Customer Identification (Insiders)"
   ]
  },
  {
   "cell_type": "markdown",
   "metadata": {},
   "source": [
    "# 0.0 Solution Planning (IOT)"
   ]
  },
  {
   "cell_type": "markdown",
   "metadata": {},
   "source": [
    "## Input \n",
    "1. Business Issue\n",
    "    - Select the most valuable customers for a loyalty program.\n",
    "2. Dataset\n",
    "    - E-commerce sels online, during one year period."
   ]
  },
  {
   "cell_type": "markdown",
   "metadata": {},
   "source": [
    "## Output\n",
    "1. Recommendation list of customers the should be in Loyalty program.\n",
    "- List: client_id | is_insider\n",
    "\n",
    "2. Report with business answers:\n",
    "- 1. Who are eligible to participate the Insiders Program?\n",
    "- 2. How many customers will be part of the group?\n",
    "- 3. What are the mainly characteristics of there customers?\n",
    "- 4. What is the % of revenue coming of these customers?\n",
    "- 5. What's the revenue expectation for this group next month?\n",
    "- 6. What are the conditions for someone to be eligible for insiders?\n",
    "- 7. What are the conditions for someone to be removed from insiders?\n",
    "- 8. What is the guarantee that the Insiders program is best than the remaining base?\n",
    "- 9. What actions the marketing team can do for increasing the revenue?"
   ]
  },
  {
   "cell_type": "markdown",
   "metadata": {},
   "source": [
    "## Tasks"
   ]
  },
  {
   "cell_type": "markdown",
   "metadata": {},
   "source": [
    "1. Report with business answers:\n",
    "- 1. Who are eligible to participate the Insiders Program?\n",
    "    - What is being eligible? What are the most valuable customers?\n",
    "        - Cost:\n",
    "        - Buy Experience\n",
    "        - Basket Size\n",
    "        - High buy likely\n",
    "        - Low devolution rate.\n",
    "- 2. How many customers will be part of the group?\n",
    "    - Total number of customers\n",
    "    - % of Insiders Group\n",
    "- 3. What are the mainly characteristics of there customers?\n",
    "    - Write customers characteristics:\n",
    "        - Age\n",
    "        - Localization\n",
    "    - Write consuming characteristics:\n",
    "        - Clustering Features\n",
    "\n",
    "- 4. What is the % of revenue coming of these customers?\n",
    "    - Total Revenue vs Insiders Group Revenue\n",
    "- 5. What's the revenue expectation for this group next month?\n",
    "    - Insiders Group LTV\n",
    "    - Cohort Analysis \n",
    "\n",
    "- 6. What are the conditions for someone to be eligible for insiders?\n",
    "    - Define the Insiders update periodicity  \n",
    "    - The customers needs to be lookalike someone of the Insiders group.\n",
    "\n",
    "\n",
    "- 7. What are the conditions for someone to be removed from insiders?\n",
    "    - Define the Insiders update periodicity  \n",
    "    - The customers needs to be unlookalike someone of the Insiders group.   \n",
    "\n",
    "\n",
    "- 8. What is the guarantee that the Insiders program is best than the remaining base?\n",
    "    - A/B test\n",
    "    - A/B Bayesian test\n",
    "    - Hypotesis Test\n",
    "\n",
    "\n",
    "- 9. What actions the marketing team can do for increasing the revenue?\n",
    "    - Discount\n",
    "    - New products\n",
    "    - New employees"
   ]
  },
  {
   "cell_type": "markdown",
   "metadata": {},
   "source": [
    "## Solutions Benchmark\n",
    "1. Desk Research"
   ]
  },
  {
   "cell_type": "markdown",
   "metadata": {},
   "source": [
    "## 0.1 Import libraries"
   ]
  },
  {
   "cell_type": "code",
   "execution_count": 9,
   "metadata": {},
   "outputs": [],
   "source": [
    "%matplotlib inline\n",
    "\n",
    "\n",
    "import pandas as pd\n",
    "import seaborn as sns\n",
    "import numpy as np\n",
    "import re\n",
    "\n",
    "from pandas_profiling import ProfileReport\n",
    "import umap.umap_ as umap\n",
    "import matplotlib.pyplot as plt\n",
    "from sklearn import cluster as c \n",
    "from sklearn import metrics as m\n",
    "from yellowbrick.cluster import KElbowVisualizer, SilhouetteVisualizer\n",
    "import matplotlib.gridspec as gridspec\n",
    "from plotly import express as px\n",
    "\n",
    "\n",
    "plt.rcParams[\"figure.figsize\"] = (15,8)\n"
   ]
  },
  {
   "cell_type": "markdown",
   "metadata": {},
   "source": [
    "## 0.2 Load dataset"
   ]
  },
  {
   "cell_type": "code",
   "execution_count": 10,
   "metadata": {},
   "outputs": [
    {
     "data": {
      "text/html": [
       "<div>\n",
       "<style scoped>\n",
       "    .dataframe tbody tr th:only-of-type {\n",
       "        vertical-align: middle;\n",
       "    }\n",
       "\n",
       "    .dataframe tbody tr th {\n",
       "        vertical-align: top;\n",
       "    }\n",
       "\n",
       "    .dataframe thead th {\n",
       "        text-align: right;\n",
       "    }\n",
       "</style>\n",
       "<table border=\"1\" class=\"dataframe\">\n",
       "  <thead>\n",
       "    <tr style=\"text-align: right;\">\n",
       "      <th></th>\n",
       "      <th>invoiceno</th>\n",
       "      <th>stockcode</th>\n",
       "      <th>description</th>\n",
       "      <th>quantity</th>\n",
       "      <th>invoicedate</th>\n",
       "      <th>unitprice</th>\n",
       "      <th>customerid</th>\n",
       "      <th>country</th>\n",
       "    </tr>\n",
       "  </thead>\n",
       "  <tbody>\n",
       "    <tr>\n",
       "      <th>0</th>\n",
       "      <td>536365</td>\n",
       "      <td>85123A</td>\n",
       "      <td>WHITE HANGING HEART T-LIGHT HOLDER</td>\n",
       "      <td>6</td>\n",
       "      <td>12/1/2010 8:26</td>\n",
       "      <td>2.55</td>\n",
       "      <td>17850.0</td>\n",
       "      <td>United Kingdom</td>\n",
       "    </tr>\n",
       "    <tr>\n",
       "      <th>1</th>\n",
       "      <td>536365</td>\n",
       "      <td>71053</td>\n",
       "      <td>WHITE METAL LANTERN</td>\n",
       "      <td>6</td>\n",
       "      <td>12/1/2010 8:26</td>\n",
       "      <td>3.39</td>\n",
       "      <td>17850.0</td>\n",
       "      <td>United Kingdom</td>\n",
       "    </tr>\n",
       "    <tr>\n",
       "      <th>2</th>\n",
       "      <td>536365</td>\n",
       "      <td>84406B</td>\n",
       "      <td>CREAM CUPID HEARTS COAT HANGER</td>\n",
       "      <td>8</td>\n",
       "      <td>12/1/2010 8:26</td>\n",
       "      <td>2.75</td>\n",
       "      <td>17850.0</td>\n",
       "      <td>United Kingdom</td>\n",
       "    </tr>\n",
       "  </tbody>\n",
       "</table>\n",
       "</div>"
      ],
      "text/plain": [
       "  invoiceno stockcode                         description  quantity  \\\n",
       "0    536365    85123A  WHITE HANGING HEART T-LIGHT HOLDER         6   \n",
       "1    536365     71053                 WHITE METAL LANTERN         6   \n",
       "2    536365    84406B      CREAM CUPID HEARTS COAT HANGER         8   \n",
       "\n",
       "      invoicedate  unitprice  customerid         country  \n",
       "0  12/1/2010 8:26       2.55     17850.0  United Kingdom  \n",
       "1  12/1/2010 8:26       3.39     17850.0  United Kingdom  \n",
       "2  12/1/2010 8:26       2.75     17850.0  United Kingdom  "
      ]
     },
     "execution_count": 10,
     "metadata": {},
     "output_type": "execute_result"
    }
   ],
   "source": [
    "df0 = pd.read_csv('data.csv', encoding='latin1')\n",
    "df0.columns=df0.columns.str.lower()\n",
    "df0.head(3)"
   ]
  },
  {
   "cell_type": "markdown",
   "metadata": {},
   "source": [
    "# 1.0 Data Description"
   ]
  },
  {
   "cell_type": "code",
   "execution_count": 11,
   "metadata": {},
   "outputs": [],
   "source": [
    "df1=df0.copy()"
   ]
  },
  {
   "cell_type": "markdown",
   "metadata": {},
   "source": [
    "## 1.1 data dimensions"
   ]
  },
  {
   "cell_type": "code",
   "execution_count": 12,
   "metadata": {},
   "outputs": [
    {
     "data": {
      "text/plain": [
       "(541909, 8)"
      ]
     },
     "execution_count": 12,
     "metadata": {},
     "output_type": "execute_result"
    }
   ],
   "source": [
    "df1.shape"
   ]
  },
  {
   "cell_type": "markdown",
   "metadata": {},
   "source": [
    "## 1.2 N/As treatment"
   ]
  },
  {
   "cell_type": "code",
   "execution_count": 13,
   "metadata": {},
   "outputs": [
    {
     "data": {
      "text/plain": [
       "invoiceno      0.000000\n",
       "stockcode      0.000000\n",
       "description    0.002683\n",
       "quantity       0.000000\n",
       "invoicedate    0.000000\n",
       "unitprice      0.000000\n",
       "customerid     0.249267\n",
       "country        0.000000\n",
       "dtype: float64"
      ]
     },
     "execution_count": 13,
     "metadata": {},
     "output_type": "execute_result"
    }
   ],
   "source": [
    "df1.isna().sum()/len(df1)"
   ]
  },
  {
   "cell_type": "code",
   "execution_count": 14,
   "metadata": {},
   "outputs": [
    {
     "data": {
      "text/plain": [
       "(0, 8)"
      ]
     },
     "execution_count": 14,
     "metadata": {},
     "output_type": "execute_result"
    }
   ],
   "source": [
    "df_missing=df1[df1['customerid'].isna()]\n",
    "df_not_missing=df1[~df1['customerid'].isna()]\n",
    "df_missing[df_missing['invoiceno'].isin(df_not_missing['invoiceno'])].shape"
   ]
  },
  {
   "cell_type": "code",
   "execution_count": 15,
   "metadata": {},
   "outputs": [
    {
     "data": {
      "text/plain": [
       "invoiceno         0\n",
       "stockcode         0\n",
       "description    1454\n",
       "quantity          0\n",
       "invoicedate       0\n",
       "unitprice         0\n",
       "country           0\n",
       "customerid        0\n",
       "dtype: int64"
      ]
     },
     "execution_count": 15,
     "metadata": {},
     "output_type": "execute_result"
    }
   ],
   "source": [
    "# create reference\n",
    "df_backup = pd.DataFrame( df_missing['invoiceno'].drop_duplicates())\n",
    "df_backup['customerid']=np.arange(80000, 80000+len( df_backup ), 1)\n",
    "\n",
    "# merge original with reference datafarme\n",
    "df1 = df1.merge(df_backup, on='invoiceno', how='left')\n",
    "\n",
    "#coalesce\n",
    "df1['customerid']=df1['customerid_x'].combine_first( df1['customerid_y'])\n",
    "\n",
    "#drop extra columns\n",
    "df1 = df1.drop( columns=['customerid_x','customerid_y'], axis=1)\n",
    "\n",
    "df1.isna().sum()"
   ]
  },
  {
   "cell_type": "raw",
   "metadata": {},
   "source": [
    "# remove na\n",
    "df1 = df1.dropna( subset=['description','customerid'])\n",
    "print( 1-(len(df1)/len(df0)))"
   ]
  },
  {
   "cell_type": "code",
   "execution_count": 16,
   "metadata": {},
   "outputs": [
    {
     "data": {
      "text/plain": [
       "invoiceno         0\n",
       "stockcode         0\n",
       "description    1454\n",
       "quantity          0\n",
       "invoicedate       0\n",
       "unitprice         0\n",
       "country           0\n",
       "customerid        0\n",
       "dtype: int64"
      ]
     },
     "execution_count": 16,
     "metadata": {},
     "output_type": "execute_result"
    }
   ],
   "source": [
    "df1.isna().sum()"
   ]
  },
  {
   "cell_type": "markdown",
   "metadata": {},
   "source": [
    "## 1.3 data types treatment"
   ]
  },
  {
   "cell_type": "code",
   "execution_count": 17,
   "metadata": {},
   "outputs": [
    {
     "data": {
      "text/plain": [
       "invoiceno       object\n",
       "stockcode       object\n",
       "description     object\n",
       "quantity         int64\n",
       "invoicedate     object\n",
       "unitprice      float64\n",
       "country         object\n",
       "customerid     float64\n",
       "dtype: object"
      ]
     },
     "execution_count": 17,
     "metadata": {},
     "output_type": "execute_result"
    }
   ],
   "source": [
    "df1.dtypes"
   ]
  },
  {
   "cell_type": "code",
   "execution_count": 18,
   "metadata": {},
   "outputs": [
    {
     "data": {
      "text/html": [
       "<div>\n",
       "<style scoped>\n",
       "    .dataframe tbody tr th:only-of-type {\n",
       "        vertical-align: middle;\n",
       "    }\n",
       "\n",
       "    .dataframe tbody tr th {\n",
       "        vertical-align: top;\n",
       "    }\n",
       "\n",
       "    .dataframe thead th {\n",
       "        text-align: right;\n",
       "    }\n",
       "</style>\n",
       "<table border=\"1\" class=\"dataframe\">\n",
       "  <thead>\n",
       "    <tr style=\"text-align: right;\">\n",
       "      <th></th>\n",
       "      <th>invoiceno</th>\n",
       "      <th>stockcode</th>\n",
       "      <th>description</th>\n",
       "      <th>quantity</th>\n",
       "      <th>invoicedate</th>\n",
       "      <th>unitprice</th>\n",
       "      <th>country</th>\n",
       "      <th>customerid</th>\n",
       "    </tr>\n",
       "  </thead>\n",
       "  <tbody>\n",
       "    <tr>\n",
       "      <th>0</th>\n",
       "      <td>536365</td>\n",
       "      <td>85123A</td>\n",
       "      <td>WHITE HANGING HEART T-LIGHT HOLDER</td>\n",
       "      <td>6</td>\n",
       "      <td>12/1/2010 8:26</td>\n",
       "      <td>2.55</td>\n",
       "      <td>United Kingdom</td>\n",
       "      <td>17850.0</td>\n",
       "    </tr>\n",
       "    <tr>\n",
       "      <th>1</th>\n",
       "      <td>536365</td>\n",
       "      <td>71053</td>\n",
       "      <td>WHITE METAL LANTERN</td>\n",
       "      <td>6</td>\n",
       "      <td>12/1/2010 8:26</td>\n",
       "      <td>3.39</td>\n",
       "      <td>United Kingdom</td>\n",
       "      <td>17850.0</td>\n",
       "    </tr>\n",
       "    <tr>\n",
       "      <th>2</th>\n",
       "      <td>536365</td>\n",
       "      <td>84406B</td>\n",
       "      <td>CREAM CUPID HEARTS COAT HANGER</td>\n",
       "      <td>8</td>\n",
       "      <td>12/1/2010 8:26</td>\n",
       "      <td>2.75</td>\n",
       "      <td>United Kingdom</td>\n",
       "      <td>17850.0</td>\n",
       "    </tr>\n",
       "  </tbody>\n",
       "</table>\n",
       "</div>"
      ],
      "text/plain": [
       "  invoiceno stockcode                         description  quantity  \\\n",
       "0    536365    85123A  WHITE HANGING HEART T-LIGHT HOLDER         6   \n",
       "1    536365     71053                 WHITE METAL LANTERN         6   \n",
       "2    536365    84406B      CREAM CUPID HEARTS COAT HANGER         8   \n",
       "\n",
       "      invoicedate  unitprice         country  customerid  \n",
       "0  12/1/2010 8:26       2.55  United Kingdom     17850.0  \n",
       "1  12/1/2010 8:26       3.39  United Kingdom     17850.0  \n",
       "2  12/1/2010 8:26       2.75  United Kingdom     17850.0  "
      ]
     },
     "execution_count": 18,
     "metadata": {},
     "output_type": "execute_result"
    }
   ],
   "source": [
    "df1.head(3)"
   ]
  },
  {
   "cell_type": "code",
   "execution_count": 19,
   "metadata": {},
   "outputs": [
    {
     "data": {
      "text/html": [
       "<div>\n",
       "<style scoped>\n",
       "    .dataframe tbody tr th:only-of-type {\n",
       "        vertical-align: middle;\n",
       "    }\n",
       "\n",
       "    .dataframe tbody tr th {\n",
       "        vertical-align: top;\n",
       "    }\n",
       "\n",
       "    .dataframe thead th {\n",
       "        text-align: right;\n",
       "    }\n",
       "</style>\n",
       "<table border=\"1\" class=\"dataframe\">\n",
       "  <thead>\n",
       "    <tr style=\"text-align: right;\">\n",
       "      <th></th>\n",
       "      <th>invoiceno</th>\n",
       "      <th>stockcode</th>\n",
       "      <th>description</th>\n",
       "      <th>quantity</th>\n",
       "      <th>invoicedate</th>\n",
       "      <th>unitprice</th>\n",
       "      <th>country</th>\n",
       "      <th>customerid</th>\n",
       "    </tr>\n",
       "  </thead>\n",
       "  <tbody>\n",
       "    <tr>\n",
       "      <th>0</th>\n",
       "      <td>536365</td>\n",
       "      <td>85123A</td>\n",
       "      <td>WHITE HANGING HEART T-LIGHT HOLDER</td>\n",
       "      <td>6</td>\n",
       "      <td>12/1/2010</td>\n",
       "      <td>2.55</td>\n",
       "      <td>United Kingdom</td>\n",
       "      <td>17850.0</td>\n",
       "    </tr>\n",
       "    <tr>\n",
       "      <th>1</th>\n",
       "      <td>536365</td>\n",
       "      <td>71053</td>\n",
       "      <td>WHITE METAL LANTERN</td>\n",
       "      <td>6</td>\n",
       "      <td>12/1/2010</td>\n",
       "      <td>3.39</td>\n",
       "      <td>United Kingdom</td>\n",
       "      <td>17850.0</td>\n",
       "    </tr>\n",
       "    <tr>\n",
       "      <th>2</th>\n",
       "      <td>536365</td>\n",
       "      <td>84406B</td>\n",
       "      <td>CREAM CUPID HEARTS COAT HANGER</td>\n",
       "      <td>8</td>\n",
       "      <td>12/1/2010</td>\n",
       "      <td>2.75</td>\n",
       "      <td>United Kingdom</td>\n",
       "      <td>17850.0</td>\n",
       "    </tr>\n",
       "    <tr>\n",
       "      <th>3</th>\n",
       "      <td>536365</td>\n",
       "      <td>84029G</td>\n",
       "      <td>KNITTED UNION FLAG HOT WATER BOTTLE</td>\n",
       "      <td>6</td>\n",
       "      <td>12/1/2010</td>\n",
       "      <td>3.39</td>\n",
       "      <td>United Kingdom</td>\n",
       "      <td>17850.0</td>\n",
       "    </tr>\n",
       "    <tr>\n",
       "      <th>4</th>\n",
       "      <td>536365</td>\n",
       "      <td>84029E</td>\n",
       "      <td>RED WOOLLY HOTTIE WHITE HEART.</td>\n",
       "      <td>6</td>\n",
       "      <td>12/1/2010</td>\n",
       "      <td>3.39</td>\n",
       "      <td>United Kingdom</td>\n",
       "      <td>17850.0</td>\n",
       "    </tr>\n",
       "  </tbody>\n",
       "</table>\n",
       "</div>"
      ],
      "text/plain": [
       "  invoiceno stockcode                          description  quantity  \\\n",
       "0    536365    85123A   WHITE HANGING HEART T-LIGHT HOLDER         6   \n",
       "1    536365     71053                  WHITE METAL LANTERN         6   \n",
       "2    536365    84406B       CREAM CUPID HEARTS COAT HANGER         8   \n",
       "3    536365    84029G  KNITTED UNION FLAG HOT WATER BOTTLE         6   \n",
       "4    536365    84029E       RED WOOLLY HOTTIE WHITE HEART.         6   \n",
       "\n",
       "  invoicedate  unitprice         country  customerid  \n",
       "0   12/1/2010       2.55  United Kingdom     17850.0  \n",
       "1   12/1/2010       3.39  United Kingdom     17850.0  \n",
       "2   12/1/2010       2.75  United Kingdom     17850.0  \n",
       "3   12/1/2010       3.39  United Kingdom     17850.0  \n",
       "4   12/1/2010       3.39  United Kingdom     17850.0  "
      ]
     },
     "execution_count": 19,
     "metadata": {},
     "output_type": "execute_result"
    }
   ],
   "source": [
    "df1['invoicedate']=df1['invoicedate'].str.split(expand=True)[0]\n",
    "df1.head()"
   ]
  },
  {
   "cell_type": "code",
   "execution_count": 20,
   "metadata": {},
   "outputs": [
    {
     "data": {
      "text/html": [
       "<div>\n",
       "<style scoped>\n",
       "    .dataframe tbody tr th:only-of-type {\n",
       "        vertical-align: middle;\n",
       "    }\n",
       "\n",
       "    .dataframe tbody tr th {\n",
       "        vertical-align: top;\n",
       "    }\n",
       "\n",
       "    .dataframe thead th {\n",
       "        text-align: right;\n",
       "    }\n",
       "</style>\n",
       "<table border=\"1\" class=\"dataframe\">\n",
       "  <thead>\n",
       "    <tr style=\"text-align: right;\">\n",
       "      <th></th>\n",
       "      <th>invoiceno</th>\n",
       "      <th>stockcode</th>\n",
       "      <th>description</th>\n",
       "      <th>quantity</th>\n",
       "      <th>invoicedate</th>\n",
       "      <th>unitprice</th>\n",
       "      <th>country</th>\n",
       "      <th>customerid</th>\n",
       "    </tr>\n",
       "  </thead>\n",
       "  <tbody>\n",
       "    <tr>\n",
       "      <th>0</th>\n",
       "      <td>536365</td>\n",
       "      <td>85123A</td>\n",
       "      <td>WHITE HANGING HEART T-LIGHT HOLDER</td>\n",
       "      <td>6</td>\n",
       "      <td>2010-12-01</td>\n",
       "      <td>2.55</td>\n",
       "      <td>United Kingdom</td>\n",
       "      <td>17850</td>\n",
       "    </tr>\n",
       "    <tr>\n",
       "      <th>1</th>\n",
       "      <td>536365</td>\n",
       "      <td>71053</td>\n",
       "      <td>WHITE METAL LANTERN</td>\n",
       "      <td>6</td>\n",
       "      <td>2010-12-01</td>\n",
       "      <td>3.39</td>\n",
       "      <td>United Kingdom</td>\n",
       "      <td>17850</td>\n",
       "    </tr>\n",
       "    <tr>\n",
       "      <th>2</th>\n",
       "      <td>536365</td>\n",
       "      <td>84406B</td>\n",
       "      <td>CREAM CUPID HEARTS COAT HANGER</td>\n",
       "      <td>8</td>\n",
       "      <td>2010-12-01</td>\n",
       "      <td>2.75</td>\n",
       "      <td>United Kingdom</td>\n",
       "      <td>17850</td>\n",
       "    </tr>\n",
       "    <tr>\n",
       "      <th>3</th>\n",
       "      <td>536365</td>\n",
       "      <td>84029G</td>\n",
       "      <td>KNITTED UNION FLAG HOT WATER BOTTLE</td>\n",
       "      <td>6</td>\n",
       "      <td>2010-12-01</td>\n",
       "      <td>3.39</td>\n",
       "      <td>United Kingdom</td>\n",
       "      <td>17850</td>\n",
       "    </tr>\n",
       "    <tr>\n",
       "      <th>4</th>\n",
       "      <td>536365</td>\n",
       "      <td>84029E</td>\n",
       "      <td>RED WOOLLY HOTTIE WHITE HEART.</td>\n",
       "      <td>6</td>\n",
       "      <td>2010-12-01</td>\n",
       "      <td>3.39</td>\n",
       "      <td>United Kingdom</td>\n",
       "      <td>17850</td>\n",
       "    </tr>\n",
       "  </tbody>\n",
       "</table>\n",
       "</div>"
      ],
      "text/plain": [
       "  invoiceno stockcode                          description  quantity  \\\n",
       "0    536365    85123A   WHITE HANGING HEART T-LIGHT HOLDER         6   \n",
       "1    536365     71053                  WHITE METAL LANTERN         6   \n",
       "2    536365    84406B       CREAM CUPID HEARTS COAT HANGER         8   \n",
       "3    536365    84029G  KNITTED UNION FLAG HOT WATER BOTTLE         6   \n",
       "4    536365    84029E       RED WOOLLY HOTTIE WHITE HEART.         6   \n",
       "\n",
       "  invoicedate  unitprice         country  customerid  \n",
       "0  2010-12-01       2.55  United Kingdom       17850  \n",
       "1  2010-12-01       3.39  United Kingdom       17850  \n",
       "2  2010-12-01       2.75  United Kingdom       17850  \n",
       "3  2010-12-01       3.39  United Kingdom       17850  \n",
       "4  2010-12-01       3.39  United Kingdom       17850  "
      ]
     },
     "execution_count": 20,
     "metadata": {},
     "output_type": "execute_result"
    }
   ],
   "source": [
    "#invoice date\n",
    "df1['invoicedate'] = pd.to_datetime( df1['invoicedate'], format=\"%m/%d/%Y\",errors='coerce')\n",
    "\n",
    "df1['customerid']=df1['customerid'].astype(int)\n",
    "df1.head()"
   ]
  },
  {
   "cell_type": "markdown",
   "metadata": {},
   "source": [
    "## 1.4 descriptive statistics - numeric"
   ]
  },
  {
   "cell_type": "code",
   "execution_count": 21,
   "metadata": {},
   "outputs": [],
   "source": [
    "num_attributes = df1.select_dtypes(include=['int64','float64','int32'])\n",
    "cat_attributes = df1.select_dtypes(exclude=['int64','float64','datetime64[ns]'])"
   ]
  },
  {
   "cell_type": "code",
   "execution_count": 22,
   "metadata": {},
   "outputs": [
    {
     "data": {
      "text/html": [
       "<div>\n",
       "<style scoped>\n",
       "    .dataframe tbody tr th:only-of-type {\n",
       "        vertical-align: middle;\n",
       "    }\n",
       "\n",
       "    .dataframe tbody tr th {\n",
       "        vertical-align: top;\n",
       "    }\n",
       "\n",
       "    .dataframe thead th {\n",
       "        text-align: right;\n",
       "    }\n",
       "</style>\n",
       "<table border=\"1\" class=\"dataframe\">\n",
       "  <thead>\n",
       "    <tr style=\"text-align: right;\">\n",
       "      <th></th>\n",
       "      <th>count</th>\n",
       "      <th>mean</th>\n",
       "      <th>std</th>\n",
       "      <th>min</th>\n",
       "      <th>50%</th>\n",
       "      <th>max</th>\n",
       "      <th>skew</th>\n",
       "      <th>kurtosis</th>\n",
       "    </tr>\n",
       "  </thead>\n",
       "  <tbody>\n",
       "    <tr>\n",
       "      <th>quantity</th>\n",
       "      <td>541909.0</td>\n",
       "      <td>9.552250</td>\n",
       "      <td>218.081158</td>\n",
       "      <td>-80995.00</td>\n",
       "      <td>3.00</td>\n",
       "      <td>80995.0</td>\n",
       "      <td>-0.264076</td>\n",
       "      <td>119769.160031</td>\n",
       "    </tr>\n",
       "    <tr>\n",
       "      <th>unitprice</th>\n",
       "      <td>541909.0</td>\n",
       "      <td>4.611114</td>\n",
       "      <td>96.759853</td>\n",
       "      <td>-11062.06</td>\n",
       "      <td>2.08</td>\n",
       "      <td>38970.0</td>\n",
       "      <td>186.506972</td>\n",
       "      <td>59005.719097</td>\n",
       "    </tr>\n",
       "    <tr>\n",
       "      <th>customerid</th>\n",
       "      <td>541909.0</td>\n",
       "      <td>31894.123997</td>\n",
       "      <td>28863.991573</td>\n",
       "      <td>12346.00</td>\n",
       "      <td>16249.00</td>\n",
       "      <td>83709.0</td>\n",
       "      <td>1.151555</td>\n",
       "      <td>-0.657583</td>\n",
       "    </tr>\n",
       "  </tbody>\n",
       "</table>\n",
       "</div>"
      ],
      "text/plain": [
       "               count          mean           std       min       50%      max  \\\n",
       "quantity    541909.0      9.552250    218.081158 -80995.00      3.00  80995.0   \n",
       "unitprice   541909.0      4.611114     96.759853 -11062.06      2.08  38970.0   \n",
       "customerid  541909.0  31894.123997  28863.991573  12346.00  16249.00  83709.0   \n",
       "\n",
       "                  skew       kurtosis  \n",
       "quantity     -0.264076  119769.160031  \n",
       "unitprice   186.506972   59005.719097  \n",
       "customerid    1.151555      -0.657583  "
      ]
     },
     "execution_count": 22,
     "metadata": {},
     "output_type": "execute_result"
    }
   ],
   "source": [
    "pd.concat([num_attributes.describe(percentiles=[.5]).T,num_attributes.agg(['skew','kurtosis']).T],axis=1)"
   ]
  },
  {
   "cell_type": "markdown",
   "metadata": {},
   "source": [
    "### 1.4.1 quantity"
   ]
  },
  {
   "cell_type": "code",
   "execution_count": 23,
   "metadata": {},
   "outputs": [
    {
     "name": "stdout",
     "output_type": "stream",
     "text": [
      "141    -1\n",
      "154    -1\n",
      "235   -12\n",
      "Name: quantity, dtype: int64\n",
      "There is 0.019604767590130447 negative quantity\n"
     ]
    }
   ],
   "source": [
    "#how many negative quantities there is?\n",
    "\n",
    "aux0=num_attributes[num_attributes['quantity']<0]\n",
    "print(aux0['quantity'].head(3))\n",
    "print(f\"There is {len(aux0)/len(num_attributes)} negative quantity\")\n",
    "# Because it has less than  2% of negative quantity, in this Crisp-DM circle all negatives prices will be dropped\n"
   ]
  },
  {
   "cell_type": "markdown",
   "metadata": {},
   "source": [
    "### 1.4.2 unit price"
   ]
  },
  {
   "cell_type": "code",
   "execution_count": 24,
   "metadata": {},
   "outputs": [
    {
     "name": "stdout",
     "output_type": "stream",
     "text": [
      "622     0.0\n",
      "1970    0.0\n",
      "1971    0.0\n",
      "Name: unitprice, dtype: float64\n",
      "There is 0.004641000610803659 0 quantity\n"
     ]
    }
   ],
   "source": [
    "# inspect unitprice equal zero\n",
    "aux0=num_attributes[num_attributes['unitprice']==0]\n",
    "print(aux0['unitprice'].head(3))\n",
    "print(f\"There is {len(aux0)/len(num_attributes)} 0 quantity\")\n",
    "\n",
    "# Because it has less than  1% of negative unit price, in this Crisp-DM circle all negatives prices will be dropped"
   ]
  },
  {
   "cell_type": "markdown",
   "metadata": {},
   "source": [
    "## 1.5 descriptive statistics - categoric"
   ]
  },
  {
   "cell_type": "code",
   "execution_count": 25,
   "metadata": {},
   "outputs": [
    {
     "data": {
      "text/html": [
       "<div>\n",
       "<style scoped>\n",
       "    .dataframe tbody tr th:only-of-type {\n",
       "        vertical-align: middle;\n",
       "    }\n",
       "\n",
       "    .dataframe tbody tr th {\n",
       "        vertical-align: top;\n",
       "    }\n",
       "\n",
       "    .dataframe thead th {\n",
       "        text-align: right;\n",
       "    }\n",
       "</style>\n",
       "<table border=\"1\" class=\"dataframe\">\n",
       "  <thead>\n",
       "    <tr style=\"text-align: right;\">\n",
       "      <th></th>\n",
       "      <th>invoiceno</th>\n",
       "      <th>stockcode</th>\n",
       "      <th>description</th>\n",
       "      <th>country</th>\n",
       "      <th>customerid</th>\n",
       "    </tr>\n",
       "  </thead>\n",
       "  <tbody>\n",
       "    <tr>\n",
       "      <th>0</th>\n",
       "      <td>536365</td>\n",
       "      <td>85123A</td>\n",
       "      <td>WHITE HANGING HEART T-LIGHT HOLDER</td>\n",
       "      <td>United Kingdom</td>\n",
       "      <td>17850</td>\n",
       "    </tr>\n",
       "  </tbody>\n",
       "</table>\n",
       "</div>"
      ],
      "text/plain": [
       "  invoiceno stockcode                         description         country  \\\n",
       "0    536365    85123A  WHITE HANGING HEART T-LIGHT HOLDER  United Kingdom   \n",
       "\n",
       "   customerid  \n",
       "0       17850  "
      ]
     },
     "execution_count": 25,
     "metadata": {},
     "output_type": "execute_result"
    }
   ],
   "source": [
    "cat_attributes.head(1)"
   ]
  },
  {
   "cell_type": "markdown",
   "metadata": {},
   "source": [
    "### 1.5.1 Invoice"
   ]
  },
  {
   "cell_type": "code",
   "execution_count": 26,
   "metadata": {},
   "outputs": [
    {
     "name": "stdout",
     "output_type": "stream",
     "text": [
      "141    C536379\n",
      "154    C536383\n",
      "235    C536391\n",
      "Name: invoiceno, dtype: object\n",
      "There is 0.017144944999990773 invoices with letters\n"
     ]
    }
   ],
   "source": [
    "#How many invoices with letters there is?\n",
    "\n",
    "aux0=cat_attributes[cat_attributes['invoiceno'].str.contains('[^0-9]+', na=False)]\n",
    "print(aux0['invoiceno'].head(3))\n",
    "print(f\"There is {len(aux0)/len(cat_attributes)} invoices with letters\")\n",
    "\n",
    "# Because it has only 2% of stock codes with letters-only, in this Crisp-DM circle it will be dropped\n"
   ]
  },
  {
   "cell_type": "markdown",
   "metadata": {},
   "source": [
    "### 1.5.2 stockcodes"
   ]
  },
  {
   "cell_type": "code",
   "execution_count": 27,
   "metadata": {},
   "outputs": [
    {
     "name": "stdout",
     "output_type": "stream",
     "text": [
      "0    85123A\n",
      "2    84406B\n",
      "3    84029G\n",
      "Name: stockcode, dtype: object 0.10125869841615474\n",
      "45     POST\n",
      "141       D\n",
      "386    POST\n",
      "Name: stockcode, dtype: object 0.00515953785598689\n",
      "['POST' 'D' 'DOT' 'M' 'BANK CHARGES' 'S' 'AMAZONFEE' 'm' 'DCGSSBOY'\n",
      " 'DCGSSGIRL' 'PADS' 'B' 'CRUK']\n"
     ]
    }
   ],
   "source": [
    "#How many stockcodes with letters there is?\n",
    "\n",
    "aux0=cat_attributes[cat_attributes['stockcode'].str.contains('[^0-9]+', na=False)]\n",
    "print(aux0['stockcode'].head(3), len(aux0)/len(cat_attributes))\n",
    "\n",
    "aux0=cat_attributes[~cat_attributes['stockcode'].str.contains('[0-9]+', na=False)]\n",
    "print(aux0['stockcode'].head(3), len(aux0)/len(cat_attributes))\n",
    "print(aux0['stockcode'].unique())\n",
    "\n",
    "# Because it has only 0,4% of stock codes with letters-only, in this Crisp-DM circle it will be dropped"
   ]
  },
  {
   "cell_type": "code",
   "execution_count": 28,
   "metadata": {},
   "outputs": [
    {
     "data": {
      "text/plain": [
       "0     WHITE HANGING HEART T-LIGHT HOLDER\n",
       "1                    WHITE METAL LANTERN\n",
       "2         CREAM CUPID HEARTS COAT HANGER\n",
       "3    KNITTED UNION FLAG HOT WATER BOTTLE\n",
       "4         RED WOOLLY HOTTIE WHITE HEART.\n",
       "Name: description, dtype: object"
      ]
     },
     "execution_count": 28,
     "metadata": {},
     "output_type": "execute_result"
    }
   ],
   "source": [
    "# Description\n",
    "df1['description'].head()\n",
    "\n",
    "# For this circle, description variable will be dropped"
   ]
  },
  {
   "cell_type": "code",
   "execution_count": 29,
   "metadata": {},
   "outputs": [
    {
     "name": "stdout",
     "output_type": "stream",
     "text": [
      "38 \n",
      " ['United Kingdom' 'France' 'Australia' 'Netherlands' 'Germany' 'Norway'\n",
      " 'EIRE' 'Switzerland' 'Spain' 'Poland' 'Portugal' 'Italy' 'Belgium'\n",
      " 'Lithuania' 'Japan' 'Iceland' 'Channel Islands' 'Denmark' 'Cyprus'\n",
      " 'Sweden' 'Austria' 'Israel' 'Finland' 'Bahrain' 'Greece' 'Hong Kong'\n",
      " 'Singapore' 'Lebanon' 'United Arab Emirates' 'Saudi Arabia'\n",
      " 'Czech Republic' 'Canada' 'Unspecified' 'Brazil' 'USA'\n",
      " 'European Community' 'Malta' 'RSA'] United Kingdom    0.914320\n",
      "Germany           0.017521\n",
      "France            0.015790\n",
      "EIRE              0.015124\n",
      "Spain             0.004674\n",
      "Name: country, dtype: float64\n"
     ]
    }
   ],
   "source": [
    "# Country\n",
    "print(len(df1['country'].unique()), \"\\n\", df1['country'].unique(),  \n",
    "df1['country'].value_counts(normalize=True).head())\n",
    "\n",
    "# for this circle, \"Unspecified\" and \"European Community\" will be dropped, for two reasons:\n",
    "# It has very small data representativiness and through \"European Community\" its not possible to know the specific country"
   ]
  },
  {
   "cell_type": "markdown",
   "metadata": {},
   "source": [
    "# 2.0 Feature Filtering/Cleaning"
   ]
  },
  {
   "cell_type": "code",
   "execution_count": 30,
   "metadata": {},
   "outputs": [],
   "source": [
    "df2=df1.copy()"
   ]
  },
  {
   "cell_type": "code",
   "execution_count": 31,
   "metadata": {},
   "outputs": [
    {
     "name": "stdout",
     "output_type": "stream",
     "text": [
      "(541909, 8)\n",
      "(532618, 8)\n",
      "(530407, 8)\n"
     ]
    },
    {
     "data": {
      "text/html": [
       "<div>\n",
       "<style scoped>\n",
       "    .dataframe tbody tr th:only-of-type {\n",
       "        vertical-align: middle;\n",
       "    }\n",
       "\n",
       "    .dataframe tbody tr th {\n",
       "        vertical-align: top;\n",
       "    }\n",
       "\n",
       "    .dataframe thead th {\n",
       "        text-align: right;\n",
       "    }\n",
       "</style>\n",
       "<table border=\"1\" class=\"dataframe\">\n",
       "  <thead>\n",
       "    <tr style=\"text-align: right;\">\n",
       "      <th></th>\n",
       "      <th>invoiceno</th>\n",
       "      <th>stockcode</th>\n",
       "      <th>quantity</th>\n",
       "      <th>invoicedate</th>\n",
       "      <th>unitprice</th>\n",
       "      <th>country</th>\n",
       "      <th>customerid</th>\n",
       "    </tr>\n",
       "  </thead>\n",
       "  <tbody>\n",
       "    <tr>\n",
       "      <th>0</th>\n",
       "      <td>536365</td>\n",
       "      <td>85123A</td>\n",
       "      <td>6</td>\n",
       "      <td>2010-12-01</td>\n",
       "      <td>2.55</td>\n",
       "      <td>United Kingdom</td>\n",
       "      <td>17850</td>\n",
       "    </tr>\n",
       "    <tr>\n",
       "      <th>1</th>\n",
       "      <td>536365</td>\n",
       "      <td>71053</td>\n",
       "      <td>6</td>\n",
       "      <td>2010-12-01</td>\n",
       "      <td>3.39</td>\n",
       "      <td>United Kingdom</td>\n",
       "      <td>17850</td>\n",
       "    </tr>\n",
       "    <tr>\n",
       "      <th>2</th>\n",
       "      <td>536365</td>\n",
       "      <td>84406B</td>\n",
       "      <td>8</td>\n",
       "      <td>2010-12-01</td>\n",
       "      <td>2.75</td>\n",
       "      <td>United Kingdom</td>\n",
       "      <td>17850</td>\n",
       "    </tr>\n",
       "    <tr>\n",
       "      <th>3</th>\n",
       "      <td>536365</td>\n",
       "      <td>84029G</td>\n",
       "      <td>6</td>\n",
       "      <td>2010-12-01</td>\n",
       "      <td>3.39</td>\n",
       "      <td>United Kingdom</td>\n",
       "      <td>17850</td>\n",
       "    </tr>\n",
       "    <tr>\n",
       "      <th>4</th>\n",
       "      <td>536365</td>\n",
       "      <td>84029E</td>\n",
       "      <td>6</td>\n",
       "      <td>2010-12-01</td>\n",
       "      <td>3.39</td>\n",
       "      <td>United Kingdom</td>\n",
       "      <td>17850</td>\n",
       "    </tr>\n",
       "  </tbody>\n",
       "</table>\n",
       "</div>"
      ],
      "text/plain": [
       "  invoiceno stockcode  quantity invoicedate  unitprice         country  \\\n",
       "0    536365    85123A         6  2010-12-01       2.55  United Kingdom   \n",
       "1    536365     71053         6  2010-12-01       3.39  United Kingdom   \n",
       "2    536365    84406B         8  2010-12-01       2.75  United Kingdom   \n",
       "3    536365    84029G         6  2010-12-01       3.39  United Kingdom   \n",
       "4    536365    84029E         6  2010-12-01       3.39  United Kingdom   \n",
       "\n",
       "   customerid  \n",
       "0       17850  \n",
       "1       17850  \n",
       "2       17850  \n",
       "3       17850  \n",
       "4       17850  "
      ]
     },
     "execution_count": 31,
     "metadata": {},
     "output_type": "execute_result"
    }
   ],
   "source": [
    " # ----------------------  Numerical attributes ----------------\n",
    " # purhcases df and returns df\n",
    "returns = df2.loc[df2['quantity'] < 0, :]\n",
    "purchases = df2.loc[df2['quantity'] >= 0, :]\n",
    "\n",
    "\n",
    "print(df2.shape)\n",
    "\n",
    "\n",
    "#drop invoices with only letters\n",
    "df2=df2[~df2['invoiceno'].str.contains('[^0-9]+', na=False)]\n",
    "print(df2.shape)\n",
    "\n",
    "#filter only stockcodes with numbers\n",
    "df2=df2[df2['stockcode'].str.contains('[0-9]+', na=False)]\n",
    "print(df2.shape)\n",
    "\n",
    "\n",
    "# ------------------ Categorical attributes -------------------\n",
    "# drop description\n",
    "df2 = df2.drop( columns='description', axis=1 )\n",
    "\n",
    "# drop \"unspecifiec\" and \"european communoty\" countries -  \n",
    "df2 = df2[~df2['country'].isin( [\"European Community\",'Unspecified' ] ) ]\n",
    "\n",
    "\n",
    "\n",
    "df2.head()"
   ]
  },
  {
   "cell_type": "markdown",
   "metadata": {},
   "source": [
    "# 3.0 Feature Engineering"
   ]
  },
  {
   "cell_type": "code",
   "execution_count": 32,
   "metadata": {},
   "outputs": [],
   "source": [
    "# data reference\n",
    "df3=df2.copy()"
   ]
  },
  {
   "cell_type": "markdown",
   "metadata": {},
   "source": [
    "## 3.1 Feature Creation"
   ]
  },
  {
   "cell_type": "code",
   "execution_count": 33,
   "metadata": {},
   "outputs": [
    {
     "data": {
      "text/html": [
       "<div>\n",
       "<style scoped>\n",
       "    .dataframe tbody tr th:only-of-type {\n",
       "        vertical-align: middle;\n",
       "    }\n",
       "\n",
       "    .dataframe tbody tr th {\n",
       "        vertical-align: top;\n",
       "    }\n",
       "\n",
       "    .dataframe thead th {\n",
       "        text-align: right;\n",
       "    }\n",
       "</style>\n",
       "<table border=\"1\" class=\"dataframe\">\n",
       "  <thead>\n",
       "    <tr style=\"text-align: right;\">\n",
       "      <th></th>\n",
       "      <th>customerid</th>\n",
       "    </tr>\n",
       "  </thead>\n",
       "  <tbody>\n",
       "    <tr>\n",
       "      <th>0</th>\n",
       "      <td>17850</td>\n",
       "    </tr>\n",
       "    <tr>\n",
       "      <th>1</th>\n",
       "      <td>13047</td>\n",
       "    </tr>\n",
       "    <tr>\n",
       "      <th>2</th>\n",
       "      <td>12583</td>\n",
       "    </tr>\n",
       "  </tbody>\n",
       "</table>\n",
       "</div>"
      ],
      "text/plain": [
       "   customerid\n",
       "0       17850\n",
       "1       13047\n",
       "2       12583"
      ]
     },
     "execution_count": 33,
     "metadata": {},
     "output_type": "execute_result"
    }
   ],
   "source": [
    "df_ref=df3[['customerid']].drop_duplicates(ignore_index=True)\n",
    "df_ref.head(3)"
   ]
  },
  {
   "cell_type": "markdown",
   "metadata": {},
   "source": [
    "### 3.1.1 gross revenue"
   ]
  },
  {
   "cell_type": "code",
   "execution_count": 34,
   "metadata": {},
   "outputs": [
    {
     "name": "stdout",
     "output_type": "stream",
     "text": [
      "customerid          0\n",
      "gross_revenue    1336\n",
      "dtype: int64\n"
     ]
    },
    {
     "data": {
      "text/html": [
       "<div>\n",
       "<style scoped>\n",
       "    .dataframe tbody tr th:only-of-type {\n",
       "        vertical-align: middle;\n",
       "    }\n",
       "\n",
       "    .dataframe tbody tr th {\n",
       "        vertical-align: top;\n",
       "    }\n",
       "\n",
       "    .dataframe thead th {\n",
       "        text-align: right;\n",
       "    }\n",
       "</style>\n",
       "<table border=\"1\" class=\"dataframe\">\n",
       "  <thead>\n",
       "    <tr style=\"text-align: right;\">\n",
       "      <th></th>\n",
       "      <th>customerid</th>\n",
       "      <th>gross_revenue</th>\n",
       "    </tr>\n",
       "  </thead>\n",
       "  <tbody>\n",
       "    <tr>\n",
       "      <th>0</th>\n",
       "      <td>17850</td>\n",
       "      <td>5391.21</td>\n",
       "    </tr>\n",
       "    <tr>\n",
       "      <th>1</th>\n",
       "      <td>13047</td>\n",
       "      <td>3237.54</td>\n",
       "    </tr>\n",
       "    <tr>\n",
       "      <th>2</th>\n",
       "      <td>12583</td>\n",
       "      <td>7281.38</td>\n",
       "    </tr>\n",
       "    <tr>\n",
       "      <th>3</th>\n",
       "      <td>13748</td>\n",
       "      <td>948.25</td>\n",
       "    </tr>\n",
       "    <tr>\n",
       "      <th>4</th>\n",
       "      <td>15100</td>\n",
       "      <td>876.00</td>\n",
       "    </tr>\n",
       "  </tbody>\n",
       "</table>\n",
       "</div>"
      ],
      "text/plain": [
       "   customerid  gross_revenue\n",
       "0       17850        5391.21\n",
       "1       13047        3237.54\n",
       "2       12583        7281.38\n",
       "3       13748         948.25\n",
       "4       15100         876.00"
      ]
     },
     "execution_count": 34,
     "metadata": {},
     "output_type": "execute_result"
    }
   ],
   "source": [
    "\n",
    "purchases['gross_revenue'] = purchases['quantity'] * purchases['unitprice']\n",
    "\n",
    "#Monetary\n",
    "df_monetary = purchases[['customerid', 'gross_revenue']].groupby( 'customerid').sum().reset_index()\n",
    "df_ref=df_ref.merge(df_monetary,on='customerid',how='left')\n",
    "print(df_ref.isna().sum())\n",
    "df_ref.head()"
   ]
  },
  {
   "cell_type": "markdown",
   "metadata": {},
   "source": [
    "### 3.1.1 gross outgoings"
   ]
  },
  {
   "cell_type": "code",
   "execution_count": 35,
   "metadata": {},
   "outputs": [
    {
     "name": "stdout",
     "output_type": "stream",
     "text": [
      "customerid          0\n",
      "gross_revenue    1336\n",
      "gross_returns    4910\n",
      "dtype: int64\n"
     ]
    },
    {
     "data": {
      "text/html": [
       "<div>\n",
       "<style scoped>\n",
       "    .dataframe tbody tr th:only-of-type {\n",
       "        vertical-align: middle;\n",
       "    }\n",
       "\n",
       "    .dataframe tbody tr th {\n",
       "        vertical-align: top;\n",
       "    }\n",
       "\n",
       "    .dataframe thead th {\n",
       "        text-align: right;\n",
       "    }\n",
       "</style>\n",
       "<table border=\"1\" class=\"dataframe\">\n",
       "  <thead>\n",
       "    <tr style=\"text-align: right;\">\n",
       "      <th></th>\n",
       "      <th>customerid</th>\n",
       "      <th>gross_revenue</th>\n",
       "      <th>gross_returns</th>\n",
       "    </tr>\n",
       "  </thead>\n",
       "  <tbody>\n",
       "    <tr>\n",
       "      <th>0</th>\n",
       "      <td>17850</td>\n",
       "      <td>5391.21</td>\n",
       "      <td>-102.58</td>\n",
       "    </tr>\n",
       "    <tr>\n",
       "      <th>1</th>\n",
       "      <td>13047</td>\n",
       "      <td>3237.54</td>\n",
       "      <td>-158.44</td>\n",
       "    </tr>\n",
       "    <tr>\n",
       "      <th>2</th>\n",
       "      <td>12583</td>\n",
       "      <td>7281.38</td>\n",
       "      <td>-94.04</td>\n",
       "    </tr>\n",
       "    <tr>\n",
       "      <th>3</th>\n",
       "      <td>13748</td>\n",
       "      <td>948.25</td>\n",
       "      <td>NaN</td>\n",
       "    </tr>\n",
       "    <tr>\n",
       "      <th>4</th>\n",
       "      <td>15100</td>\n",
       "      <td>876.00</td>\n",
       "      <td>-240.90</td>\n",
       "    </tr>\n",
       "  </tbody>\n",
       "</table>\n",
       "</div>"
      ],
      "text/plain": [
       "   customerid  gross_revenue  gross_returns\n",
       "0       17850        5391.21        -102.58\n",
       "1       13047        3237.54        -158.44\n",
       "2       12583        7281.38         -94.04\n",
       "3       13748         948.25            NaN\n",
       "4       15100         876.00        -240.90"
      ]
     },
     "execution_count": 35,
     "metadata": {},
     "output_type": "execute_result"
    }
   ],
   "source": [
    "returns['gross_returns'] = returns['quantity'] * returns['unitprice']\n",
    "\n",
    "#returns\n",
    "df_returns = returns[['customerid', 'gross_returns']].groupby( 'customerid').sum().reset_index()\n",
    "df_ref=df_ref.merge(df_returns,on='customerid',how='left')\n",
    "print(df_ref.isna().sum())\n",
    "df_ref.head()"
   ]
  },
  {
   "cell_type": "markdown",
   "metadata": {},
   "source": [
    "### 3.1.3 profit (gross revenue - gross outgoins)"
   ]
  },
  {
   "cell_type": "code",
   "execution_count": 36,
   "metadata": {},
   "outputs": [
    {
     "data": {
      "text/html": [
       "<div>\n",
       "<style scoped>\n",
       "    .dataframe tbody tr th:only-of-type {\n",
       "        vertical-align: middle;\n",
       "    }\n",
       "\n",
       "    .dataframe tbody tr th {\n",
       "        vertical-align: top;\n",
       "    }\n",
       "\n",
       "    .dataframe thead th {\n",
       "        text-align: right;\n",
       "    }\n",
       "</style>\n",
       "<table border=\"1\" class=\"dataframe\">\n",
       "  <thead>\n",
       "    <tr style=\"text-align: right;\">\n",
       "      <th></th>\n",
       "      <th>customerid</th>\n",
       "      <th>profit</th>\n",
       "    </tr>\n",
       "  </thead>\n",
       "  <tbody>\n",
       "    <tr>\n",
       "      <th>0</th>\n",
       "      <td>17850</td>\n",
       "      <td>5493.79</td>\n",
       "    </tr>\n",
       "    <tr>\n",
       "      <th>1</th>\n",
       "      <td>13047</td>\n",
       "      <td>3395.98</td>\n",
       "    </tr>\n",
       "    <tr>\n",
       "      <th>2</th>\n",
       "      <td>12583</td>\n",
       "      <td>7375.42</td>\n",
       "    </tr>\n",
       "    <tr>\n",
       "      <th>3</th>\n",
       "      <td>13748</td>\n",
       "      <td>NaN</td>\n",
       "    </tr>\n",
       "    <tr>\n",
       "      <th>4</th>\n",
       "      <td>15100</td>\n",
       "      <td>1116.90</td>\n",
       "    </tr>\n",
       "  </tbody>\n",
       "</table>\n",
       "</div>"
      ],
      "text/plain": [
       "   customerid   profit\n",
       "0       17850  5493.79\n",
       "1       13047  3395.98\n",
       "2       12583  7375.42\n",
       "3       13748      NaN\n",
       "4       15100  1116.90"
      ]
     },
     "execution_count": 36,
     "metadata": {},
     "output_type": "execute_result"
    }
   ],
   "source": [
    "df_ref['profit'] = df_ref['gross_revenue']-df_ref['gross_returns']\n",
    "df_ref=df_ref.drop(['gross_revenue','gross_returns'], axis=1)\n",
    "df_ref.head()"
   ]
  },
  {
   "cell_type": "markdown",
   "metadata": {},
   "source": [
    "### 3.1.2 recency"
   ]
  },
  {
   "cell_type": "code",
   "execution_count": 37,
   "metadata": {},
   "outputs": [
    {
     "name": "stdout",
     "output_type": "stream",
     "text": [
      "customerid        0\n",
      "profit         6246\n",
      "recencydays    1336\n",
      "dtype: int64\n"
     ]
    },
    {
     "data": {
      "text/html": [
       "<div>\n",
       "<style scoped>\n",
       "    .dataframe tbody tr th:only-of-type {\n",
       "        vertical-align: middle;\n",
       "    }\n",
       "\n",
       "    .dataframe tbody tr th {\n",
       "        vertical-align: top;\n",
       "    }\n",
       "\n",
       "    .dataframe thead th {\n",
       "        text-align: right;\n",
       "    }\n",
       "</style>\n",
       "<table border=\"1\" class=\"dataframe\">\n",
       "  <thead>\n",
       "    <tr style=\"text-align: right;\">\n",
       "      <th></th>\n",
       "      <th>customerid</th>\n",
       "      <th>profit</th>\n",
       "      <th>recencydays</th>\n",
       "    </tr>\n",
       "  </thead>\n",
       "  <tbody>\n",
       "    <tr>\n",
       "      <th>0</th>\n",
       "      <td>17850</td>\n",
       "      <td>5493.79</td>\n",
       "      <td>372.0</td>\n",
       "    </tr>\n",
       "    <tr>\n",
       "      <th>1</th>\n",
       "      <td>13047</td>\n",
       "      <td>3395.98</td>\n",
       "      <td>31.0</td>\n",
       "    </tr>\n",
       "    <tr>\n",
       "      <th>2</th>\n",
       "      <td>12583</td>\n",
       "      <td>7375.42</td>\n",
       "      <td>2.0</td>\n",
       "    </tr>\n",
       "    <tr>\n",
       "      <th>3</th>\n",
       "      <td>13748</td>\n",
       "      <td>NaN</td>\n",
       "      <td>95.0</td>\n",
       "    </tr>\n",
       "    <tr>\n",
       "      <th>4</th>\n",
       "      <td>15100</td>\n",
       "      <td>1116.90</td>\n",
       "      <td>333.0</td>\n",
       "    </tr>\n",
       "  </tbody>\n",
       "</table>\n",
       "</div>"
      ],
      "text/plain": [
       "   customerid   profit  recencydays\n",
       "0       17850  5493.79        372.0\n",
       "1       13047  3395.98         31.0\n",
       "2       12583  7375.42          2.0\n",
       "3       13748      NaN         95.0\n",
       "4       15100  1116.90        333.0"
      ]
     },
     "execution_count": 37,
     "metadata": {},
     "output_type": "execute_result"
    }
   ],
   "source": [
    "#recency\n",
    "df_recency = purchases.groupby( 'customerid').max().reset_index()\n",
    "df_recency['recencydays'] = ( purchases['invoicedate'].max() - df_recency['invoicedate'] ).dt.days\n",
    "df_recency= df_recency[['customerid','recencydays']].copy()\n",
    "df_ref=df_ref.merge(df_recency, how='left', on='customerid')\n",
    "\n",
    "print(df_ref.isna().sum())\n",
    "df_ref.head()"
   ]
  },
  {
   "cell_type": "markdown",
   "metadata": {},
   "source": [
    "### 3.1.4 quantity of items purchased"
   ]
  },
  {
   "cell_type": "code",
   "execution_count": 38,
   "metadata": {},
   "outputs": [
    {
     "data": {
      "text/plain": [
       "customerid        0\n",
       "profit         6246\n",
       "recencydays    1336\n",
       "qtd_items      1336\n",
       "dtype: int64"
      ]
     },
     "execution_count": 38,
     "metadata": {},
     "output_type": "execute_result"
    }
   ],
   "source": [
    "# quantity of products purchased\n",
    "df_freq = purchases[['customerid', 'quantity']].drop_duplicates().groupby( 'customerid' ).sum().reset_index().rename( columns={'quantity':'qtd_items'})\n",
    "df_ref = pd.merge( df_ref, df_freq, on='customerid', how='left' )\n",
    "df_ref.isna().sum()\n"
   ]
  },
  {
   "cell_type": "markdown",
   "metadata": {},
   "source": [
    "### 3.1.6 avg ticket"
   ]
  },
  {
   "cell_type": "code",
   "execution_count": 39,
   "metadata": {},
   "outputs": [
    {
     "data": {
      "text/plain": [
       "customerid        0\n",
       "profit         6246\n",
       "recencydays    1336\n",
       "qtd_items      1336\n",
       "avg_ticket     1336\n",
       "dtype: int64"
      ]
     },
     "execution_count": 39,
     "metadata": {},
     "output_type": "execute_result"
    }
   ],
   "source": [
    " # Avg Ticket\n",
    "df_avg_ticket = purchases[['customerid','gross_revenue']].groupby( 'customerid' ).mean().reset_index().rename( columns={'gross_revenue':'avg_ticket'} )\n",
    "df_ref = pd.merge( df_ref, df_avg_ticket, on='customerid', how='left')\n",
    "df_ref.isna().sum()"
   ]
  },
  {
   "cell_type": "markdown",
   "metadata": {},
   "source": [
    "### 3.1.6 avg recency days"
   ]
  },
  {
   "cell_type": "code",
   "execution_count": 40,
   "metadata": {},
   "outputs": [
    {
     "name": "stdout",
     "output_type": "stream",
     "text": [
      "customerid        0\n",
      "profit         6246\n",
      "recencydays    1336\n",
      "qtd_items      1336\n",
      "avg_ticket     1336\n",
      "dtype: int64\n"
     ]
    },
    {
     "data": {
      "text/html": [
       "<div>\n",
       "<style scoped>\n",
       "    .dataframe tbody tr th:only-of-type {\n",
       "        vertical-align: middle;\n",
       "    }\n",
       "\n",
       "    .dataframe tbody tr th {\n",
       "        vertical-align: top;\n",
       "    }\n",
       "\n",
       "    .dataframe thead th {\n",
       "        text-align: right;\n",
       "    }\n",
       "</style>\n",
       "<table border=\"1\" class=\"dataframe\">\n",
       "  <thead>\n",
       "    <tr style=\"text-align: right;\">\n",
       "      <th></th>\n",
       "      <th>customerid</th>\n",
       "      <th>avg_recencydays</th>\n",
       "    </tr>\n",
       "  </thead>\n",
       "  <tbody>\n",
       "    <tr>\n",
       "      <th>0</th>\n",
       "      <td>17850</td>\n",
       "      <td>-1.0</td>\n",
       "    </tr>\n",
       "  </tbody>\n",
       "</table>\n",
       "</div>"
      ],
      "text/plain": [
       "   customerid  avg_recencydays\n",
       "0       17850             -1.0"
      ]
     },
     "execution_count": 40,
     "metadata": {},
     "output_type": "execute_result"
    }
   ],
   "source": [
    "# average recency days\n",
    "df_aux = df2[df2['customerid']==17850][['customerid','invoicedate']].drop_duplicates().sort_values(['customerid','invoicedate'],ascending=[False,False]).head()\n",
    "df_aux['next_customer_id'] = df_aux['customerid'].shift()\n",
    "df_aux['previous_date'] = df_aux['invoicedate'].shift()\n",
    "\n",
    "df_aux['avg_recencydays'] = df_aux.apply( lambda x: ( x['invoicedate'] - x['previous_date']).days if x['customerid']==x['next_customer_id'] else np.nan, axis=1)\n",
    "\n",
    "df_aux= df_aux.drop( ['invoicedate','next_customer_id', 'previous_date'], axis=1).dropna()\n",
    "\n",
    "# averagy recency\n",
    "df_avg_recency_days = df_aux.groupby( 'customerid' ).mean().reset_index()\n",
    "\n",
    "df_ref.merge(df_avg_recency_days, on='customerid', how='left')\n",
    "print(df_ref.isna().sum())\n",
    "df_avg_recency_days.head()"
   ]
  },
  {
   "cell_type": "markdown",
   "metadata": {},
   "source": [
    "### 3.1.7 frequency"
   ]
  },
  {
   "cell_type": "code",
   "execution_count": 41,
   "metadata": {},
   "outputs": [
    {
     "data": {
      "text/plain": [
       "customerid        0\n",
       "profit         6246\n",
       "recencydays    1336\n",
       "qtd_items      1336\n",
       "avg_ticket     1336\n",
       "frequency         0\n",
       "dtype: int64"
      ]
     },
     "execution_count": 41,
     "metadata": {},
     "output_type": "execute_result"
    }
   ],
   "source": [
    "# frequency\n",
    "\n",
    "df_aux = ( df2[['customerid', 'invoiceno', 'invoicedate']].drop_duplicates()\n",
    "                                                        .groupby('customerid')\n",
    "                                                        .agg( max_ = ('invoicedate', 'max'),\n",
    "                                                            min_= ('invoicedate', 'min'),\n",
    "                                                            days_= ('invoicedate', lambda x: (( x.max() - x.min()).days ) +1 ),\n",
    "                                                            buy_ = ('invoiceno', 'count')).reset_index()\n",
    ")\n",
    "\n",
    "df_aux['frequency'] = df_aux[['buy_', 'days_']].apply(lambda x: x['buy_']/x['days_'] if x['days_'] != 0 else 0, axis=1)\n",
    "\n",
    "df_ref= df_ref.merge(df_aux[['customerid','frequency']], on='customerid', how='left')\n",
    "\n",
    "df_ref.isna().sum()"
   ]
  },
  {
   "cell_type": "markdown",
   "metadata": {},
   "source": [
    "### 3.1.8 basket size"
   ]
  },
  {
   "cell_type": "code",
   "execution_count": 42,
   "metadata": {},
   "outputs": [
    {
     "name": "stdout",
     "output_type": "stream",
     "text": [
      "customerid            0\n",
      "profit             6246\n",
      "recencydays        1336\n",
      "qtd_items          1336\n",
      "avg_ticket         1336\n",
      "frequency             0\n",
      "avg_basket_size    1336\n",
      "dtype: int64\n"
     ]
    },
    {
     "data": {
      "text/html": [
       "<div>\n",
       "<style scoped>\n",
       "    .dataframe tbody tr th:only-of-type {\n",
       "        vertical-align: middle;\n",
       "    }\n",
       "\n",
       "    .dataframe tbody tr th {\n",
       "        vertical-align: top;\n",
       "    }\n",
       "\n",
       "    .dataframe thead th {\n",
       "        text-align: right;\n",
       "    }\n",
       "</style>\n",
       "<table border=\"1\" class=\"dataframe\">\n",
       "  <thead>\n",
       "    <tr style=\"text-align: right;\">\n",
       "      <th></th>\n",
       "      <th>customerid</th>\n",
       "      <th>profit</th>\n",
       "      <th>recencydays</th>\n",
       "      <th>qtd_items</th>\n",
       "      <th>avg_ticket</th>\n",
       "      <th>frequency</th>\n",
       "      <th>avg_basket_size</th>\n",
       "    </tr>\n",
       "  </thead>\n",
       "  <tbody>\n",
       "    <tr>\n",
       "      <th>0</th>\n",
       "      <td>17850</td>\n",
       "      <td>5493.79</td>\n",
       "      <td>372.0</td>\n",
       "      <td>35.0</td>\n",
       "      <td>18.152222</td>\n",
       "      <td>17.000000</td>\n",
       "      <td>0.019619</td>\n",
       "    </tr>\n",
       "    <tr>\n",
       "      <th>1</th>\n",
       "      <td>13047</td>\n",
       "      <td>3395.98</td>\n",
       "      <td>31.0</td>\n",
       "      <td>132.0</td>\n",
       "      <td>18.822907</td>\n",
       "      <td>0.028302</td>\n",
       "      <td>0.007189</td>\n",
       "    </tr>\n",
       "    <tr>\n",
       "      <th>2</th>\n",
       "      <td>12583</td>\n",
       "      <td>7375.42</td>\n",
       "      <td>2.0</td>\n",
       "      <td>1569.0</td>\n",
       "      <td>29.479271</td>\n",
       "      <td>0.040323</td>\n",
       "      <td>0.002964</td>\n",
       "    </tr>\n",
       "    <tr>\n",
       "      <th>3</th>\n",
       "      <td>13748</td>\n",
       "      <td>NaN</td>\n",
       "      <td>95.0</td>\n",
       "      <td>169.0</td>\n",
       "      <td>33.866071</td>\n",
       "      <td>0.017921</td>\n",
       "      <td>0.011390</td>\n",
       "    </tr>\n",
       "    <tr>\n",
       "      <th>4</th>\n",
       "      <td>15100</td>\n",
       "      <td>1116.90</td>\n",
       "      <td>333.0</td>\n",
       "      <td>48.0</td>\n",
       "      <td>292.000000</td>\n",
       "      <td>0.073171</td>\n",
       "      <td>0.037500</td>\n",
       "    </tr>\n",
       "  </tbody>\n",
       "</table>\n",
       "</div>"
      ],
      "text/plain": [
       "   customerid   profit  recencydays  qtd_items  avg_ticket  frequency  \\\n",
       "0       17850  5493.79        372.0       35.0   18.152222  17.000000   \n",
       "1       13047  3395.98         31.0      132.0   18.822907   0.028302   \n",
       "2       12583  7375.42          2.0     1569.0   29.479271   0.040323   \n",
       "3       13748      NaN         95.0      169.0   33.866071   0.017921   \n",
       "4       15100  1116.90        333.0       48.0  292.000000   0.073171   \n",
       "\n",
       "   avg_basket_size  \n",
       "0         0.019619  \n",
       "1         0.007189  \n",
       "2         0.002964  \n",
       "3         0.011390  \n",
       "4         0.037500  "
      ]
     },
     "execution_count": 42,
     "metadata": {},
     "output_type": "execute_result"
    }
   ],
   "source": [
    "# basket size\n",
    "df_aux = ( purchases.groupby('customerid').agg( n_purchases = ('invoiceno','nunique'), n_products = ('quantity','sum'))\n",
    "                                            .reset_index()\n",
    ")\n",
    "\n",
    "#calculation\n",
    "df_aux['avg_basket_size'] = df_aux['n_purchases'] / df_aux['n_products']\n",
    "df_ref = df_ref.merge( df_aux[['customerid', 'avg_basket_size']], how='left', on='customerid')\n",
    "\n",
    "print(df_ref.isna().sum())\n",
    "\n",
    "df_ref.head()"
   ]
  },
  {
   "cell_type": "markdown",
   "metadata": {},
   "source": [
    "# 4.0 EDA (Exploratory Data Analysis)"
   ]
  },
  {
   "cell_type": "code",
   "execution_count": 43,
   "metadata": {},
   "outputs": [
    {
     "data": {
      "text/html": [
       "<div>\n",
       "<style scoped>\n",
       "    .dataframe tbody tr th:only-of-type {\n",
       "        vertical-align: middle;\n",
       "    }\n",
       "\n",
       "    .dataframe tbody tr th {\n",
       "        vertical-align: top;\n",
       "    }\n",
       "\n",
       "    .dataframe thead th {\n",
       "        text-align: right;\n",
       "    }\n",
       "</style>\n",
       "<table border=\"1\" class=\"dataframe\">\n",
       "  <thead>\n",
       "    <tr style=\"text-align: right;\">\n",
       "      <th></th>\n",
       "      <th>customerid</th>\n",
       "      <th>profit</th>\n",
       "      <th>recencydays</th>\n",
       "      <th>qtd_items</th>\n",
       "      <th>avg_ticket</th>\n",
       "      <th>frequency</th>\n",
       "      <th>avg_basket_size</th>\n",
       "    </tr>\n",
       "  </thead>\n",
       "  <tbody>\n",
       "    <tr>\n",
       "      <th>0</th>\n",
       "      <td>17850</td>\n",
       "      <td>5493.79</td>\n",
       "      <td>372.0</td>\n",
       "      <td>35.0</td>\n",
       "      <td>18.152222</td>\n",
       "      <td>17.000000</td>\n",
       "      <td>0.019619</td>\n",
       "    </tr>\n",
       "    <tr>\n",
       "      <th>1</th>\n",
       "      <td>13047</td>\n",
       "      <td>3395.98</td>\n",
       "      <td>31.0</td>\n",
       "      <td>132.0</td>\n",
       "      <td>18.822907</td>\n",
       "      <td>0.028302</td>\n",
       "      <td>0.007189</td>\n",
       "    </tr>\n",
       "    <tr>\n",
       "      <th>2</th>\n",
       "      <td>12583</td>\n",
       "      <td>7375.42</td>\n",
       "      <td>2.0</td>\n",
       "      <td>1569.0</td>\n",
       "      <td>29.479271</td>\n",
       "      <td>0.040323</td>\n",
       "      <td>0.002964</td>\n",
       "    </tr>\n",
       "    <tr>\n",
       "      <th>4</th>\n",
       "      <td>15100</td>\n",
       "      <td>1116.90</td>\n",
       "      <td>333.0</td>\n",
       "      <td>48.0</td>\n",
       "      <td>292.000000</td>\n",
       "      <td>0.073171</td>\n",
       "      <td>0.037500</td>\n",
       "    </tr>\n",
       "    <tr>\n",
       "      <th>5</th>\n",
       "      <td>15291</td>\n",
       "      <td>4740.09</td>\n",
       "      <td>25.0</td>\n",
       "      <td>508.0</td>\n",
       "      <td>45.323301</td>\n",
       "      <td>0.040115</td>\n",
       "      <td>0.007133</td>\n",
       "    </tr>\n",
       "  </tbody>\n",
       "</table>\n",
       "</div>"
      ],
      "text/plain": [
       "   customerid   profit  recencydays  qtd_items  avg_ticket  frequency  \\\n",
       "0       17850  5493.79        372.0       35.0   18.152222  17.000000   \n",
       "1       13047  3395.98         31.0      132.0   18.822907   0.028302   \n",
       "2       12583  7375.42          2.0     1569.0   29.479271   0.040323   \n",
       "4       15100  1116.90        333.0       48.0  292.000000   0.073171   \n",
       "5       15291  4740.09         25.0      508.0   45.323301   0.040115   \n",
       "\n",
       "   avg_basket_size  \n",
       "0         0.019619  \n",
       "1         0.007189  \n",
       "2         0.002964  \n",
       "4         0.037500  \n",
       "5         0.007133  "
      ]
     },
     "execution_count": 43,
     "metadata": {},
     "output_type": "execute_result"
    }
   ],
   "source": [
    "df4=df_ref.dropna().copy()\n",
    "df4.head()"
   ]
  },
  {
   "cell_type": "markdown",
   "metadata": {},
   "source": [
    "## 4.1 Univariate Analysis"
   ]
  },
  {
   "cell_type": "raw",
   "metadata": {},
   "source": [
    "1. Cluster coesos e separados\n",
    "2. Variability -\n",
    "- Min, Max, Range\n",
    "- Mean and Median\n",
    "- Std and variance\n",
    "- Coeficient of variation\n"
   ]
  },
  {
   "cell_type": "code",
   "execution_count": 44,
   "metadata": {},
   "outputs": [],
   "source": [
    "num_attributes1 = df4.select_dtypes(include=['int64','float64','int32'])\n"
   ]
  },
  {
   "cell_type": "code",
   "execution_count": 45,
   "metadata": {},
   "outputs": [
    {
     "data": {
      "text/html": [
       "<div>\n",
       "<style scoped>\n",
       "    .dataframe tbody tr th:only-of-type {\n",
       "        vertical-align: middle;\n",
       "    }\n",
       "\n",
       "    .dataframe tbody tr th {\n",
       "        vertical-align: top;\n",
       "    }\n",
       "\n",
       "    .dataframe thead th {\n",
       "        text-align: right;\n",
       "    }\n",
       "</style>\n",
       "<table border=\"1\" class=\"dataframe\">\n",
       "  <thead>\n",
       "    <tr style=\"text-align: right;\">\n",
       "      <th></th>\n",
       "      <th>count</th>\n",
       "      <th>mean</th>\n",
       "      <th>std</th>\n",
       "      <th>min</th>\n",
       "      <th>50%</th>\n",
       "      <th>95%</th>\n",
       "      <th>max</th>\n",
       "      <th>skew</th>\n",
       "      <th>kurtosis</th>\n",
       "    </tr>\n",
       "  </thead>\n",
       "  <tbody>\n",
       "    <tr>\n",
       "      <th>customerid</th>\n",
       "      <td>1552.0</td>\n",
       "      <td>15179.497423</td>\n",
       "      <td>1723.792714</td>\n",
       "      <td>12346.000000</td>\n",
       "      <td>15123.500000</td>\n",
       "      <td>17976.800000</td>\n",
       "      <td>18282.000000</td>\n",
       "      <td>0.093721</td>\n",
       "      <td>-1.174294</td>\n",
       "    </tr>\n",
       "    <tr>\n",
       "      <th>profit</th>\n",
       "      <td>1552.0</td>\n",
       "      <td>4647.002965</td>\n",
       "      <td>17274.983396</td>\n",
       "      <td>12.400000</td>\n",
       "      <td>1656.615000</td>\n",
       "      <td>11690.534500</td>\n",
       "      <td>336942.100000</td>\n",
       "      <td>12.243716</td>\n",
       "      <td>184.182975</td>\n",
       "    </tr>\n",
       "    <tr>\n",
       "      <th>recencydays</th>\n",
       "      <td>1552.0</td>\n",
       "      <td>64.967784</td>\n",
       "      <td>84.659672</td>\n",
       "      <td>0.000000</td>\n",
       "      <td>28.000000</td>\n",
       "      <td>274.000000</td>\n",
       "      <td>373.000000</td>\n",
       "      <td>1.843840</td>\n",
       "      <td>2.673104</td>\n",
       "    </tr>\n",
       "    <tr>\n",
       "      <th>qtd_items</th>\n",
       "      <td>1552.0</td>\n",
       "      <td>565.704897</td>\n",
       "      <td>3206.037822</td>\n",
       "      <td>1.000000</td>\n",
       "      <td>183.000000</td>\n",
       "      <td>1298.700000</td>\n",
       "      <td>80996.000000</td>\n",
       "      <td>19.647675</td>\n",
       "      <td>448.815963</td>\n",
       "    </tr>\n",
       "    <tr>\n",
       "      <th>avg_ticket</th>\n",
       "      <td>1552.0</td>\n",
       "      <td>130.628273</td>\n",
       "      <td>2447.777236</td>\n",
       "      <td>2.241000</td>\n",
       "      <td>19.120918</td>\n",
       "      <td>95.142922</td>\n",
       "      <td>77183.600000</td>\n",
       "      <td>27.983235</td>\n",
       "      <td>810.727585</td>\n",
       "    </tr>\n",
       "    <tr>\n",
       "      <th>frequency</th>\n",
       "      <td>1552.0</td>\n",
       "      <td>0.200165</td>\n",
       "      <td>0.574232</td>\n",
       "      <td>0.005479</td>\n",
       "      <td>0.031092</td>\n",
       "      <td>1.000000</td>\n",
       "      <td>17.000000</td>\n",
       "      <td>17.001325</td>\n",
       "      <td>474.116048</td>\n",
       "    </tr>\n",
       "    <tr>\n",
       "      <th>avg_basket_size</th>\n",
       "      <td>1552.0</td>\n",
       "      <td>0.008495</td>\n",
       "      <td>0.026744</td>\n",
       "      <td>0.000013</td>\n",
       "      <td>0.005155</td>\n",
       "      <td>0.019676</td>\n",
       "      <td>0.666667</td>\n",
       "      <td>18.495885</td>\n",
       "      <td>388.574271</td>\n",
       "    </tr>\n",
       "  </tbody>\n",
       "</table>\n",
       "</div>"
      ],
      "text/plain": [
       "                  count          mean           std           min  \\\n",
       "customerid       1552.0  15179.497423   1723.792714  12346.000000   \n",
       "profit           1552.0   4647.002965  17274.983396     12.400000   \n",
       "recencydays      1552.0     64.967784     84.659672      0.000000   \n",
       "qtd_items        1552.0    565.704897   3206.037822      1.000000   \n",
       "avg_ticket       1552.0    130.628273   2447.777236      2.241000   \n",
       "frequency        1552.0      0.200165      0.574232      0.005479   \n",
       "avg_basket_size  1552.0      0.008495      0.026744      0.000013   \n",
       "\n",
       "                          50%           95%            max       skew  \\\n",
       "customerid       15123.500000  17976.800000   18282.000000   0.093721   \n",
       "profit            1656.615000  11690.534500  336942.100000  12.243716   \n",
       "recencydays         28.000000    274.000000     373.000000   1.843840   \n",
       "qtd_items          183.000000   1298.700000   80996.000000  19.647675   \n",
       "avg_ticket          19.120918     95.142922   77183.600000  27.983235   \n",
       "frequency            0.031092      1.000000      17.000000  17.001325   \n",
       "avg_basket_size      0.005155      0.019676       0.666667  18.495885   \n",
       "\n",
       "                   kurtosis  \n",
       "customerid        -1.174294  \n",
       "profit           184.182975  \n",
       "recencydays        2.673104  \n",
       "qtd_items        448.815963  \n",
       "avg_ticket       810.727585  \n",
       "frequency        474.116048  \n",
       "avg_basket_size  388.574271  "
      ]
     },
     "execution_count": 45,
     "metadata": {},
     "output_type": "execute_result"
    }
   ],
   "source": [
    "pd.concat([num_attributes1.describe(percentiles=[.95]).T,num_attributes1.agg(['skew','kurtosis']).T],axis=1)"
   ]
  },
  {
   "cell_type": "markdown",
   "metadata": {},
   "source": [
    "### 4.1.1 profit - inspect extreme values"
   ]
  },
  {
   "cell_type": "code",
   "execution_count": 46,
   "metadata": {},
   "outputs": [
    {
     "data": {
      "text/html": [
       "<div>\n",
       "<style scoped>\n",
       "    .dataframe tbody tr th:only-of-type {\n",
       "        vertical-align: middle;\n",
       "    }\n",
       "\n",
       "    .dataframe tbody tr th {\n",
       "        vertical-align: top;\n",
       "    }\n",
       "\n",
       "    .dataframe thead th {\n",
       "        text-align: right;\n",
       "    }\n",
       "</style>\n",
       "<table border=\"1\" class=\"dataframe\">\n",
       "  <thead>\n",
       "    <tr style=\"text-align: right;\">\n",
       "      <th></th>\n",
       "      <th>customerid</th>\n",
       "      <th>profit</th>\n",
       "      <th>recencydays</th>\n",
       "      <th>qtd_items</th>\n",
       "      <th>avg_ticket</th>\n",
       "      <th>frequency</th>\n",
       "      <th>avg_basket_size</th>\n",
       "    </tr>\n",
       "  </thead>\n",
       "  <tbody>\n",
       "    <tr>\n",
       "      <th>4174</th>\n",
       "      <td>16446</td>\n",
       "      <td>336942.10</td>\n",
       "      <td>0.0</td>\n",
       "      <td>80996.0</td>\n",
       "      <td>56157.500000</td>\n",
       "      <td>0.009709</td>\n",
       "      <td>0.000025</td>\n",
       "    </tr>\n",
       "    <tr>\n",
       "      <th>1081</th>\n",
       "      <td>14646</td>\n",
       "      <td>280923.02</td>\n",
       "      <td>1.0</td>\n",
       "      <td>15853.0</td>\n",
       "      <td>134.714433</td>\n",
       "      <td>0.206215</td>\n",
       "      <td>0.000375</td>\n",
       "    </tr>\n",
       "    <tr>\n",
       "      <th>529</th>\n",
       "      <td>18102</td>\n",
       "      <td>262876.11</td>\n",
       "      <td>0.0</td>\n",
       "      <td>12872.0</td>\n",
       "      <td>602.453132</td>\n",
       "      <td>0.163043</td>\n",
       "      <td>0.000936</td>\n",
       "    </tr>\n",
       "    <tr>\n",
       "      <th>462</th>\n",
       "      <td>17450</td>\n",
       "      <td>201619.41</td>\n",
       "      <td>8.0</td>\n",
       "      <td>38639.0</td>\n",
       "      <td>577.302047</td>\n",
       "      <td>0.127778</td>\n",
       "      <td>0.000657</td>\n",
       "    </tr>\n",
       "    <tr>\n",
       "      <th>66</th>\n",
       "      <td>14911</td>\n",
       "      <td>155077.50</td>\n",
       "      <td>1.0</td>\n",
       "      <td>4247.0</td>\n",
       "      <td>25.334694</td>\n",
       "      <td>0.533512</td>\n",
       "      <td>0.002496</td>\n",
       "    </tr>\n",
       "  </tbody>\n",
       "</table>\n",
       "</div>"
      ],
      "text/plain": [
       "      customerid     profit  recencydays  qtd_items    avg_ticket  frequency  \\\n",
       "4174       16446  336942.10          0.0    80996.0  56157.500000   0.009709   \n",
       "1081       14646  280923.02          1.0    15853.0    134.714433   0.206215   \n",
       "529        18102  262876.11          0.0    12872.0    602.453132   0.163043   \n",
       "462        17450  201619.41          8.0    38639.0    577.302047   0.127778   \n",
       "66         14911  155077.50          1.0     4247.0     25.334694   0.533512   \n",
       "\n",
       "      avg_basket_size  \n",
       "4174         0.000025  \n",
       "1081         0.000375  \n",
       "529          0.000936  \n",
       "462          0.000657  \n",
       "66           0.002496  "
      ]
     },
     "execution_count": 46,
     "metadata": {},
     "output_type": "execute_result"
    }
   ],
   "source": [
    "df4.sort_values('profit', ascending=False).head()"
   ]
  },
  {
   "cell_type": "code",
   "execution_count": 47,
   "metadata": {},
   "outputs": [
    {
     "data": {
      "text/html": [
       "<div>\n",
       "<style scoped>\n",
       "    .dataframe tbody tr th:only-of-type {\n",
       "        vertical-align: middle;\n",
       "    }\n",
       "\n",
       "    .dataframe tbody tr th {\n",
       "        vertical-align: top;\n",
       "    }\n",
       "\n",
       "    .dataframe thead th {\n",
       "        text-align: right;\n",
       "    }\n",
       "</style>\n",
       "<table border=\"1\" class=\"dataframe\">\n",
       "  <thead>\n",
       "    <tr style=\"text-align: right;\">\n",
       "      <th></th>\n",
       "      <th>invoiceno</th>\n",
       "      <th>stockcode</th>\n",
       "      <th>quantity</th>\n",
       "      <th>invoicedate</th>\n",
       "      <th>unitprice</th>\n",
       "      <th>country</th>\n",
       "      <th>customerid</th>\n",
       "    </tr>\n",
       "  </thead>\n",
       "  <tbody>\n",
       "    <tr>\n",
       "      <th>37952</th>\n",
       "      <td>539491</td>\n",
       "      <td>21981</td>\n",
       "      <td>12</td>\n",
       "      <td>2010-12-20</td>\n",
       "      <td>0.29</td>\n",
       "      <td>Netherlands</td>\n",
       "      <td>14646</td>\n",
       "    </tr>\n",
       "    <tr>\n",
       "      <th>37953</th>\n",
       "      <td>539491</td>\n",
       "      <td>21986</td>\n",
       "      <td>12</td>\n",
       "      <td>2010-12-20</td>\n",
       "      <td>0.29</td>\n",
       "      <td>Netherlands</td>\n",
       "      <td>14646</td>\n",
       "    </tr>\n",
       "    <tr>\n",
       "      <th>37954</th>\n",
       "      <td>539491</td>\n",
       "      <td>22720</td>\n",
       "      <td>2</td>\n",
       "      <td>2010-12-20</td>\n",
       "      <td>4.95</td>\n",
       "      <td>Netherlands</td>\n",
       "      <td>14646</td>\n",
       "    </tr>\n",
       "    <tr>\n",
       "      <th>37955</th>\n",
       "      <td>539491</td>\n",
       "      <td>21931</td>\n",
       "      <td>1</td>\n",
       "      <td>2010-12-20</td>\n",
       "      <td>1.95</td>\n",
       "      <td>Netherlands</td>\n",
       "      <td>14646</td>\n",
       "    </tr>\n",
       "    <tr>\n",
       "      <th>37956</th>\n",
       "      <td>539491</td>\n",
       "      <td>22613</td>\n",
       "      <td>2</td>\n",
       "      <td>2010-12-20</td>\n",
       "      <td>0.85</td>\n",
       "      <td>Netherlands</td>\n",
       "      <td>14646</td>\n",
       "    </tr>\n",
       "    <tr>\n",
       "      <th>37957</th>\n",
       "      <td>539491</td>\n",
       "      <td>20751</td>\n",
       "      <td>1</td>\n",
       "      <td>2010-12-20</td>\n",
       "      <td>2.10</td>\n",
       "      <td>Netherlands</td>\n",
       "      <td>14646</td>\n",
       "    </tr>\n",
       "    <tr>\n",
       "      <th>37958</th>\n",
       "      <td>539491</td>\n",
       "      <td>21246</td>\n",
       "      <td>2</td>\n",
       "      <td>2010-12-20</td>\n",
       "      <td>4.95</td>\n",
       "      <td>Netherlands</td>\n",
       "      <td>14646</td>\n",
       "    </tr>\n",
       "    <tr>\n",
       "      <th>37959</th>\n",
       "      <td>539491</td>\n",
       "      <td>22960</td>\n",
       "      <td>1</td>\n",
       "      <td>2010-12-20</td>\n",
       "      <td>4.25</td>\n",
       "      <td>Netherlands</td>\n",
       "      <td>14646</td>\n",
       "    </tr>\n",
       "    <tr>\n",
       "      <th>37960</th>\n",
       "      <td>539491</td>\n",
       "      <td>22355</td>\n",
       "      <td>2</td>\n",
       "      <td>2010-12-20</td>\n",
       "      <td>0.85</td>\n",
       "      <td>Netherlands</td>\n",
       "      <td>14646</td>\n",
       "    </tr>\n",
       "    <tr>\n",
       "      <th>37961</th>\n",
       "      <td>539491</td>\n",
       "      <td>21123</td>\n",
       "      <td>2</td>\n",
       "      <td>2010-12-20</td>\n",
       "      <td>1.25</td>\n",
       "      <td>Netherlands</td>\n",
       "      <td>14646</td>\n",
       "    </tr>\n",
       "  </tbody>\n",
       "</table>\n",
       "</div>"
      ],
      "text/plain": [
       "      invoiceno stockcode  quantity invoicedate  unitprice      country  \\\n",
       "37952    539491     21981        12  2010-12-20       0.29  Netherlands   \n",
       "37953    539491     21986        12  2010-12-20       0.29  Netherlands   \n",
       "37954    539491     22720         2  2010-12-20       4.95  Netherlands   \n",
       "37955    539491     21931         1  2010-12-20       1.95  Netherlands   \n",
       "37956    539491     22613         2  2010-12-20       0.85  Netherlands   \n",
       "37957    539491     20751         1  2010-12-20       2.10  Netherlands   \n",
       "37958    539491     21246         2  2010-12-20       4.95  Netherlands   \n",
       "37959    539491     22960         1  2010-12-20       4.25  Netherlands   \n",
       "37960    539491     22355         2  2010-12-20       0.85  Netherlands   \n",
       "37961    539491     21123         2  2010-12-20       1.25  Netherlands   \n",
       "\n",
       "       customerid  \n",
       "37952       14646  \n",
       "37953       14646  \n",
       "37954       14646  \n",
       "37955       14646  \n",
       "37956       14646  \n",
       "37957       14646  \n",
       "37958       14646  \n",
       "37959       14646  \n",
       "37960       14646  \n",
       "37961       14646  "
      ]
     },
     "execution_count": 47,
     "metadata": {},
     "output_type": "execute_result"
    }
   ],
   "source": [
    "df3[df3['customerid']==14646].head(10)"
   ]
  },
  {
   "cell_type": "code",
   "execution_count": 48,
   "metadata": {},
   "outputs": [],
   "source": [
    "# This customer just buys a lot"
   ]
  },
  {
   "cell_type": "markdown",
   "metadata": {},
   "source": [
    "### 4.1.2 qtd invoice - inspect extreme values"
   ]
  },
  {
   "cell_type": "code",
   "execution_count": 49,
   "metadata": {},
   "outputs": [],
   "source": [
    "# Another customer who just buys a lot"
   ]
  },
  {
   "cell_type": "markdown",
   "metadata": {},
   "source": [
    "### 4.1.3 qtd items - inspect extreme values"
   ]
  },
  {
   "cell_type": "code",
   "execution_count": 50,
   "metadata": {},
   "outputs": [
    {
     "data": {
      "text/html": [
       "<div>\n",
       "<style scoped>\n",
       "    .dataframe tbody tr th:only-of-type {\n",
       "        vertical-align: middle;\n",
       "    }\n",
       "\n",
       "    .dataframe tbody tr th {\n",
       "        vertical-align: top;\n",
       "    }\n",
       "\n",
       "    .dataframe thead th {\n",
       "        text-align: right;\n",
       "    }\n",
       "</style>\n",
       "<table border=\"1\" class=\"dataframe\">\n",
       "  <thead>\n",
       "    <tr style=\"text-align: right;\">\n",
       "      <th></th>\n",
       "      <th>customerid</th>\n",
       "      <th>profit</th>\n",
       "      <th>recencydays</th>\n",
       "      <th>qtd_items</th>\n",
       "      <th>avg_ticket</th>\n",
       "      <th>frequency</th>\n",
       "      <th>avg_basket_size</th>\n",
       "    </tr>\n",
       "  </thead>\n",
       "  <tbody>\n",
       "    <tr>\n",
       "      <th>4174</th>\n",
       "      <td>16446</td>\n",
       "      <td>336942.1</td>\n",
       "      <td>0.0</td>\n",
       "      <td>80996.0</td>\n",
       "      <td>56157.5</td>\n",
       "      <td>0.009709</td>\n",
       "      <td>0.000025</td>\n",
       "    </tr>\n",
       "    <tr>\n",
       "      <th>1495</th>\n",
       "      <td>12346</td>\n",
       "      <td>154367.2</td>\n",
       "      <td>325.0</td>\n",
       "      <td>74215.0</td>\n",
       "      <td>77183.6</td>\n",
       "      <td>1.000000</td>\n",
       "      <td>0.000013</td>\n",
       "    </tr>\n",
       "  </tbody>\n",
       "</table>\n",
       "</div>"
      ],
      "text/plain": [
       "      customerid    profit  recencydays  qtd_items  avg_ticket  frequency  \\\n",
       "4174       16446  336942.1          0.0    80996.0     56157.5   0.009709   \n",
       "1495       12346  154367.2        325.0    74215.0     77183.6   1.000000   \n",
       "\n",
       "      avg_basket_size  \n",
       "4174         0.000025  \n",
       "1495         0.000013  "
      ]
     },
     "execution_count": 50,
     "metadata": {},
     "output_type": "execute_result"
    }
   ],
   "source": [
    "df4.sort_values('qtd_items', ascending=False).head(2)"
   ]
  },
  {
   "cell_type": "code",
   "execution_count": 51,
   "metadata": {},
   "outputs": [
    {
     "data": {
      "text/html": [
       "<div>\n",
       "<style scoped>\n",
       "    .dataframe tbody tr th:only-of-type {\n",
       "        vertical-align: middle;\n",
       "    }\n",
       "\n",
       "    .dataframe tbody tr th {\n",
       "        vertical-align: top;\n",
       "    }\n",
       "\n",
       "    .dataframe thead th {\n",
       "        text-align: right;\n",
       "    }\n",
       "</style>\n",
       "<table border=\"1\" class=\"dataframe\">\n",
       "  <thead>\n",
       "    <tr style=\"text-align: right;\">\n",
       "      <th></th>\n",
       "      <th>invoiceno</th>\n",
       "      <th>stockcode</th>\n",
       "      <th>quantity</th>\n",
       "      <th>invoicedate</th>\n",
       "      <th>unitprice</th>\n",
       "      <th>country</th>\n",
       "      <th>customerid</th>\n",
       "    </tr>\n",
       "  </thead>\n",
       "  <tbody>\n",
       "    <tr>\n",
       "      <th>194354</th>\n",
       "      <td>553573</td>\n",
       "      <td>22980</td>\n",
       "      <td>1</td>\n",
       "      <td>2011-05-18</td>\n",
       "      <td>1.65</td>\n",
       "      <td>United Kingdom</td>\n",
       "      <td>16446</td>\n",
       "    </tr>\n",
       "    <tr>\n",
       "      <th>194355</th>\n",
       "      <td>553573</td>\n",
       "      <td>22982</td>\n",
       "      <td>1</td>\n",
       "      <td>2011-05-18</td>\n",
       "      <td>1.25</td>\n",
       "      <td>United Kingdom</td>\n",
       "      <td>16446</td>\n",
       "    </tr>\n",
       "    <tr>\n",
       "      <th>540421</th>\n",
       "      <td>581483</td>\n",
       "      <td>23843</td>\n",
       "      <td>80995</td>\n",
       "      <td>2011-12-09</td>\n",
       "      <td>2.08</td>\n",
       "      <td>United Kingdom</td>\n",
       "      <td>16446</td>\n",
       "    </tr>\n",
       "  </tbody>\n",
       "</table>\n",
       "</div>"
      ],
      "text/plain": [
       "       invoiceno stockcode  quantity invoicedate  unitprice         country  \\\n",
       "194354    553573     22980         1  2011-05-18       1.65  United Kingdom   \n",
       "194355    553573     22982         1  2011-05-18       1.25  United Kingdom   \n",
       "540421    581483     23843     80995  2011-12-09       2.08  United Kingdom   \n",
       "\n",
       "        customerid  \n",
       "194354       16446  \n",
       "194355       16446  \n",
       "540421       16446  "
      ]
     },
     "execution_count": 51,
     "metadata": {},
     "output_type": "execute_result"
    }
   ],
   "source": [
    "df3[df3['customerid']==16446]"
   ]
  },
  {
   "cell_type": "markdown",
   "metadata": {},
   "source": [
    "**Notes**\n"
   ]
  },
  {
   "cell_type": "raw",
   "metadata": {},
   "source": [
    "profile = ProfileReport( df4 )\n",
    "profile.to_file(\"output.html\")"
   ]
  },
  {
   "cell_type": "markdown",
   "metadata": {},
   "source": [
    "## 4.2 Space study  PCA"
   ]
  },
  {
   "cell_type": "code",
   "execution_count": 52,
   "metadata": {},
   "outputs": [],
   "source": [
    "df42=df4.drop('customerid',axis=1).copy()"
   ]
  },
  {
   "cell_type": "code",
   "execution_count": 85,
   "metadata": {},
   "outputs": [],
   "source": [
    "from sklearn.preprocessing import MinMaxScaler\n",
    "from sklearn.decomposition import PCA\n",
    "from sklearn.manifold import TSNE\n",
    "from sklearn.ensemble import RandomForestRegressor"
   ]
  },
  {
   "cell_type": "code",
   "execution_count": 62,
   "metadata": {},
   "outputs": [
    {
     "data": {
      "text/plain": [
       "PCA()"
      ]
     },
     "execution_count": 62,
     "metadata": {},
     "output_type": "execute_result"
    }
   ],
   "source": [
    "PCA()"
   ]
  },
  {
   "cell_type": "code",
   "execution_count": 61,
   "metadata": {},
   "outputs": [
    {
     "data": {
      "text/html": [
       "<div>\n",
       "<style scoped>\n",
       "    .dataframe tbody tr th:only-of-type {\n",
       "        vertical-align: middle;\n",
       "    }\n",
       "\n",
       "    .dataframe tbody tr th {\n",
       "        vertical-align: top;\n",
       "    }\n",
       "\n",
       "    .dataframe thead th {\n",
       "        text-align: right;\n",
       "    }\n",
       "</style>\n",
       "<table border=\"1\" class=\"dataframe\">\n",
       "  <thead>\n",
       "    <tr style=\"text-align: right;\">\n",
       "      <th></th>\n",
       "      <th>profit</th>\n",
       "      <th>recencydays</th>\n",
       "      <th>qtd_items</th>\n",
       "      <th>avg_ticket</th>\n",
       "      <th>frequency</th>\n",
       "      <th>avg_basket_size</th>\n",
       "    </tr>\n",
       "  </thead>\n",
       "  <tbody>\n",
       "    <tr>\n",
       "      <th>0</th>\n",
       "      <td>0.016269</td>\n",
       "      <td>0.997319</td>\n",
       "      <td>0.000420</td>\n",
       "      <td>0.000206</td>\n",
       "      <td>1.000000</td>\n",
       "      <td>0.029409</td>\n",
       "    </tr>\n",
       "    <tr>\n",
       "      <th>1</th>\n",
       "      <td>0.010042</td>\n",
       "      <td>0.083110</td>\n",
       "      <td>0.001617</td>\n",
       "      <td>0.000215</td>\n",
       "      <td>0.001343</td>\n",
       "      <td>0.010764</td>\n",
       "    </tr>\n",
       "    <tr>\n",
       "      <th>2</th>\n",
       "      <td>0.021853</td>\n",
       "      <td>0.005362</td>\n",
       "      <td>0.019359</td>\n",
       "      <td>0.000353</td>\n",
       "      <td>0.002050</td>\n",
       "      <td>0.004427</td>\n",
       "    </tr>\n",
       "    <tr>\n",
       "      <th>4</th>\n",
       "      <td>0.003278</td>\n",
       "      <td>0.892761</td>\n",
       "      <td>0.000580</td>\n",
       "      <td>0.003754</td>\n",
       "      <td>0.003983</td>\n",
       "      <td>0.056231</td>\n",
       "    </tr>\n",
       "    <tr>\n",
       "      <th>5</th>\n",
       "      <td>0.014032</td>\n",
       "      <td>0.067024</td>\n",
       "      <td>0.006260</td>\n",
       "      <td>0.000558</td>\n",
       "      <td>0.002038</td>\n",
       "      <td>0.010679</td>\n",
       "    </tr>\n",
       "  </tbody>\n",
       "</table>\n",
       "</div>"
      ],
      "text/plain": [
       "     profit  recencydays  qtd_items  avg_ticket  frequency  avg_basket_size\n",
       "0  0.016269     0.997319   0.000420    0.000206   1.000000         0.029409\n",
       "1  0.010042     0.083110   0.001617    0.000215   0.001343         0.010764\n",
       "2  0.021853     0.005362   0.019359    0.000353   0.002050         0.004427\n",
       "4  0.003278     0.892761   0.000580    0.003754   0.003983         0.056231\n",
       "5  0.014032     0.067024   0.006260    0.000558   0.002038         0.010679"
      ]
     },
     "execution_count": 61,
     "metadata": {},
     "output_type": "execute_result"
    }
   ],
   "source": [
    "mms = MinMaxScaler()\n",
    "\n",
    "for i in df42.columns:\n",
    "    df42[i]=mms.fit_transform(df42[[i]])\n",
    "\n",
    "X=df42.copy()\n",
    "X.head()"
   ]
  },
  {
   "cell_type": "code",
   "execution_count": 73,
   "metadata": {},
   "outputs": [
    {
     "data": {
      "image/png": "[encoded data removed]",
      "text/plain": [
       "<Figure size 432x288 with 1 Axes>"
      ]
     },
     "metadata": {
      "needs_background": "light"
     },
     "output_type": "display_data"
    }
   ],
   "source": [
    "\n",
    "pca = PCA(n_components=X.shape[1])\n",
    "\n",
    "principal_components = pca.fit_transform(X)\n",
    "\n",
    "features = range( pca.n_components_)\n",
    "\n",
    "plt.bar( features, pca.explained_variance_ratio_, color='black')\n",
    "\n",
    "df_pca=pd.DataFrame(principal_components)"
   ]
  },
  {
   "cell_type": "code",
   "execution_count": 74,
   "metadata": {},
   "outputs": [
    {
     "data": {
      "text/html": [
       "<div>\n",
       "<style scoped>\n",
       "    .dataframe tbody tr th:only-of-type {\n",
       "        vertical-align: middle;\n",
       "    }\n",
       "\n",
       "    .dataframe tbody tr th {\n",
       "        vertical-align: top;\n",
       "    }\n",
       "\n",
       "    .dataframe thead th {\n",
       "        text-align: right;\n",
       "    }\n",
       "</style>\n",
       "<table border=\"1\" class=\"dataframe\">\n",
       "  <thead>\n",
       "    <tr style=\"text-align: right;\">\n",
       "      <th></th>\n",
       "      <th>0</th>\n",
       "      <th>1</th>\n",
       "      <th>2</th>\n",
       "      <th>3</th>\n",
       "      <th>4</th>\n",
       "      <th>5</th>\n",
       "    </tr>\n",
       "  </thead>\n",
       "  <tbody>\n",
       "    <tr>\n",
       "      <th>0</th>\n",
       "      <td>0.879173</td>\n",
       "      <td>0.024657</td>\n",
       "      <td>0.129362</td>\n",
       "      <td>0.919144</td>\n",
       "      <td>0.139879</td>\n",
       "      <td>0.020853</td>\n",
       "    </tr>\n",
       "    <tr>\n",
       "      <th>1</th>\n",
       "      <td>-0.091387</td>\n",
       "      <td>-0.007904</td>\n",
       "      <td>-0.001676</td>\n",
       "      <td>-0.004571</td>\n",
       "      <td>0.000328</td>\n",
       "      <td>-0.002422</td>\n",
       "    </tr>\n",
       "    <tr>\n",
       "      <th>2</th>\n",
       "      <td>-0.169370</td>\n",
       "      <td>0.009870</td>\n",
       "      <td>-0.005709</td>\n",
       "      <td>0.000529</td>\n",
       "      <td>0.002195</td>\n",
       "      <td>0.007410</td>\n",
       "    </tr>\n",
       "    <tr>\n",
       "      <th>3</th>\n",
       "      <td>0.717478</td>\n",
       "      <td>-0.000281</td>\n",
       "      <td>0.027529</td>\n",
       "      <td>-0.051055</td>\n",
       "      <td>-0.017955</td>\n",
       "      <td>-0.002575</td>\n",
       "    </tr>\n",
       "    <tr>\n",
       "      <th>4</th>\n",
       "      <td>-0.107513</td>\n",
       "      <td>-0.002466</td>\n",
       "      <td>-0.001168</td>\n",
       "      <td>-0.003098</td>\n",
       "      <td>0.000343</td>\n",
       "      <td>-0.000236</td>\n",
       "    </tr>\n",
       "  </tbody>\n",
       "</table>\n",
       "</div>"
      ],
      "text/plain": [
       "          0         1         2         3         4         5\n",
       "0  0.879173  0.024657  0.129362  0.919144  0.139879  0.020853\n",
       "1 -0.091387 -0.007904 -0.001676 -0.004571  0.000328 -0.002422\n",
       "2 -0.169370  0.009870 -0.005709  0.000529  0.002195  0.007410\n",
       "3  0.717478 -0.000281  0.027529 -0.051055 -0.017955 -0.002575\n",
       "4 -0.107513 -0.002466 -0.001168 -0.003098  0.000343 -0.000236"
      ]
     },
     "execution_count": 74,
     "metadata": {},
     "output_type": "execute_result"
    }
   ],
   "source": [
    "df_pca.head()"
   ]
  },
  {
   "cell_type": "code",
   "execution_count": 75,
   "metadata": {},
   "outputs": [
    {
     "data": {
      "text/plain": [
       "<AxesSubplot:xlabel='0', ylabel='1'>"
      ]
     },
     "execution_count": 75,
     "metadata": {},
     "output_type": "execute_result"
    },
    {
     "data": {
      "image/png": "[encoded data removed]",
      "text/plain": [
       "<Figure size 432x288 with 1 Axes>"
      ]
     },
     "metadata": {
      "needs_background": "light"
     },
     "output_type": "display_data"
    }
   ],
   "source": [
    "sns.scatterplot(x=0 , y=1, data=df_pca)"
   ]
  },
  {
   "cell_type": "markdown",
   "metadata": {},
   "source": [
    "## 4.2 Space study - UMAP"
   ]
  },
  {
   "cell_type": "code",
   "execution_count": 76,
   "metadata": {},
   "outputs": [
    {
     "data": {
      "text/plain": [
       "<AxesSubplot:xlabel='embedding_x', ylabel='embedding_y'>"
      ]
     },
     "execution_count": 76,
     "metadata": {},
     "output_type": "execute_result"
    },
    {
     "data": {
      "image/png": "[encoded data removed]",
      "text/plain": [
       "<Figure size 432x288 with 1 Axes>"
      ]
     },
     "metadata": {
      "needs_background": "light"
     },
     "output_type": "display_data"
    }
   ],
   "source": [
    "reducer = umap.UMAP( random_state=42)\n",
    "embedding = reducer.fit_transform( X )\n",
    "\n",
    "# embedding\n",
    "df_pca['embedding_x']=embedding[:,0]\n",
    "df_pca['embedding_y']=embedding[:,1]\n",
    "\n",
    "# plot UMAP\n",
    "sns.scatterplot(x='embedding_x',y='embedding_y',\n",
    "                data=df_pca)"
   ]
  },
  {
   "cell_type": "markdown",
   "metadata": {},
   "source": [
    "## 4.3 Space Study - t-SNE"
   ]
  },
  {
   "cell_type": "code",
   "execution_count": 79,
   "metadata": {},
   "outputs": [
    {
     "name": "stderr",
     "output_type": "stream",
     "text": [
      "p:\\Anaconda3\\envs\\automl\\lib\\site-packages\\sklearn\\manifold\\_t_sne.py:780: FutureWarning: The default initialization in TSNE will change from 'random' to 'pca' in 1.2.\n",
      "  warnings.warn(\n",
      "p:\\Anaconda3\\envs\\automl\\lib\\site-packages\\sklearn\\manifold\\_t_sne.py:790: FutureWarning: The default learning rate in TSNE will change from 200.0 to 'auto' in 1.2.\n",
      "  warnings.warn(\n"
     ]
    },
    {
     "data": {
      "text/plain": [
       "<AxesSubplot:xlabel='embedding_x', ylabel='embedding_y'>"
      ]
     },
     "execution_count": 79,
     "metadata": {},
     "output_type": "execute_result"
    },
    {
     "data": {
      "image/png": "[encoded data removed]",
      "text/plain": [
       "<Figure size 432x288 with 1 Axes>"
      ]
     },
     "metadata": {
      "needs_background": "light"
     },
     "output_type": "display_data"
    }
   ],
   "source": [
    "reducer = TSNE( random_state=42)\n",
    "embedding = reducer.fit_transform( X )\n",
    "\n",
    "# embedding\n",
    "df_pca['embedding_x']=embedding[:,0]\n",
    "df_pca['embedding_y']=embedding[:,1]\n",
    "\n",
    "# plot UMAP\n",
    "sns.scatterplot(x='embedding_x',y='embedding_y',\n",
    "                data=df_pca)"
   ]
  },
  {
   "cell_type": "markdown",
   "metadata": {},
   "source": [
    "## Space based Tree-Based Embedding"
   ]
  },
  {
   "cell_type": "code",
   "execution_count": 89,
   "metadata": {},
   "outputs": [],
   "source": [
    "# training dataset\n",
    "\n",
    "X = df4.drop(['profit','profit'],axis=1)\n",
    "y = df4['profit']\n",
    "\n",
    "\n",
    "# model definition\n",
    "rf_model = RandomForestRegressor( n_estimators=100, random_state=42)\n",
    "\n",
    "# model training\n",
    "\n",
    "rf_model.fit( X, y )\n",
    "\n",
    "#leaf \n",
    "\n",
    "df_leaf = pd.DataFrame(rf_model.apply(X))"
   ]
  },
  {
   "cell_type": "code",
   "execution_count": 92,
   "metadata": {},
   "outputs": [
    {
     "name": "stderr",
     "output_type": "stream",
     "text": [
      "p:\\Anaconda3\\envs\\automl\\lib\\site-packages\\sklearn\\manifold\\_t_sne.py:780: FutureWarning: The default initialization in TSNE will change from 'random' to 'pca' in 1.2.\n",
      "  warnings.warn(\n",
      "p:\\Anaconda3\\envs\\automl\\lib\\site-packages\\sklearn\\manifold\\_t_sne.py:790: FutureWarning: The default learning rate in TSNE will change from 200.0 to 'auto' in 1.2.\n",
      "  warnings.warn(\n",
      "p:\\Anaconda3\\envs\\automl\\lib\\site-packages\\sklearn\\utils\\validation.py:1688: FutureWarning: Feature names only support names that are all strings. Got feature names with dtypes: ['int', 'str']. An error will be raised in 1.2.\n",
      "  warnings.warn(\n"
     ]
    },
    {
     "data": {
      "text/plain": [
       "<AxesSubplot:xlabel='embedding_x', ylabel='embedding_y'>"
      ]
     },
     "execution_count": 92,
     "metadata": {},
     "output_type": "execute_result"
    },
    {
     "data": {
      "image/png": "[encoded data removed]",
      "text/plain": [
       "<Figure size 432x288 with 1 Axes>"
      ]
     },
     "metadata": {
      "needs_background": "light"
     },
     "output_type": "display_data"
    }
   ],
   "source": [
    "reducer = TSNE( random_state=42)\n",
    "embedding = reducer.fit_transform( df_leaf )\n",
    "\n",
    "# embedding\n",
    "df_leaf['embedding_x']=embedding[:,0]\n",
    "df_leaf['embedding_y']=embedding[:,1]\n",
    "\n",
    "# plot UMAP\n",
    "sns.scatterplot(x='embedding_x',y='embedding_y',\n",
    "                data=df_leaf)"
   ]
  },
  {
   "cell_type": "markdown",
   "metadata": {},
   "source": [
    "# 5.0 Data Preparation"
   ]
  },
  {
   "cell_type": "code",
   "execution_count": 47,
   "metadata": {},
   "outputs": [],
   "source": [
    "df5=df4.copy()"
   ]
  },
  {
   "cell_type": "code",
   "execution_count": 48,
   "metadata": {},
   "outputs": [
    {
     "data": {
      "text/plain": [
       "Index(['customerid', 'profit', 'recencydays', 'qtd_items', 'avg_ticket',\n",
       "       'frequency', 'avg_basket_size'],\n",
       "      dtype='object')"
      ]
     },
     "execution_count": 48,
     "metadata": {},
     "output_type": "execute_result"
    }
   ],
   "source": [
    "df4.columns"
   ]
  },
  {
   "cell_type": "code",
   "execution_count": 49,
   "metadata": {},
   "outputs": [
    {
     "data": {
      "text/html": [
       "<div>\n",
       "<style scoped>\n",
       "    .dataframe tbody tr th:only-of-type {\n",
       "        vertical-align: middle;\n",
       "    }\n",
       "\n",
       "    .dataframe tbody tr th {\n",
       "        vertical-align: top;\n",
       "    }\n",
       "\n",
       "    .dataframe thead th {\n",
       "        text-align: right;\n",
       "    }\n",
       "</style>\n",
       "<table border=\"1\" class=\"dataframe\">\n",
       "  <thead>\n",
       "    <tr style=\"text-align: right;\">\n",
       "      <th></th>\n",
       "      <th>customerid</th>\n",
       "      <th>profit</th>\n",
       "      <th>recencydays</th>\n",
       "      <th>qtd_items</th>\n",
       "      <th>avg_ticket</th>\n",
       "      <th>frequency</th>\n",
       "      <th>avg_basket_size</th>\n",
       "    </tr>\n",
       "  </thead>\n",
       "  <tbody>\n",
       "    <tr>\n",
       "      <th>0</th>\n",
       "      <td>17850</td>\n",
       "      <td>0.049034</td>\n",
       "      <td>3.627833</td>\n",
       "      <td>-0.165586</td>\n",
       "      <td>-0.045965</td>\n",
       "      <td>29.265586</td>\n",
       "      <td>0.416105</td>\n",
       "    </tr>\n",
       "    <tr>\n",
       "      <th>1</th>\n",
       "      <td>13047</td>\n",
       "      <td>-0.072442</td>\n",
       "      <td>-0.401357</td>\n",
       "      <td>-0.135321</td>\n",
       "      <td>-0.045691</td>\n",
       "      <td>-0.299389</td>\n",
       "      <td>-0.048831</td>\n",
       "    </tr>\n",
       "    <tr>\n",
       "      <th>2</th>\n",
       "      <td>12583</td>\n",
       "      <td>0.157991</td>\n",
       "      <td>-0.744015</td>\n",
       "      <td>0.313040</td>\n",
       "      <td>-0.041336</td>\n",
       "      <td>-0.278449</td>\n",
       "      <td>-0.206850</td>\n",
       "    </tr>\n",
       "    <tr>\n",
       "      <th>4</th>\n",
       "      <td>15100</td>\n",
       "      <td>-0.204414</td>\n",
       "      <td>3.167017</td>\n",
       "      <td>-0.161530</td>\n",
       "      <td>0.065947</td>\n",
       "      <td>-0.221227</td>\n",
       "      <td>1.084922</td>\n",
       "    </tr>\n",
       "    <tr>\n",
       "      <th>5</th>\n",
       "      <td>15291</td>\n",
       "      <td>0.005390</td>\n",
       "      <td>-0.472252</td>\n",
       "      <td>-0.018005</td>\n",
       "      <td>-0.034861</td>\n",
       "      <td>-0.278811</td>\n",
       "      <td>-0.050941</td>\n",
       "    </tr>\n",
       "  </tbody>\n",
       "</table>\n",
       "</div>"
      ],
      "text/plain": [
       "   customerid    profit  recencydays  qtd_items  avg_ticket  frequency  \\\n",
       "0       17850  0.049034     3.627833  -0.165586   -0.045965  29.265586   \n",
       "1       13047 -0.072442    -0.401357  -0.135321   -0.045691  -0.299389   \n",
       "2       12583  0.157991    -0.744015   0.313040   -0.041336  -0.278449   \n",
       "4       15100 -0.204414     3.167017  -0.161530    0.065947  -0.221227   \n",
       "5       15291  0.005390    -0.472252  -0.018005   -0.034861  -0.278811   \n",
       "\n",
       "   avg_basket_size  \n",
       "0         0.416105  \n",
       "1        -0.048831  \n",
       "2        -0.206850  \n",
       "4         1.084922  \n",
       "5        -0.050941  "
      ]
     },
     "execution_count": 49,
     "metadata": {},
     "output_type": "execute_result"
    }
   ],
   "source": [
    "from sklearn.preprocessing import StandardScaler, RobustScaler\n",
    "\n",
    "ss=StandardScaler()\n",
    "rs=RobustScaler()\n",
    "\n",
    "\n",
    "\n",
    "df5['profit'] = ss.fit_transform(df5[['profit']])\n",
    "df5['recencydays'] = ss.fit_transform(df5[['recencydays']])\n",
    "df5['qtd_items'] = ss.fit_transform(df5[['qtd_items']])\n",
    "df5['avg_ticket'] = ss.fit_transform(df5[['avg_ticket']])\n",
    "df5['frequency'] = ss.fit_transform(df5[['frequency']])\n",
    "df5['avg_basket_size'] = ss.fit_transform(df5[['avg_basket_size']])\n",
    "\n",
    "df5.head()"
   ]
  },
  {
   "cell_type": "markdown",
   "metadata": {},
   "source": [
    "# 6.0 Feature Selection"
   ]
  },
  {
   "cell_type": "code",
   "execution_count": 50,
   "metadata": {},
   "outputs": [],
   "source": [
    "df6=df5.copy()"
   ]
  },
  {
   "cell_type": "markdown",
   "metadata": {},
   "source": [
    "# 7.0 Hyperparameter Tuning"
   ]
  },
  {
   "cell_type": "code",
   "execution_count": 51,
   "metadata": {},
   "outputs": [],
   "source": [
    "df7=df6.copy()"
   ]
  },
  {
   "cell_type": "code",
   "execution_count": 52,
   "metadata": {},
   "outputs": [],
   "source": [
    "X=df6.drop(columns=['customerid'])"
   ]
  },
  {
   "cell_type": "code",
   "execution_count": 53,
   "metadata": {},
   "outputs": [],
   "source": [
    "clusters= [2, 3, 4, 5, 6, 7, 8, 9]"
   ]
  },
  {
   "cell_type": "markdown",
   "metadata": {},
   "source": [
    "## 7.1 Within-Cluster Sum of Squares (WSS)"
   ]
  },
  {
   "cell_type": "code",
   "execution_count": 75,
   "metadata": {},
   "outputs": [
    {
     "data": {
      "image/png": "[encoded data removed]",
      "text/plain": [
       "<Figure size 1440x720 with 2 Axes>"
      ]
     },
     "metadata": {
      "needs_background": "light"
     },
     "output_type": "display_data"
    }
   ],
   "source": [
    "plt.subplot(1,2,1)\n",
    "kmeans = KElbowVisualizer( c.KMeans(), k=clusters, timings=False, metric='distortion')\n",
    "kmeans.fit(X)\n",
    "\n",
    "\n",
    "plt.subplot(1,2,2)\n",
    "kmeans = KElbowVisualizer( c.KMeans(), k=clusters, timings=False, metric='silhouette')\n",
    "kmeans.fit(X)\n",
    "plt.gcf().set_size_inches(20,10)\n",
    "kmeans.finalize()"
   ]
  },
  {
   "cell_type": "code",
   "execution_count": 55,
   "metadata": {},
   "outputs": [],
   "source": [
    "## 7.1 Silhouette Analysis"
   ]
  },
  {
   "cell_type": "code",
   "execution_count": 67,
   "metadata": {},
   "outputs": [
    {
     "data": {
      "image/png": "[encoded data removed]",
      "text/plain": [
       "<Figure size 1800x1296 with 8 Axes>"
      ]
     },
     "metadata": {
      "needs_background": "light"
     },
     "output_type": "display_data"
    }
   ],
   "source": [
    "fig, ax = plt.subplots( 4, 2, figsize=(25, 18))\n",
    "\n",
    "for k in clusters:\n",
    "    km = c.KMeans(n_clusters=k, init=\"k-means++\", n_init=10, max_iter=100, random_state=42)\n",
    "    q, mod = divmod(k, 2)\n",
    "    vis_silhouette = SilhouetteVisualizer(km, colors='yellowbrick', ax=ax[q-1][mod])\n",
    "    vis_silhouette.fit(X)\n",
    "    vis_silhouette.finalize()"
   ]
  },
  {
   "cell_type": "markdown",
   "metadata": {},
   "source": [
    "# 8.0 Model training"
   ]
  },
  {
   "cell_type": "markdown",
   "metadata": {},
   "source": [
    "## 8.1 K-Means"
   ]
  },
  {
   "cell_type": "code",
   "execution_count": 76,
   "metadata": {},
   "outputs": [],
   "source": [
    "# model definition\n",
    "k=2\n",
    "kmeans = c.KMeans(init='k-means++', n_clusters=k, n_init=10, max_iter=300, random_state=42)\n",
    "\n",
    "#model training\n",
    "kmeans.fit(X)\n",
    "labels = kmeans.labels_\n"
   ]
  },
  {
   "cell_type": "markdown",
   "metadata": {},
   "source": [
    "## 8.2 Cluster Validation"
   ]
  },
  {
   "cell_type": "code",
   "execution_count": 77,
   "metadata": {},
   "outputs": [
    {
     "name": "stdout",
     "output_type": "stream",
     "text": [
      "WSS 6280.687237045698\n"
     ]
    },
    {
     "data": {
      "text/plain": [
       "0.9577561674739828"
      ]
     },
     "execution_count": 77,
     "metadata": {},
     "output_type": "execute_result"
    }
   ],
   "source": [
    "## WSS\n",
    "print(f\"WSS {kmeans.inertia_}\")\n",
    "m.silhouette_score(X,labels,metric='euclidean')"
   ]
  },
  {
   "cell_type": "markdown",
   "metadata": {},
   "source": [
    "# 9.0 Cluster Analysis"
   ]
  },
  {
   "cell_type": "code",
   "execution_count": 78,
   "metadata": {},
   "outputs": [
    {
     "data": {
      "text/html": [
       "<div>\n",
       "<style scoped>\n",
       "    .dataframe tbody tr th:only-of-type {\n",
       "        vertical-align: middle;\n",
       "    }\n",
       "\n",
       "    .dataframe tbody tr th {\n",
       "        vertical-align: top;\n",
       "    }\n",
       "\n",
       "    .dataframe thead th {\n",
       "        text-align: right;\n",
       "    }\n",
       "</style>\n",
       "<table border=\"1\" class=\"dataframe\">\n",
       "  <thead>\n",
       "    <tr style=\"text-align: right;\">\n",
       "      <th></th>\n",
       "      <th>customerid</th>\n",
       "      <th>profit</th>\n",
       "      <th>recencydays</th>\n",
       "      <th>qtd_items</th>\n",
       "      <th>avg_ticket</th>\n",
       "      <th>frequency</th>\n",
       "      <th>avg_basket_size</th>\n",
       "      <th>cluster</th>\n",
       "    </tr>\n",
       "  </thead>\n",
       "  <tbody>\n",
       "    <tr>\n",
       "      <th>0</th>\n",
       "      <td>17850</td>\n",
       "      <td>0.049034</td>\n",
       "      <td>3.627833</td>\n",
       "      <td>-0.165586</td>\n",
       "      <td>-0.045965</td>\n",
       "      <td>29.265586</td>\n",
       "      <td>0.416105</td>\n",
       "      <td>0</td>\n",
       "    </tr>\n",
       "  </tbody>\n",
       "</table>\n",
       "</div>"
      ],
      "text/plain": [
       "   customerid    profit  recencydays  qtd_items  avg_ticket  frequency  \\\n",
       "0       17850  0.049034     3.627833  -0.165586   -0.045965  29.265586   \n",
       "\n",
       "   avg_basket_size  cluster  \n",
       "0         0.416105        0  "
      ]
     },
     "execution_count": 78,
     "metadata": {},
     "output_type": "execute_result"
    }
   ],
   "source": [
    "df9=df6.copy()\n",
    "df9['cluster']=labels\n",
    "df9.head(1)"
   ]
  },
  {
   "cell_type": "markdown",
   "metadata": {},
   "source": [
    "## 9.1 Visual Inspection"
   ]
  },
  {
   "cell_type": "code",
   "execution_count": 79,
   "metadata": {},
   "outputs": [
    {
     "name": "stderr",
     "output_type": "stream",
     "text": [
      "p:\\Anaconda3\\envs\\automl\\lib\\site-packages\\sklearn\\base.py:450: UserWarning: X does not have valid feature names, but KMeans was fitted with feature names\n",
      "  warnings.warn(\n"
     ]
    },
    {
     "data": {
      "image/png": "[encoded data removed]",
      "text/plain": [
       "<Figure size 432x288 with 1 Axes>"
      ]
     },
     "metadata": {
      "needs_background": "light"
     },
     "output_type": "display_data"
    }
   ],
   "source": [
    "visualizer = SilhouetteVisualizer( kmeans, init='k-means++', colors='yellowbrick')\n",
    "visualizer.fit(X)\n",
    "visualizer.finalize()"
   ]
  },
  {
   "cell_type": "markdown",
   "metadata": {},
   "source": [
    "## 9.2 2d plot"
   ]
  },
  {
   "cell_type": "code",
   "execution_count": 61,
   "metadata": {},
   "outputs": [
    {
     "data": {
      "text/plain": [
       "<seaborn.axisgrid.PairGrid at 0x1de9208b3a0>"
      ]
     },
     "execution_count": 61,
     "metadata": {},
     "output_type": "execute_result"
    }
   ],
   "source": [
    "df_viz = df9.drop(columns='customerid',axis=1)\n",
    "sns.pairplot(df_viz, hue='cluster')"
   ]
  },
  {
   "cell_type": "markdown",
   "metadata": {},
   "source": [
    "## 9.3 UMAP "
   ]
  },
  {
   "cell_type": "code",
   "execution_count": 62,
   "metadata": {},
   "outputs": [
    {
     "data": {
      "text/plain": [
       "<AxesSubplot:xlabel='avg_basket_size', ylabel='Density'>"
      ]
     },
     "execution_count": 62,
     "metadata": {},
     "output_type": "execute_result"
    }
   ],
   "source": [
    "reducer = umap.UMAP(n_neighbors=40, random_state=42)\n",
    "embedding = reducer.fit_transform( X )\n",
    "\n",
    "# embedding\n",
    "df_viz['embedding_x']=embedding[:,0]\n",
    "df_viz['embedding_y']=embedding[:,1]\n",
    "\n",
    "# plot UMAP\n",
    "sns.scatterplot(x='embedding_x',y='embedding_y',\n",
    "                hue='cluster',\n",
    "                palette=sns.color_palette('hls', n_colors= len(df_viz['cluster'].unique())),\n",
    "                data=df_viz)"
   ]
  },
  {
   "cell_type": "markdown",
   "metadata": {},
   "source": [
    "## 9.3 Cluster Profile"
   ]
  },
  {
   "cell_type": "code",
   "execution_count": 63,
   "metadata": {},
   "outputs": [
    {
     "ename": "KeyError",
     "evalue": "\"['grossrevenue'] not in index\"",
     "output_type": "error",
     "traceback": [
      "\u001b[1;31m---------------------------------------------------------------------------\u001b[0m",
      "\u001b[1;31mKeyError\u001b[0m                                  Traceback (most recent call last)",
      "\u001b[1;32mp:\\Python\\GitHub\\insiders_clustering\\cluster_circle4.ipynb Cell 113\u001b[0m in \u001b[0;36m<cell line: 6>\u001b[1;34m()\u001b[0m\n\u001b[0;32m      <a href='vscode-notebook-cell:/p%3A/Python/GitHub/insiders_clustering/cluster_circle4.ipynb#Y221sZmlsZQ%3D%3D?line=2'>3</a>\u001b[0m df_cluster[\u001b[39m'\u001b[39m\u001b[39mpc_customer\u001b[39m\u001b[39m'\u001b[39m]\u001b[39m=\u001b[39m\u001b[39m100\u001b[39m\u001b[39m*\u001b[39mdf_cluster[\u001b[39m'\u001b[39m\u001b[39mcustomerid\u001b[39m\u001b[39m'\u001b[39m]\u001b[39m/\u001b[39mdf_cluster[\u001b[39m'\u001b[39m\u001b[39mcustomerid\u001b[39m\u001b[39m'\u001b[39m]\u001b[39m.\u001b[39msum()\n\u001b[0;32m      <a href='vscode-notebook-cell:/p%3A/Python/GitHub/insiders_clustering/cluster_circle4.ipynb#Y221sZmlsZQ%3D%3D?line=4'>5</a>\u001b[0m \u001b[39m# Avg Gross Revenue\u001b[39;00m\n\u001b[1;32m----> <a href='vscode-notebook-cell:/p%3A/Python/GitHub/insiders_clustering/cluster_circle4.ipynb#Y221sZmlsZQ%3D%3D?line=5'>6</a>\u001b[0m df_avg_gross_revenue\u001b[39m=\u001b[39m df9[[\u001b[39m'\u001b[39;49m\u001b[39mgrossrevenue\u001b[39;49m\u001b[39m'\u001b[39;49m,\u001b[39m'\u001b[39;49m\u001b[39mcluster\u001b[39;49m\u001b[39m'\u001b[39;49m]]\u001b[39m.\u001b[39mgroupby( \u001b[39m'\u001b[39m\u001b[39mcluster\u001b[39m\u001b[39m'\u001b[39m )\u001b[39m.\u001b[39mmean()\u001b[39m.\u001b[39mreset_index()\n\u001b[0;32m      <a href='vscode-notebook-cell:/p%3A/Python/GitHub/insiders_clustering/cluster_circle4.ipynb#Y221sZmlsZQ%3D%3D?line=6'>7</a>\u001b[0m df_cluster\u001b[39m=\u001b[39m df_cluster\u001b[39m.\u001b[39mmerge( df_avg_gross_revenue, how\u001b[39m=\u001b[39m\u001b[39m'\u001b[39m\u001b[39minner\u001b[39m\u001b[39m'\u001b[39m, on\u001b[39m=\u001b[39m\u001b[39m'\u001b[39m\u001b[39mcluster\u001b[39m\u001b[39m'\u001b[39m)\n\u001b[0;32m      <a href='vscode-notebook-cell:/p%3A/Python/GitHub/insiders_clustering/cluster_circle4.ipynb#Y221sZmlsZQ%3D%3D?line=8'>9</a>\u001b[0m \u001b[39m# Avg recency days\u001b[39;00m\n",
      "File \u001b[1;32mp:\\Anaconda3\\envs\\automl\\lib\\site-packages\\pandas\\core\\frame.py:3511\u001b[0m, in \u001b[0;36mDataFrame.__getitem__\u001b[1;34m(self, key)\u001b[0m\n\u001b[0;32m   3509\u001b[0m     \u001b[39mif\u001b[39;00m is_iterator(key):\n\u001b[0;32m   3510\u001b[0m         key \u001b[39m=\u001b[39m \u001b[39mlist\u001b[39m(key)\n\u001b[1;32m-> 3511\u001b[0m     indexer \u001b[39m=\u001b[39m \u001b[39mself\u001b[39;49m\u001b[39m.\u001b[39;49mcolumns\u001b[39m.\u001b[39;49m_get_indexer_strict(key, \u001b[39m\"\u001b[39;49m\u001b[39mcolumns\u001b[39;49m\u001b[39m\"\u001b[39;49m)[\u001b[39m1\u001b[39m]\n\u001b[0;32m   3513\u001b[0m \u001b[39m# take() does not accept boolean indexers\u001b[39;00m\n\u001b[0;32m   3514\u001b[0m \u001b[39mif\u001b[39;00m \u001b[39mgetattr\u001b[39m(indexer, \u001b[39m\"\u001b[39m\u001b[39mdtype\u001b[39m\u001b[39m\"\u001b[39m, \u001b[39mNone\u001b[39;00m) \u001b[39m==\u001b[39m \u001b[39mbool\u001b[39m:\n",
      "File \u001b[1;32mp:\\Anaconda3\\envs\\automl\\lib\\site-packages\\pandas\\core\\indexes\\base.py:5782\u001b[0m, in \u001b[0;36mIndex._get_indexer_strict\u001b[1;34m(self, key, axis_name)\u001b[0m\n\u001b[0;32m   5779\u001b[0m \u001b[39melse\u001b[39;00m:\n\u001b[0;32m   5780\u001b[0m     keyarr, indexer, new_indexer \u001b[39m=\u001b[39m \u001b[39mself\u001b[39m\u001b[39m.\u001b[39m_reindex_non_unique(keyarr)\n\u001b[1;32m-> 5782\u001b[0m \u001b[39mself\u001b[39;49m\u001b[39m.\u001b[39;49m_raise_if_missing(keyarr, indexer, axis_name)\n\u001b[0;32m   5784\u001b[0m keyarr \u001b[39m=\u001b[39m \u001b[39mself\u001b[39m\u001b[39m.\u001b[39mtake(indexer)\n\u001b[0;32m   5785\u001b[0m \u001b[39mif\u001b[39;00m \u001b[39misinstance\u001b[39m(key, Index):\n\u001b[0;32m   5786\u001b[0m     \u001b[39m# GH 42790 - Preserve name from an Index\u001b[39;00m\n",
      "File \u001b[1;32mp:\\Anaconda3\\envs\\automl\\lib\\site-packages\\pandas\\core\\indexes\\base.py:5845\u001b[0m, in \u001b[0;36mIndex._raise_if_missing\u001b[1;34m(self, key, indexer, axis_name)\u001b[0m\n\u001b[0;32m   5842\u001b[0m     \u001b[39mraise\u001b[39;00m \u001b[39mKeyError\u001b[39;00m(\u001b[39mf\u001b[39m\u001b[39m\"\u001b[39m\u001b[39mNone of [\u001b[39m\u001b[39m{\u001b[39;00mkey\u001b[39m}\u001b[39;00m\u001b[39m] are in the [\u001b[39m\u001b[39m{\u001b[39;00maxis_name\u001b[39m}\u001b[39;00m\u001b[39m]\u001b[39m\u001b[39m\"\u001b[39m)\n\u001b[0;32m   5844\u001b[0m not_found \u001b[39m=\u001b[39m \u001b[39mlist\u001b[39m(ensure_index(key)[missing_mask\u001b[39m.\u001b[39mnonzero()[\u001b[39m0\u001b[39m]]\u001b[39m.\u001b[39munique())\n\u001b[1;32m-> 5845\u001b[0m \u001b[39mraise\u001b[39;00m \u001b[39mKeyError\u001b[39;00m(\u001b[39mf\u001b[39m\u001b[39m\"\u001b[39m\u001b[39m{\u001b[39;00mnot_found\u001b[39m}\u001b[39;00m\u001b[39m not in index\u001b[39m\u001b[39m\"\u001b[39m)\n",
      "\u001b[1;31mKeyError\u001b[0m: \"['grossrevenue'] not in index\""
     ]
    }
   ],
   "source": [
    "# Number of customer\n",
    "df_cluster=df9[['customerid','cluster']].groupby('cluster').count().reset_index()\n",
    "df_cluster['pc_customer']=100*df_cluster['customerid']/df_cluster['customerid'].sum()\n",
    "\n",
    "# Avg Gross Revenue\n",
    "df_avg_gross_revenue= df9[['grossrevenue','cluster']].groupby( 'cluster' ).mean().reset_index()\n",
    "df_cluster= df_cluster.merge( df_avg_gross_revenue, how='inner', on='cluster')\n",
    "\n",
    "# Avg recency days\n",
    "df_avg_recencydays= df9[['recencydays','cluster']].groupby( 'cluster' ).mean().reset_index()\n",
    "df_cluster= df_cluster.merge( df_avg_recencydays, how='inner', on='cluster')\n",
    "\n",
    "\n",
    "# Avg invoice_no\n",
    "df_avg_invoiceno= df9[['invoiceno','cluster']].groupby( 'cluster' ).mean().reset_index()\n",
    "df_cluster= df_cluster.merge( df_avg_invoiceno, how='inner', on='cluster')\n",
    "\n",
    "# Avg Ticket\n",
    "df_ticket = df9[['avgticket','cluster']].groupby('cluster').mean().reset_index()\n",
    "df_cluster = df_cluster.merge(df_ticket, how='inner', on='cluster')\n",
    "\n",
    "df_cluster"
   ]
  },
  {
   "cell_type": "markdown",
   "metadata": {},
   "source": [
    "### Cluster 0: - Low Value, Low Frequency, High Recency\n",
    "\n",
    "### Cluster 1: - Extremely high values, bought every 3 days\n",
    "\n",
    "### Cluster 2: - High value, but buys at a low frequency and weekly rate\n",
    "\n",
    "### Cluster 3: - Medium value, Medium frequency, Medium recency\n"
   ]
  },
  {
   "cell_type": "code",
   "execution_count": null,
   "metadata": {},
   "outputs": [],
   "source": []
  }
 ],
 "metadata": {
  "kernelspec": {
   "display_name": "Python 3.10.4 ('automl')",
   "language": "python",
   "name": "python3"
  },
  "language_info": {
   "codemirror_mode": {
    "name": "ipython",
    "version": 3
   },
   "file_extension": ".py",
   "mimetype": "text/x-python",
   "name": "python",
   "nbconvert_exporter": "python",
   "pygments_lexer": "ipython3",
   "version": "3.10.4"
  },
  "orig_nbformat": 4,
  "vscode": {
   "interpreter": {
    "hash": "25221b6b9a4d399886f2cc4863e60b0fd11067ce172b33ecf50faf510e9d19c2"
   }
  }
 },
 "nbformat": 4,
 "nbformat_minor": 2
}
